{
 "cells": [
  {
   "cell_type": "code",
   "execution_count": 1,
   "metadata": {},
   "outputs": [],
   "source": [
    "import numpy as np\n",
    "from scipy import ndimage as ndi\n",
    "from skimage.io import imread\n",
    "from skimage.measure import label, find_contours\n",
    "from skimage.morphology import square, binary_dilation\n",
    "from skimage.segmentation import watershed\n",
    "from skimage.feature import peak_local_max\n",
    "from matplotlib import pyplot as plt\n",
    "from tqdm import tqdm\n",
    "from joblib import Parallel, delayed, cpu_count\n",
    "from typing import Tuple\n",
    "import tifffile as tf"
   ]
  },
  {
   "cell_type": "code",
   "execution_count": 2,
   "metadata": {},
   "outputs": [],
   "source": [
    "def edt_from_center_of_mass(img2d: np.ndarray) -> np.ndarray:\n",
    "    assert 2 == len(img2d.shape), img2d.shape\n",
    "    if 0 == img2d.sum():\n",
    "        return img2d\n",
    "    cx, cy = ndi.center_of_mass(img2d)\n",
    "    center_mask = np.ones(img2d.shape[-2:])\n",
    "    center_mask[int(np.floor(cx)), int(np.floor(cy))] = 0\n",
    "    center_edt = ndi.distance_transform_edt(center_mask)\n",
    "    center_edt[np.logical_not(img2d)] = 0\n",
    "    return center_edt\n",
    "\n",
    "def edt_bg_from_particle(img2d: np.ndarray) -> np.ndarray:\n",
    "    assert 2 == len(img2d.shape), img2d.shape\n",
    "    if 0 == img2d.sum():\n",
    "        return img2d\n",
    "    return ndi.distance_transform_edt(img2d == 0)"
   ]
  },
  {
   "cell_type": "code",
   "execution_count": 3,
   "metadata": {},
   "outputs": [],
   "source": [
    "def binary_dilation_with_fixed_overlap(\n",
    "    mask: np.ndarray, dilation_radius: int\n",
    ") -> Tuple[np.ndarray, np.ndarray]:\n",
    "    print(\"# EDT\")\n",
    "    distance = ndi.distance_transform_edt(mask)\n",
    "    print(\"# MAXIMA\")\n",
    "    coords = peak_local_max(distance,\n",
    "                            threshold_abs=22,\n",
    "                            min_distance=20,\n",
    "                            footprint=square(30))\n",
    "    peaks_mask = np.zeros(distance.shape, dtype=bool)\n",
    "    peaks_mask[tuple(coords.T)] = True\n",
    "    peaks_markers, _ = ndi.label(peaks_mask)\n",
    "    print(\"# WATERSHED\")\n",
    "    labels0 = label(mask)\n",
    "    for i in range(1, labels0.max()+1):\n",
    "        if 500 > np.sum(labels0 == i):\n",
    "            labels0[labels0 == i] = 0\n",
    "    labels = watershed(-distance, peaks_markers, mask=mask)+labels0*100\n",
    "    # Re-filter size after watersheding\n",
    "    for i in tqdm(sorted(set(np.unique(labels)))):\n",
    "        if 500 > np.sum(labels == i):\n",
    "            labels[labels == i] = 0\n",
    "    # Relabel to avoid missing labels\n",
    "    for i, v in tqdm(tqdm(enumerate(sorted(set(np.unique(labels)))))):\n",
    "        labels[labels == v] = i\n",
    "    print(\"# SPLIT MASKS\")\n",
    "    single_masks = np.array([i == labels for i in range(0, labels.max()+1)])\n",
    "    single_masks[0, :, :] = np.zeros(single_masks.shape[1:])\n",
    "    print(\"# FILL\")\n",
    "    single_filled_masks = np.array(Parallel(n_jobs=min(20, cpu_count()), verbose=10)(\n",
    "        delayed(ndi.binary_fill_holes)(single_masks[i, :, :])\n",
    "        for i in range(single_masks.shape[0])))\n",
    "    filled_labels = np.zeros(labels.shape)\n",
    "    for i in range(single_filled_masks.shape[0]):\n",
    "        filled_labels += single_filled_masks[i, :, :] * i\n",
    "    filled_labels = filled_labels.astype(\"int64\")\n",
    "    print(\"# DILATE\")\n",
    "    single_dilated_masks = np.array(Parallel(n_jobs=min(20, cpu_count()), verbose=10)(\n",
    "        delayed(binary_dilation)(single_filled_masks[i, :, :], square(30))\n",
    "        for i in range(single_filled_masks.shape[0])))\n",
    "    dilation_sum = single_dilated_masks.sum(0)\n",
    "    print(\"# CERTAIN VALUES\")\n",
    "    certain_pixels = np.logical_and(dilation_sum == 1, np.logical_not(filled_labels != 0))\n",
    "    certain_pixel_values = np.array([single_dilated_masks[i, :, :]*i\n",
    "                                     for i in tqdm(range(single_dilated_masks.shape[0]))])\n",
    "    for i in tqdm(range(certain_pixel_values.shape[0])):\n",
    "        certain_pixel_values[i, np.logical_not(certain_pixels)] = 0\n",
    "    print(\"# UNCERTAIN VALUES\")\n",
    "    uncertain_pixels = np.logical_and(dilation_sum > 1, np.logical_not(filled_labels != 0))\n",
    "    uncertain_coords = np.array(np.where(uncertain_pixels))\n",
    "    print(\"# EDT\")\n",
    "    single_edt = np.array(Parallel(n_jobs=min(20, cpu_count()), verbose=10)(\n",
    "        delayed(edt_bg_from_particle)(single_filled_masks[i, :, :])\n",
    "        for i in range(single_filled_masks.shape[0])))\n",
    "    print(\"# OUTPUT\")\n",
    "    dilated_labels = filled_labels.copy()\n",
    "    # Fix uncertain pixels\n",
    "    for i in tqdm(range(uncertain_coords.shape[1])):\n",
    "        icoords = uncertain_coords.transpose()[i, :]\n",
    "        overlapping_labels = np.where(single_dilated_masks[:, icoords[0], icoords[1]])[0]\n",
    "        selected_label = overlapping_labels[np.argmin(\n",
    "            single_edt[overlapping_labels, icoords[0], icoords[1]])]\n",
    "        dilated_labels[icoords[0], icoords[1]] = selected_label\n",
    "    dilated_labels += certain_pixel_values.sum(0)\n",
    "    return filled_labels, dilated_labels"
   ]
  },
  {
   "cell_type": "code",
   "execution_count": 4,
   "metadata": {},
   "outputs": [],
   "source": [
    "def plot_dilation(labels: np.ndarray, dilated_labels: np.ndarray, image: np.ndarray) -> None:\n",
    "    fig, ax = plt.subplots(figsize=(20, 20))\n",
    "    ax.imshow(image.sum(0)*-1, cmap=\"binary\", interpolation=\"none\")\n",
    "    for i in tqdm(range(1, labels.max()+1)):\n",
    "        for contour in find_contours(labels == i, .5):\n",
    "            ax.plot(contour[:, 1], contour[:, 0], linewidth=1)\n",
    "        for contour in find_contours(dilated_labels == i, .5):\n",
    "            ax.plot(contour[:, 1], contour[:, 0], linewidth=1, linestyle='--')\n",
    "    plt.close(fig)\n",
    "    return fig, ax"
   ]
  },
  {
   "cell_type": "code",
   "execution_count": 5,
   "metadata": {},
   "outputs": [],
   "source": [
    "def run_series(series_id: int) -> None:\n",
    "    mask = imread(f\"../../data/60x_mask/original/a647_{series_id:03d}.tif\").reshape((2048, 2048))\n",
    "    image = imread(f\"/mnt/data/Imaging/202105-Deconwolf/data_210726/60x_dw/a647_{series_id:03d}.tif\")\n",
    "    labels, dilated_labels = binary_dilation_with_fixed_overlap(mask, 30)\n",
    "    return labels, dilated_labels, image"
   ]
  },
  {
   "cell_type": "code",
   "execution_count": 6,
   "metadata": {},
   "outputs": [
    {
     "name": "stdout",
     "output_type": "stream",
     "text": [
      ">>>>> SERIES 1 <<<<<\n",
      "# EDT\n",
      "# MAXIMA\n",
      "# WATERSHED\n"
     ]
    },
    {
     "name": "stderr",
     "output_type": "stream",
     "text": [
      "100%|██████████| 201/201 [00:01<00:00, 100.92it/s]\n",
      "0it [00:00, ?it/s]\n",
      "13it [00:00, 128.81it/s]\n",
      "30it [00:00, 138.82it/s]\u001b[A\n",
      "48it [00:00, 147.43it/s]\u001b[A\n",
      "65it [00:00, 152.93it/s]\u001b[A\n",
      "82it [00:00, 157.15it/s]\u001b[A\n",
      "100it [00:00, 162.09it/s][A\n",
      "118it [00:00, 165.65it/s]\u001b[A\n",
      "135it [00:00, 166.18it/s]\u001b[A\n",
      "153it [00:00, 168.09it/s]\u001b[A\n",
      "171it [00:01, 169.89it/s]\u001b[A\n",
      "182it [00:01, 167.29it/s]\u001b[A\n",
      "182it [00:01, 167.46it/s]\n"
     ]
    },
    {
     "name": "stdout",
     "output_type": "stream",
     "text": [
      "# SPLIT MASKS\n",
      "# FILL\n"
     ]
    },
    {
     "name": "stderr",
     "output_type": "stream",
     "text": [
      "[Parallel(n_jobs=20)]: Using backend LokyBackend with 20 concurrent workers.\n",
      "[Parallel(n_jobs=20)]: Done   1 tasks      | elapsed:    0.7s\n",
      "[Parallel(n_jobs=20)]: Done  10 tasks      | elapsed:    0.9s\n",
      "[Parallel(n_jobs=20)]: Done  21 tasks      | elapsed:    1.0s\n",
      "[Parallel(n_jobs=20)]: Done  32 tasks      | elapsed:    1.2s\n",
      "[Parallel(n_jobs=20)]: Done  45 tasks      | elapsed:    1.4s\n",
      "[Parallel(n_jobs=20)]: Done  58 tasks      | elapsed:    1.6s\n",
      "[Parallel(n_jobs=20)]: Done  73 tasks      | elapsed:    1.8s\n",
      "[Parallel(n_jobs=20)]: Done  88 tasks      | elapsed:    2.0s\n",
      "[Parallel(n_jobs=20)]: Done 105 tasks      | elapsed:    2.3s\n",
      "[Parallel(n_jobs=20)]: Done 122 tasks      | elapsed:    2.6s\n",
      "[Parallel(n_jobs=20)]: Done 141 tasks      | elapsed:    2.8s\n",
      "[Parallel(n_jobs=20)]: Done 162 out of 182 | elapsed:    3.2s remaining:    0.4s\n",
      "[Parallel(n_jobs=20)]: Done 182 out of 182 | elapsed:    3.5s finished\n"
     ]
    },
    {
     "name": "stdout",
     "output_type": "stream",
     "text": [
      "# DILATE\n"
     ]
    },
    {
     "name": "stderr",
     "output_type": "stream",
     "text": [
      "[Parallel(n_jobs=20)]: Using backend LokyBackend with 20 concurrent workers.\n",
      "[Parallel(n_jobs=20)]: Done   1 tasks      | elapsed:    4.7s\n",
      "[Parallel(n_jobs=20)]: Done  10 tasks      | elapsed:    5.1s\n",
      "[Parallel(n_jobs=20)]: Done  21 tasks      | elapsed:    8.9s\n",
      "[Parallel(n_jobs=20)]: Done  32 tasks      | elapsed:    9.4s\n",
      "[Parallel(n_jobs=20)]: Done  45 tasks      | elapsed:   13.5s\n",
      "[Parallel(n_jobs=20)]: Done  58 tasks      | elapsed:   15.6s\n",
      "[Parallel(n_jobs=20)]: Done  73 tasks      | elapsed:   19.0s\n",
      "[Parallel(n_jobs=20)]: Done  88 tasks      | elapsed:   22.6s\n",
      "[Parallel(n_jobs=20)]: Done 105 tasks      | elapsed:   26.6s\n",
      "[Parallel(n_jobs=20)]: Done 122 tasks      | elapsed:   30.8s\n",
      "[Parallel(n_jobs=20)]: Done 141 tasks      | elapsed:   35.0s\n",
      "[Parallel(n_jobs=20)]: Done 162 out of 182 | elapsed:   39.4s remaining:    4.9s\n",
      "[Parallel(n_jobs=20)]: Done 182 out of 182 | elapsed:   43.5s finished\n",
      "  1%|          | 2/182 [00:00<00:09, 19.28it/s]"
     ]
    },
    {
     "name": "stdout",
     "output_type": "stream",
     "text": [
      "# CERTAIN VALUES\n"
     ]
    },
    {
     "name": "stderr",
     "output_type": "stream",
     "text": [
      "100%|██████████| 182/182 [00:15<00:00, 11.40it/s]\n",
      "100%|██████████| 182/182 [00:08<00:00, 20.71it/s]\n",
      "[Parallel(n_jobs=20)]: Using backend LokyBackend with 20 concurrent workers.\n",
      "[Parallel(n_jobs=20)]: Done   1 tasks      | elapsed:    0.1s\n",
      "[Parallel(n_jobs=20)]: Batch computation too fast (0.0670s.) Setting batch_size=2.\n"
     ]
    },
    {
     "name": "stdout",
     "output_type": "stream",
     "text": [
      "# UNCERTAIN VALUES\n",
      "# EDT\n"
     ]
    },
    {
     "name": "stderr",
     "output_type": "stream",
     "text": [
      "[Parallel(n_jobs=20)]: Done  10 tasks      | elapsed:    1.2s\n",
      "[Parallel(n_jobs=20)]: Done  21 tasks      | elapsed:    1.9s\n",
      "[Parallel(n_jobs=20)]: Done  32 tasks      | elapsed:    2.8s\n",
      "[Parallel(n_jobs=20)]: Batch computation too slow (3.6766s.) Setting batch_size=1.\n",
      "[Parallel(n_jobs=20)]: Done  50 tasks      | elapsed:    4.7s\n",
      "[Parallel(n_jobs=20)]: Done  76 tasks      | elapsed:    7.6s\n",
      "[Parallel(n_jobs=20)]: Done 106 tasks      | elapsed:   10.8s\n",
      "[Parallel(n_jobs=20)]: Done 128 tasks      | elapsed:   13.0s\n",
      "[Parallel(n_jobs=20)]: Done 162 out of 182 | elapsed:   16.0s remaining:    2.0s\n",
      "[Parallel(n_jobs=20)]: Done 182 out of 182 | elapsed:   17.6s finished\n",
      "  9%|▉         | 9505/108013 [00:00<00:01, 95045.11it/s]"
     ]
    },
    {
     "name": "stdout",
     "output_type": "stream",
     "text": [
      "# OUTPUT\n"
     ]
    },
    {
     "name": "stderr",
     "output_type": "stream",
     "text": [
      "100%|██████████| 108013/108013 [00:01<00:00, 99755.67it/s]\n",
      "100%|██████████| 181/181 [00:24<00:00,  7.37it/s]\n"
     ]
    },
    {
     "name": "stdout",
     "output_type": "stream",
     "text": [
      ">>>>> SERIES 2 <<<<<\n",
      "# EDT\n",
      "# MAXIMA\n",
      "# WATERSHED\n"
     ]
    },
    {
     "name": "stderr",
     "output_type": "stream",
     "text": [
      "100%|██████████| 227/227 [00:01<00:00, 123.32it/s]\n",
      "0it [00:00, ?it/s]\n",
      "20it [00:00, 198.22it/s]\n",
      "43it [00:00, 205.07it/s]\u001b[A\n",
      "68it [00:00, 216.51it/s]\u001b[A\n",
      "92it [00:00, 222.15it/s]\u001b[A\n",
      "117it [00:00, 229.08it/s][A\n",
      "141it [00:00, 232.21it/s]\u001b[A\n",
      "167it [00:00, 237.97it/s]\u001b[A\n",
      "192it [00:00, 241.35it/s]\u001b[A\n",
      "210it [00:00, 236.25it/s]\u001b[A\n",
      "210it [00:00, 236.54it/s]\n"
     ]
    },
    {
     "name": "stdout",
     "output_type": "stream",
     "text": [
      "# SPLIT MASKS\n",
      "# FILL\n"
     ]
    },
    {
     "name": "stderr",
     "output_type": "stream",
     "text": [
      "[Parallel(n_jobs=20)]: Using backend LokyBackend with 20 concurrent workers.\n",
      "[Parallel(n_jobs=20)]: Done   1 tasks      | elapsed:    0.3s\n",
      "[Parallel(n_jobs=20)]: Done  10 tasks      | elapsed:    0.4s\n",
      "[Parallel(n_jobs=20)]: Done  21 tasks      | elapsed:    0.6s\n",
      "[Parallel(n_jobs=20)]: Done  32 tasks      | elapsed:    0.8s\n",
      "[Parallel(n_jobs=20)]: Done  45 tasks      | elapsed:    1.0s\n",
      "[Parallel(n_jobs=20)]: Done  58 tasks      | elapsed:    1.1s\n",
      "[Parallel(n_jobs=20)]: Done  73 tasks      | elapsed:    1.4s\n",
      "[Parallel(n_jobs=20)]: Done  88 tasks      | elapsed:    1.5s\n",
      "[Parallel(n_jobs=20)]: Done 105 tasks      | elapsed:    1.8s\n",
      "[Parallel(n_jobs=20)]: Done 122 tasks      | elapsed:    2.0s\n",
      "[Parallel(n_jobs=20)]: Done 141 tasks      | elapsed:    2.3s\n",
      "[Parallel(n_jobs=20)]: Done 160 tasks      | elapsed:    2.6s\n",
      "[Parallel(n_jobs=20)]: Done 193 out of 210 | elapsed:    3.0s remaining:    0.3s\n",
      "[Parallel(n_jobs=20)]: Done 210 out of 210 | elapsed:    3.3s finished\n"
     ]
    },
    {
     "name": "stdout",
     "output_type": "stream",
     "text": [
      "# DILATE\n"
     ]
    },
    {
     "name": "stderr",
     "output_type": "stream",
     "text": [
      "[Parallel(n_jobs=20)]: Using backend LokyBackend with 20 concurrent workers.\n",
      "[Parallel(n_jobs=20)]: Done   1 tasks      | elapsed:    4.2s\n",
      "[Parallel(n_jobs=20)]: Done  10 tasks      | elapsed:    4.4s\n",
      "[Parallel(n_jobs=20)]: Done  21 tasks      | elapsed:    8.3s\n",
      "[Parallel(n_jobs=20)]: Done  32 tasks      | elapsed:    8.8s\n",
      "[Parallel(n_jobs=20)]: Done  45 tasks      | elapsed:   12.9s\n",
      "[Parallel(n_jobs=20)]: Done  58 tasks      | elapsed:   15.2s\n",
      "[Parallel(n_jobs=20)]: Done  73 tasks      | elapsed:   18.0s\n",
      "[Parallel(n_jobs=20)]: Done  88 tasks      | elapsed:   21.8s\n",
      "[Parallel(n_jobs=20)]: Done 105 tasks      | elapsed:   25.9s\n",
      "[Parallel(n_jobs=20)]: Done 122 tasks      | elapsed:   29.8s\n",
      "[Parallel(n_jobs=20)]: Done 141 tasks      | elapsed:   34.2s\n",
      "[Parallel(n_jobs=20)]: Done 160 tasks      | elapsed:   38.1s\n",
      "[Parallel(n_jobs=20)]: Done 193 out of 210 | elapsed:   45.2s remaining:    4.0s\n",
      "[Parallel(n_jobs=20)]: Done 210 out of 210 | elapsed:   48.4s finished\n",
      "  4%|▍         | 8/210 [00:00<00:02, 79.70it/s]"
     ]
    },
    {
     "name": "stdout",
     "output_type": "stream",
     "text": [
      "# CERTAIN VALUES\n"
     ]
    },
    {
     "name": "stderr",
     "output_type": "stream",
     "text": [
      "100%|██████████| 210/210 [00:04<00:00, 46.53it/s]\n",
      "100%|██████████| 210/210 [00:09<00:00, 22.37it/s]\n",
      "[Parallel(n_jobs=20)]: Using backend LokyBackend with 20 concurrent workers.\n",
      "[Parallel(n_jobs=20)]: Done   1 tasks      | elapsed:    0.1s\n",
      "[Parallel(n_jobs=20)]: Batch computation too fast (0.0569s.) Setting batch_size=2.\n"
     ]
    },
    {
     "name": "stdout",
     "output_type": "stream",
     "text": [
      "# UNCERTAIN VALUES\n",
      "# EDT\n"
     ]
    },
    {
     "name": "stderr",
     "output_type": "stream",
     "text": [
      "[Parallel(n_jobs=20)]: Done  10 tasks      | elapsed:    1.6s\n",
      "[Parallel(n_jobs=20)]: Done  21 tasks      | elapsed:    2.6s\n",
      "[Parallel(n_jobs=20)]: Done  32 tasks      | elapsed:    3.7s\n",
      "[Parallel(n_jobs=20)]: Batch computation too slow (3.8070s.) Setting batch_size=1.\n",
      "[Parallel(n_jobs=20)]: Done  50 tasks      | elapsed:    5.7s\n",
      "[Parallel(n_jobs=20)]: Done  76 tasks      | elapsed:    8.8s\n",
      "[Parallel(n_jobs=20)]: Done 106 tasks      | elapsed:   12.6s\n",
      "[Parallel(n_jobs=20)]: Done 128 tasks      | elapsed:   14.9s\n",
      "[Parallel(n_jobs=20)]: Done 145 tasks      | elapsed:   16.4s\n",
      "[Parallel(n_jobs=20)]: Done 162 tasks      | elapsed:   18.0s\n",
      "[Parallel(n_jobs=20)]: Done 193 out of 210 | elapsed:   20.9s remaining:    1.8s\n",
      "[Parallel(n_jobs=20)]: Done 210 out of 210 | elapsed:   22.3s finished\n",
      "  7%|▋         | 9867/149257 [00:00<00:01, 98668.21it/s]"
     ]
    },
    {
     "name": "stdout",
     "output_type": "stream",
     "text": [
      "# OUTPUT\n"
     ]
    },
    {
     "name": "stderr",
     "output_type": "stream",
     "text": [
      "100%|██████████| 149257/149257 [00:01<00:00, 94132.54it/s]\n",
      "100%|██████████| 209/209 [00:27<00:00,  7.55it/s]\n"
     ]
    },
    {
     "name": "stdout",
     "output_type": "stream",
     "text": [
      ">>>>> SERIES 3 <<<<<\n",
      "# EDT\n",
      "# MAXIMA\n",
      "# WATERSHED\n"
     ]
    },
    {
     "name": "stderr",
     "output_type": "stream",
     "text": [
      "100%|██████████| 172/172 [00:01<00:00, 124.10it/s]\n",
      "0it [00:00, ?it/s]\n",
      "25it [00:00, 245.98it/s]\n",
      "47it [00:00, 235.51it/s]\u001b[A\n",
      "73it [00:00, 240.21it/s]\u001b[A\n",
      "98it [00:00, 240.59it/s]\u001b[A\n",
      "124it [00:00, 244.34it/s][A\n",
      "150it [00:00, 248.35it/s]\u001b[A\n",
      "158it [00:00, 241.23it/s]\u001b[A\n",
      "158it [00:00, 241.48it/s]\n"
     ]
    },
    {
     "name": "stdout",
     "output_type": "stream",
     "text": [
      "# SPLIT MASKS\n",
      "# FILL\n"
     ]
    },
    {
     "name": "stderr",
     "output_type": "stream",
     "text": [
      "[Parallel(n_jobs=20)]: Using backend LokyBackend with 20 concurrent workers.\n",
      "[Parallel(n_jobs=20)]: Done   1 tasks      | elapsed:    0.3s\n",
      "[Parallel(n_jobs=20)]: Done  10 tasks      | elapsed:    0.4s\n",
      "[Parallel(n_jobs=20)]: Done  21 tasks      | elapsed:    0.6s\n",
      "[Parallel(n_jobs=20)]: Done  32 tasks      | elapsed:    0.7s\n",
      "[Parallel(n_jobs=20)]: Done  45 tasks      | elapsed:    0.9s\n",
      "[Parallel(n_jobs=20)]: Done  58 tasks      | elapsed:    1.0s\n",
      "[Parallel(n_jobs=20)]: Done  73 tasks      | elapsed:    1.2s\n",
      "[Parallel(n_jobs=20)]: Done  88 tasks      | elapsed:    1.4s\n",
      "[Parallel(n_jobs=20)]: Done 105 tasks      | elapsed:    1.7s\n",
      "[Parallel(n_jobs=20)]: Done 135 out of 158 | elapsed:    2.1s remaining:    0.4s\n",
      "[Parallel(n_jobs=20)]: Done 151 out of 158 | elapsed:    2.3s remaining:    0.1s\n",
      "[Parallel(n_jobs=20)]: Done 158 out of 158 | elapsed:    2.4s finished\n"
     ]
    },
    {
     "name": "stdout",
     "output_type": "stream",
     "text": [
      "# DILATE\n"
     ]
    },
    {
     "name": "stderr",
     "output_type": "stream",
     "text": [
      "[Parallel(n_jobs=20)]: Using backend LokyBackend with 20 concurrent workers.\n",
      "[Parallel(n_jobs=20)]: Done   1 tasks      | elapsed:    4.2s\n",
      "[Parallel(n_jobs=20)]: Done  10 tasks      | elapsed:    4.4s\n",
      "[Parallel(n_jobs=20)]: Done  21 tasks      | elapsed:    8.3s\n",
      "[Parallel(n_jobs=20)]: Done  32 tasks      | elapsed:    8.9s\n",
      "[Parallel(n_jobs=20)]: Done  45 tasks      | elapsed:   12.8s\n",
      "[Parallel(n_jobs=20)]: Done  58 tasks      | elapsed:   15.5s\n",
      "[Parallel(n_jobs=20)]: Done  73 tasks      | elapsed:   17.9s\n",
      "[Parallel(n_jobs=20)]: Done  88 tasks      | elapsed:   21.5s\n",
      "[Parallel(n_jobs=20)]: Done 105 tasks      | elapsed:   25.5s\n",
      "[Parallel(n_jobs=20)]: Done 135 out of 158 | elapsed:   31.5s remaining:    5.4s\n",
      "[Parallel(n_jobs=20)]: Done 151 out of 158 | elapsed:   34.4s remaining:    1.6s\n",
      "[Parallel(n_jobs=20)]: Done 158 out of 158 | elapsed:   35.9s finished\n",
      "  4%|▍         | 7/158 [00:00<00:02, 64.98it/s]"
     ]
    },
    {
     "name": "stdout",
     "output_type": "stream",
     "text": [
      "# CERTAIN VALUES\n"
     ]
    },
    {
     "name": "stderr",
     "output_type": "stream",
     "text": [
      "100%|██████████| 158/158 [00:02<00:00, 75.84it/s]\n",
      "100%|██████████| 158/158 [00:08<00:00, 18.46it/s]\n",
      "[Parallel(n_jobs=20)]: Using backend LokyBackend with 20 concurrent workers.\n",
      "[Parallel(n_jobs=20)]: Done   1 tasks      | elapsed:    0.1s\n",
      "[Parallel(n_jobs=20)]: Batch computation too fast (0.0530s.) Setting batch_size=2.\n"
     ]
    },
    {
     "name": "stdout",
     "output_type": "stream",
     "text": [
      "# UNCERTAIN VALUES\n",
      "# EDT\n"
     ]
    },
    {
     "name": "stderr",
     "output_type": "stream",
     "text": [
      "[Parallel(n_jobs=20)]: Done  10 tasks      | elapsed:    1.1s\n",
      "[Parallel(n_jobs=20)]: Done  21 tasks      | elapsed:    1.8s\n",
      "[Parallel(n_jobs=20)]: Done  32 tasks      | elapsed:    2.6s\n",
      "[Parallel(n_jobs=20)]: Batch computation too slow (2.7245s.) Setting batch_size=1.\n",
      "[Parallel(n_jobs=20)]: Done  50 tasks      | elapsed:    4.2s\n",
      "[Parallel(n_jobs=20)]: Done  76 tasks      | elapsed:    7.0s\n",
      "[Parallel(n_jobs=20)]: Done 106 tasks      | elapsed:   10.1s\n",
      "[Parallel(n_jobs=20)]: Done 119 out of 158 | elapsed:   11.4s remaining:    3.7s\n",
      "[Parallel(n_jobs=20)]: Done 135 out of 158 | elapsed:   12.8s remaining:    2.2s\n",
      "[Parallel(n_jobs=20)]: Done 151 out of 158 | elapsed:   14.0s remaining:    0.7s\n",
      "[Parallel(n_jobs=20)]: Done 158 out of 158 | elapsed:   14.6s finished\n",
      " 17%|█▋        | 11763/69559 [00:00<00:00, 117627.03it/s]"
     ]
    },
    {
     "name": "stdout",
     "output_type": "stream",
     "text": [
      "# OUTPUT\n"
     ]
    },
    {
     "name": "stderr",
     "output_type": "stream",
     "text": [
      "100%|██████████| 69559/69559 [00:00<00:00, 114904.36it/s]\n",
      "100%|██████████| 157/157 [00:21<00:00,  7.39it/s]\n"
     ]
    },
    {
     "name": "stdout",
     "output_type": "stream",
     "text": [
      ">>>>> SERIES 4 <<<<<\n",
      "# EDT\n",
      "# MAXIMA\n",
      "# WATERSHED\n"
     ]
    },
    {
     "name": "stderr",
     "output_type": "stream",
     "text": [
      "100%|██████████| 190/190 [00:01<00:00, 122.46it/s]\n",
      "0it [00:00, ?it/s]\n",
      "25it [00:00, 248.88it/s]\n",
      "50it [00:00, 247.96it/s]\u001b[A\n",
      "76it [00:00, 250.92it/s]\u001b[A\n",
      "102it [00:00, 251.11it/s][A\n",
      "128it [00:00, 251.65it/s]\u001b[A\n",
      "154it [00:00, 252.55it/s]\u001b[A\n",
      "174it [00:00, 251.10it/s]\u001b[A\n",
      "174it [00:00, 251.43it/s]\n"
     ]
    },
    {
     "name": "stdout",
     "output_type": "stream",
     "text": [
      "# SPLIT MASKS\n",
      "# FILL\n"
     ]
    },
    {
     "name": "stderr",
     "output_type": "stream",
     "text": [
      "[Parallel(n_jobs=20)]: Using backend LokyBackend with 20 concurrent workers.\n",
      "[Parallel(n_jobs=20)]: Done   1 tasks      | elapsed:    0.3s\n",
      "[Parallel(n_jobs=20)]: Done  10 tasks      | elapsed:    0.4s\n",
      "[Parallel(n_jobs=20)]: Done  21 tasks      | elapsed:    0.5s\n",
      "[Parallel(n_jobs=20)]: Done  32 tasks      | elapsed:    0.6s\n",
      "[Parallel(n_jobs=20)]: Done  45 tasks      | elapsed:    0.9s\n",
      "[Parallel(n_jobs=20)]: Done  58 tasks      | elapsed:    1.0s\n",
      "[Parallel(n_jobs=20)]: Done  73 tasks      | elapsed:    1.2s\n",
      "[Parallel(n_jobs=20)]: Done  88 tasks      | elapsed:    1.4s\n",
      "[Parallel(n_jobs=20)]: Done 105 tasks      | elapsed:    1.7s\n",
      "[Parallel(n_jobs=20)]: Done 122 tasks      | elapsed:    1.9s\n",
      "[Parallel(n_jobs=20)]: Done 153 out of 174 | elapsed:    2.3s remaining:    0.3s\n",
      "[Parallel(n_jobs=20)]: Done 171 out of 174 | elapsed:    2.5s remaining:    0.0s\n",
      "[Parallel(n_jobs=20)]: Done 174 out of 174 | elapsed:    2.6s finished\n"
     ]
    },
    {
     "name": "stdout",
     "output_type": "stream",
     "text": [
      "# DILATE\n"
     ]
    },
    {
     "name": "stderr",
     "output_type": "stream",
     "text": [
      "[Parallel(n_jobs=20)]: Using backend LokyBackend with 20 concurrent workers.\n",
      "[Parallel(n_jobs=20)]: Done   1 tasks      | elapsed:    4.1s\n",
      "[Parallel(n_jobs=20)]: Done  10 tasks      | elapsed:    4.2s\n",
      "[Parallel(n_jobs=20)]: Done  21 tasks      | elapsed:    8.2s\n",
      "[Parallel(n_jobs=20)]: Done  32 tasks      | elapsed:    8.4s\n",
      "[Parallel(n_jobs=20)]: Done  45 tasks      | elapsed:   12.5s\n",
      "[Parallel(n_jobs=20)]: Done  58 tasks      | elapsed:   13.2s\n",
      "[Parallel(n_jobs=20)]: Done  73 tasks      | elapsed:   16.8s\n",
      "[Parallel(n_jobs=20)]: Done  88 tasks      | elapsed:   20.9s\n",
      "[Parallel(n_jobs=20)]: Done 105 tasks      | elapsed:   25.0s\n",
      "[Parallel(n_jobs=20)]: Done 122 tasks      | elapsed:   28.9s\n",
      "[Parallel(n_jobs=20)]: Done 153 out of 174 | elapsed:   33.8s remaining:    4.6s\n",
      "[Parallel(n_jobs=20)]: Done 171 out of 174 | elapsed:   37.8s remaining:    0.7s\n",
      "[Parallel(n_jobs=20)]: Done 174 out of 174 | elapsed:   37.9s finished\n",
      "  5%|▍         | 8/174 [00:00<00:02, 78.60it/s]"
     ]
    },
    {
     "name": "stdout",
     "output_type": "stream",
     "text": [
      "# CERTAIN VALUES\n"
     ]
    },
    {
     "name": "stderr",
     "output_type": "stream",
     "text": [
      "100%|██████████| 174/174 [00:02<00:00, 73.82it/s]\n",
      "100%|██████████| 174/174 [00:07<00:00, 24.42it/s]\n",
      "[Parallel(n_jobs=20)]: Using backend LokyBackend with 20 concurrent workers.\n",
      "[Parallel(n_jobs=20)]: Done   1 tasks      | elapsed:    0.1s\n",
      "[Parallel(n_jobs=20)]: Batch computation too fast (0.0534s.) Setting batch_size=2.\n"
     ]
    },
    {
     "name": "stdout",
     "output_type": "stream",
     "text": [
      "# UNCERTAIN VALUES\n",
      "# EDT\n"
     ]
    },
    {
     "name": "stderr",
     "output_type": "stream",
     "text": [
      "[Parallel(n_jobs=20)]: Done  10 tasks      | elapsed:    1.1s\n",
      "[Parallel(n_jobs=20)]: Done  21 tasks      | elapsed:    1.7s\n",
      "[Parallel(n_jobs=20)]: Done  32 tasks      | elapsed:    2.4s\n",
      "[Parallel(n_jobs=20)]: Batch computation too slow (2.6507s.) Setting batch_size=1.\n",
      "[Parallel(n_jobs=20)]: Done  50 tasks      | elapsed:    4.1s\n",
      "[Parallel(n_jobs=20)]: Done  76 tasks      | elapsed:    6.9s\n",
      "[Parallel(n_jobs=20)]: Done 106 tasks      | elapsed:   10.3s\n",
      "[Parallel(n_jobs=20)]: Done 128 tasks      | elapsed:   12.3s\n",
      "[Parallel(n_jobs=20)]: Done 153 out of 174 | elapsed:   14.4s remaining:    2.0s\n",
      "[Parallel(n_jobs=20)]: Done 171 out of 174 | elapsed:   15.9s remaining:    0.3s\n",
      "[Parallel(n_jobs=20)]: Done 174 out of 174 | elapsed:   16.2s finished\n",
      "  9%|▊         | 8301/96719 [00:00<00:01, 83008.30it/s]"
     ]
    },
    {
     "name": "stdout",
     "output_type": "stream",
     "text": [
      "# OUTPUT\n"
     ]
    },
    {
     "name": "stderr",
     "output_type": "stream",
     "text": [
      "100%|██████████| 96719/96719 [00:01<00:00, 91022.48it/s]\n",
      "100%|██████████| 173/173 [00:24<00:00,  7.19it/s]\n"
     ]
    },
    {
     "name": "stdout",
     "output_type": "stream",
     "text": [
      ">>>>> SERIES 5 <<<<<\n",
      "# EDT\n",
      "# MAXIMA\n",
      "# WATERSHED\n"
     ]
    },
    {
     "name": "stderr",
     "output_type": "stream",
     "text": [
      "100%|██████████| 228/228 [00:01<00:00, 116.35it/s]\n",
      "0it [00:00, ?it/s]\n",
      "22it [00:00, 216.98it/s]\n",
      "47it [00:00, 225.82it/s]\u001b[A\n",
      "73it [00:00, 233.90it/s]\u001b[A\n",
      "97it [00:00, 234.99it/s]\u001b[A\n",
      "122it [00:00, 238.91it/s][A\n",
      "148it [00:00, 243.55it/s]\u001b[A\n",
      "174it [00:00, 246.87it/s]\u001b[A\n",
      "199it [00:00, 247.76it/s]\u001b[A\n",
      "213it [00:00, 243.20it/s]\u001b[A\n",
      "213it [00:00, 243.33it/s]\n"
     ]
    },
    {
     "name": "stdout",
     "output_type": "stream",
     "text": [
      "# SPLIT MASKS\n",
      "# FILL\n"
     ]
    },
    {
     "name": "stderr",
     "output_type": "stream",
     "text": [
      "[Parallel(n_jobs=20)]: Using backend LokyBackend with 20 concurrent workers.\n",
      "[Parallel(n_jobs=20)]: Done   1 tasks      | elapsed:    0.3s\n",
      "[Parallel(n_jobs=20)]: Done  10 tasks      | elapsed:    0.3s\n",
      "[Parallel(n_jobs=20)]: Done  21 tasks      | elapsed:    0.5s\n",
      "[Parallel(n_jobs=20)]: Done  32 tasks      | elapsed:    0.7s\n",
      "[Parallel(n_jobs=20)]: Done  45 tasks      | elapsed:    0.9s\n",
      "[Parallel(n_jobs=20)]: Done  58 tasks      | elapsed:    1.0s\n",
      "[Parallel(n_jobs=20)]: Done  73 tasks      | elapsed:    1.2s\n",
      "[Parallel(n_jobs=20)]: Done  88 tasks      | elapsed:    1.4s\n",
      "[Parallel(n_jobs=20)]: Done 105 tasks      | elapsed:    1.7s\n",
      "[Parallel(n_jobs=20)]: Done 122 tasks      | elapsed:    1.9s\n",
      "[Parallel(n_jobs=20)]: Done 141 tasks      | elapsed:    2.2s\n",
      "[Parallel(n_jobs=20)]: Done 160 tasks      | elapsed:    2.4s\n",
      "[Parallel(n_jobs=20)]: Done 196 out of 213 | elapsed:    2.9s remaining:    0.3s\n",
      "[Parallel(n_jobs=20)]: Done 213 out of 213 | elapsed:    3.1s finished\n"
     ]
    },
    {
     "name": "stdout",
     "output_type": "stream",
     "text": [
      "# DILATE\n"
     ]
    },
    {
     "name": "stderr",
     "output_type": "stream",
     "text": [
      "[Parallel(n_jobs=20)]: Using backend LokyBackend with 20 concurrent workers.\n",
      "[Parallel(n_jobs=20)]: Done   1 tasks      | elapsed:    4.2s\n",
      "[Parallel(n_jobs=20)]: Done  10 tasks      | elapsed:    4.4s\n",
      "[Parallel(n_jobs=20)]: Done  21 tasks      | elapsed:    8.4s\n",
      "[Parallel(n_jobs=20)]: Done  32 tasks      | elapsed:    8.9s\n",
      "[Parallel(n_jobs=20)]: Done  45 tasks      | elapsed:   13.0s\n",
      "[Parallel(n_jobs=20)]: Done  58 tasks      | elapsed:   14.2s\n",
      "[Parallel(n_jobs=20)]: Done  73 tasks      | elapsed:   17.8s\n",
      "[Parallel(n_jobs=20)]: Done  88 tasks      | elapsed:   22.0s\n",
      "[Parallel(n_jobs=20)]: Done 105 tasks      | elapsed:   26.2s\n",
      "[Parallel(n_jobs=20)]: Done 122 tasks      | elapsed:   29.7s\n",
      "[Parallel(n_jobs=20)]: Done 141 tasks      | elapsed:   33.6s\n",
      "[Parallel(n_jobs=20)]: Done 160 tasks      | elapsed:   36.4s\n",
      "[Parallel(n_jobs=20)]: Done 196 out of 213 | elapsed:   44.0s remaining:    3.8s\n",
      "[Parallel(n_jobs=20)]: Done 213 out of 213 | elapsed:   47.5s finished\n",
      "  4%|▍         | 9/213 [00:00<00:02, 80.73it/s]"
     ]
    },
    {
     "name": "stdout",
     "output_type": "stream",
     "text": [
      "# CERTAIN VALUES\n"
     ]
    },
    {
     "name": "stderr",
     "output_type": "stream",
     "text": [
      "100%|██████████| 213/213 [00:02<00:00, 76.25it/s]\n",
      "100%|██████████| 213/213 [00:08<00:00, 26.04it/s]\n",
      "[Parallel(n_jobs=20)]: Using backend LokyBackend with 20 concurrent workers.\n",
      "[Parallel(n_jobs=20)]: Done   1 tasks      | elapsed:    0.0s\n",
      "[Parallel(n_jobs=20)]: Batch computation too fast (0.0470s.) Setting batch_size=2.\n"
     ]
    },
    {
     "name": "stdout",
     "output_type": "stream",
     "text": [
      "# UNCERTAIN VALUES\n",
      "# EDT\n"
     ]
    },
    {
     "name": "stderr",
     "output_type": "stream",
     "text": [
      "[Parallel(n_jobs=20)]: Done  10 tasks      | elapsed:    1.1s\n",
      "[Parallel(n_jobs=20)]: Done  21 tasks      | elapsed:    1.9s\n",
      "[Parallel(n_jobs=20)]: Done  32 tasks      | elapsed:    2.7s\n",
      "[Parallel(n_jobs=20)]: Batch computation too slow (2.4750s.) Setting batch_size=1.\n",
      "[Parallel(n_jobs=20)]: Done  51 tasks      | elapsed:    4.6s\n",
      "[Parallel(n_jobs=20)]: Done  76 tasks      | elapsed:    7.2s\n",
      "[Parallel(n_jobs=20)]: Done 106 tasks      | elapsed:   10.4s\n",
      "[Parallel(n_jobs=20)]: Done 128 tasks      | elapsed:   12.6s\n",
      "[Parallel(n_jobs=20)]: Done 145 tasks      | elapsed:   14.2s\n",
      "[Parallel(n_jobs=20)]: Done 162 tasks      | elapsed:   15.7s\n",
      "[Parallel(n_jobs=20)]: Done 196 out of 213 | elapsed:   19.0s remaining:    1.6s\n",
      "[Parallel(n_jobs=20)]: Done 213 out of 213 | elapsed:   20.5s finished\n",
      "  8%|▊         | 9446/122653 [00:00<00:01, 94456.71it/s]"
     ]
    },
    {
     "name": "stdout",
     "output_type": "stream",
     "text": [
      "# OUTPUT\n"
     ]
    },
    {
     "name": "stderr",
     "output_type": "stream",
     "text": [
      "100%|██████████| 122653/122653 [00:01<00:00, 92947.28it/s]\n",
      "100%|██████████| 343/343 [00:41<00:00,  8.25it/s]\n"
     ]
    },
    {
     "name": "stdout",
     "output_type": "stream",
     "text": [
      ">>>>> SERIES 6 <<<<<\n",
      "# EDT\n",
      "# MAXIMA\n",
      "# WATERSHED\n"
     ]
    },
    {
     "name": "stderr",
     "output_type": "stream",
     "text": [
      "100%|██████████| 225/225 [00:01<00:00, 126.64it/s]\n",
      "0it [00:00, ?it/s]\n",
      "0it [00:00, ?it/s]\u001b[A\n",
      "25it [00:00, 240.50it/s]\u001b[A\n",
      "51it [00:00, 244.73it/s]\u001b[A\n",
      "78it [00:00, 250.33it/s]\u001b[A\n",
      "104it [00:00, 252.51it/s]\u001b[A\n",
      "129it [00:00, 251.08it/s]\u001b[A\n",
      "154it [00:00, 250.24it/s]\u001b[A\n",
      "179it [00:00, 249.34it/s]\u001b[A\n",
      "212it [00:00, 253.07it/s]\u001b[A\n",
      "212it [00:00, 253.22it/s]\n"
     ]
    },
    {
     "name": "stdout",
     "output_type": "stream",
     "text": [
      "# SPLIT MASKS\n",
      "# FILL\n"
     ]
    },
    {
     "name": "stderr",
     "output_type": "stream",
     "text": [
      "[Parallel(n_jobs=20)]: Using backend LokyBackend with 20 concurrent workers.\n",
      "[Parallel(n_jobs=20)]: Done   1 tasks      | elapsed:    0.3s\n",
      "[Parallel(n_jobs=20)]: Done  10 tasks      | elapsed:    0.4s\n",
      "[Parallel(n_jobs=20)]: Done  21 tasks      | elapsed:    0.5s\n",
      "[Parallel(n_jobs=20)]: Done  32 tasks      | elapsed:    0.7s\n",
      "[Parallel(n_jobs=20)]: Done  45 tasks      | elapsed:    0.9s\n",
      "[Parallel(n_jobs=20)]: Done  58 tasks      | elapsed:    1.0s\n",
      "[Parallel(n_jobs=20)]: Done  73 tasks      | elapsed:    1.3s\n",
      "[Parallel(n_jobs=20)]: Done  88 tasks      | elapsed:    1.5s\n",
      "[Parallel(n_jobs=20)]: Done 105 tasks      | elapsed:    1.7s\n",
      "[Parallel(n_jobs=20)]: Done 122 tasks      | elapsed:    2.0s\n",
      "[Parallel(n_jobs=20)]: Done 141 tasks      | elapsed:    2.2s\n",
      "[Parallel(n_jobs=20)]: Done 160 tasks      | elapsed:    2.6s\n",
      "[Parallel(n_jobs=20)]: Done 195 out of 212 | elapsed:    3.1s remaining:    0.3s\n",
      "[Parallel(n_jobs=20)]: Done 212 out of 212 | elapsed:    3.3s finished\n"
     ]
    },
    {
     "name": "stdout",
     "output_type": "stream",
     "text": [
      "# DILATE\n"
     ]
    },
    {
     "name": "stderr",
     "output_type": "stream",
     "text": [
      "[Parallel(n_jobs=20)]: Using backend LokyBackend with 20 concurrent workers.\n",
      "[Parallel(n_jobs=20)]: Done   1 tasks      | elapsed:    4.1s\n",
      "[Parallel(n_jobs=20)]: Done  10 tasks      | elapsed:    4.3s\n",
      "[Parallel(n_jobs=20)]: Done  21 tasks      | elapsed:    8.2s\n",
      "[Parallel(n_jobs=20)]: Done  32 tasks      | elapsed:    8.5s\n",
      "[Parallel(n_jobs=20)]: Done  45 tasks      | elapsed:   12.6s\n",
      "[Parallel(n_jobs=20)]: Done  58 tasks      | elapsed:   13.3s\n",
      "[Parallel(n_jobs=20)]: Done  73 tasks      | elapsed:   16.9s\n",
      "[Parallel(n_jobs=20)]: Done  88 tasks      | elapsed:   20.9s\n",
      "[Parallel(n_jobs=20)]: Done 105 tasks      | elapsed:   25.0s\n",
      "[Parallel(n_jobs=20)]: Done 122 tasks      | elapsed:   29.0s\n",
      "[Parallel(n_jobs=20)]: Done 141 tasks      | elapsed:   33.0s\n",
      "[Parallel(n_jobs=20)]: Done 160 tasks      | elapsed:   34.4s\n",
      "[Parallel(n_jobs=20)]: Done 195 out of 212 | elapsed:   42.5s remaining:    3.7s\n",
      "[Parallel(n_jobs=20)]: Done 212 out of 212 | elapsed:   46.1s finished\n",
      "  4%|▍         | 8/212 [00:00<00:02, 78.00it/s]"
     ]
    },
    {
     "name": "stdout",
     "output_type": "stream",
     "text": [
      "# CERTAIN VALUES\n"
     ]
    },
    {
     "name": "stderr",
     "output_type": "stream",
     "text": [
      "100%|██████████| 212/212 [00:02<00:00, 76.19it/s]\n",
      "100%|██████████| 212/212 [00:07<00:00, 26.85it/s]\n",
      "[Parallel(n_jobs=20)]: Using backend LokyBackend with 20 concurrent workers.\n",
      "[Parallel(n_jobs=20)]: Done   1 tasks      | elapsed:    0.1s\n",
      "[Parallel(n_jobs=20)]: Batch computation too fast (0.0519s.) Setting batch_size=2.\n"
     ]
    },
    {
     "name": "stdout",
     "output_type": "stream",
     "text": [
      "# UNCERTAIN VALUES\n",
      "# EDT\n"
     ]
    },
    {
     "name": "stderr",
     "output_type": "stream",
     "text": [
      "[Parallel(n_jobs=20)]: Done  10 tasks      | elapsed:    1.1s\n",
      "[Parallel(n_jobs=20)]: Done  21 tasks      | elapsed:    1.8s\n",
      "[Parallel(n_jobs=20)]: Done  32 tasks      | elapsed:    2.6s\n",
      "[Parallel(n_jobs=20)]: Batch computation too slow (3.3629s.) Setting batch_size=1.\n",
      "[Parallel(n_jobs=20)]: Done  50 tasks      | elapsed:    4.4s\n",
      "[Parallel(n_jobs=20)]: Done  76 tasks      | elapsed:    7.1s\n",
      "[Parallel(n_jobs=20)]: Done 106 tasks      | elapsed:   10.2s\n",
      "[Parallel(n_jobs=20)]: Done 128 tasks      | elapsed:   12.3s\n",
      "[Parallel(n_jobs=20)]: Done 145 tasks      | elapsed:   13.8s\n",
      "[Parallel(n_jobs=20)]: Done 162 tasks      | elapsed:   15.2s\n",
      "[Parallel(n_jobs=20)]: Done 195 out of 212 | elapsed:   18.0s remaining:    1.6s\n",
      "[Parallel(n_jobs=20)]: Done 212 out of 212 | elapsed:   19.3s finished\n",
      "  8%|▊         | 9718/121769 [00:00<00:01, 97177.31it/s]"
     ]
    },
    {
     "name": "stdout",
     "output_type": "stream",
     "text": [
      "# OUTPUT\n"
     ]
    },
    {
     "name": "stderr",
     "output_type": "stream",
     "text": [
      "100%|██████████| 121769/121769 [00:01<00:00, 95073.90it/s]\n",
      "100%|██████████| 211/211 [00:25<00:00,  8.38it/s]\n"
     ]
    },
    {
     "name": "stdout",
     "output_type": "stream",
     "text": [
      ">>>>> SERIES 7 <<<<<\n",
      "# EDT\n",
      "# MAXIMA\n",
      "# WATERSHED\n"
     ]
    },
    {
     "name": "stderr",
     "output_type": "stream",
     "text": [
      "100%|██████████| 238/238 [00:01<00:00, 127.81it/s]\n",
      "0it [00:00, ?it/s]\n",
      "0it [00:00, ?it/s]\u001b[A\n",
      "27it [00:00, 255.38it/s]\u001b[A\n",
      "50it [00:00, 244.82it/s]\u001b[A\n",
      "75it [00:00, 245.42it/s]\u001b[A\n",
      "102it [00:00, 252.21it/s]\u001b[A\n",
      "129it [00:00, 256.61it/s]\u001b[A\n",
      "156it [00:00, 258.20it/s]\u001b[A\n",
      "183it [00:00, 259.67it/s]\u001b[A\n",
      "223it [00:00, 250.92it/s]\u001b[A\n",
      "223it [00:00, 251.18it/s]\n"
     ]
    },
    {
     "name": "stdout",
     "output_type": "stream",
     "text": [
      "# SPLIT MASKS\n",
      "# FILL\n"
     ]
    },
    {
     "name": "stderr",
     "output_type": "stream",
     "text": [
      "[Parallel(n_jobs=20)]: Using backend LokyBackend with 20 concurrent workers.\n",
      "[Parallel(n_jobs=20)]: Done   1 tasks      | elapsed:    0.3s\n",
      "[Parallel(n_jobs=20)]: Done  10 tasks      | elapsed:    0.4s\n",
      "[Parallel(n_jobs=20)]: Done  21 tasks      | elapsed:    0.6s\n",
      "[Parallel(n_jobs=20)]: Done  32 tasks      | elapsed:    0.7s\n",
      "[Parallel(n_jobs=20)]: Done  45 tasks      | elapsed:    0.9s\n",
      "[Parallel(n_jobs=20)]: Done  58 tasks      | elapsed:    1.1s\n",
      "[Parallel(n_jobs=20)]: Done  73 tasks      | elapsed:    1.3s\n",
      "[Parallel(n_jobs=20)]: Done  88 tasks      | elapsed:    1.5s\n",
      "[Parallel(n_jobs=20)]: Done 105 tasks      | elapsed:    1.8s\n",
      "[Parallel(n_jobs=20)]: Done 122 tasks      | elapsed:    2.1s\n",
      "[Parallel(n_jobs=20)]: Done 141 tasks      | elapsed:    2.4s\n",
      "[Parallel(n_jobs=20)]: Done 160 tasks      | elapsed:    2.6s\n",
      "[Parallel(n_jobs=20)]: Done 181 tasks      | elapsed:    2.9s\n",
      "[Parallel(n_jobs=20)]: Done 207 out of 223 | elapsed:    3.3s remaining:    0.3s\n",
      "[Parallel(n_jobs=20)]: Done 223 out of 223 | elapsed:    3.6s finished\n"
     ]
    },
    {
     "name": "stdout",
     "output_type": "stream",
     "text": [
      "# DILATE\n"
     ]
    },
    {
     "name": "stderr",
     "output_type": "stream",
     "text": [
      "[Parallel(n_jobs=20)]: Using backend LokyBackend with 20 concurrent workers.\n",
      "[Parallel(n_jobs=20)]: Done   1 tasks      | elapsed:    4.2s\n",
      "[Parallel(n_jobs=20)]: Done  10 tasks      | elapsed:    4.4s\n",
      "[Parallel(n_jobs=20)]: Done  21 tasks      | elapsed:    8.3s\n",
      "[Parallel(n_jobs=20)]: Done  32 tasks      | elapsed:    8.9s\n",
      "[Parallel(n_jobs=20)]: Done  45 tasks      | elapsed:   13.0s\n",
      "[Parallel(n_jobs=20)]: Done  58 tasks      | elapsed:   15.0s\n",
      "[Parallel(n_jobs=20)]: Done  73 tasks      | elapsed:   18.6s\n",
      "[Parallel(n_jobs=20)]: Done  88 tasks      | elapsed:   22.3s\n",
      "[Parallel(n_jobs=20)]: Done 105 tasks      | elapsed:   26.4s\n",
      "[Parallel(n_jobs=20)]: Done 122 tasks      | elapsed:   30.0s\n",
      "[Parallel(n_jobs=20)]: Done 141 tasks      | elapsed:   34.2s\n",
      "[Parallel(n_jobs=20)]: Done 160 tasks      | elapsed:   38.4s\n",
      "[Parallel(n_jobs=20)]: Done 181 tasks      | elapsed:   43.6s\n",
      "[Parallel(n_jobs=20)]: Done 207 out of 223 | elapsed:   48.8s remaining:    3.8s\n",
      "[Parallel(n_jobs=20)]: Done 223 out of 223 | elapsed:   52.8s finished\n",
      "  4%|▎         | 8/223 [00:00<00:02, 75.89it/s]"
     ]
    },
    {
     "name": "stdout",
     "output_type": "stream",
     "text": [
      "# CERTAIN VALUES\n"
     ]
    },
    {
     "name": "stderr",
     "output_type": "stream",
     "text": [
      "100%|██████████| 223/223 [00:03<00:00, 66.75it/s]\n",
      "100%|██████████| 223/223 [00:08<00:00, 27.27it/s]\n",
      "[Parallel(n_jobs=20)]: Using backend LokyBackend with 20 concurrent workers.\n",
      "[Parallel(n_jobs=20)]: Done   1 tasks      | elapsed:    0.0s\n",
      "[Parallel(n_jobs=20)]: Batch computation too fast (0.0344s.) Setting batch_size=2.\n"
     ]
    },
    {
     "name": "stdout",
     "output_type": "stream",
     "text": [
      "# UNCERTAIN VALUES\n",
      "# EDT\n"
     ]
    },
    {
     "name": "stderr",
     "output_type": "stream",
     "text": [
      "[Parallel(n_jobs=20)]: Done  10 tasks      | elapsed:    1.1s\n",
      "[Parallel(n_jobs=20)]: Done  21 tasks      | elapsed:    1.8s\n",
      "[Parallel(n_jobs=20)]: Done  32 tasks      | elapsed:    2.6s\n",
      "[Parallel(n_jobs=20)]: Batch computation too slow (2.9552s.) Setting batch_size=1.\n",
      "[Parallel(n_jobs=20)]: Done  50 tasks      | elapsed:    4.5s\n",
      "[Parallel(n_jobs=20)]: Done  76 tasks      | elapsed:    7.4s\n",
      "[Parallel(n_jobs=20)]: Done 106 tasks      | elapsed:   10.6s\n",
      "[Parallel(n_jobs=20)]: Done 128 tasks      | elapsed:   12.8s\n",
      "[Parallel(n_jobs=20)]: Done 145 tasks      | elapsed:   14.4s\n",
      "[Parallel(n_jobs=20)]: Done 162 tasks      | elapsed:   16.0s\n",
      "[Parallel(n_jobs=20)]: Done 181 tasks      | elapsed:   17.8s\n",
      "[Parallel(n_jobs=20)]: Done 207 out of 223 | elapsed:   20.3s remaining:    1.6s\n",
      "[Parallel(n_jobs=20)]: Done 223 out of 223 | elapsed:   21.7s finished\n",
      "  7%|▋         | 9111/123165 [00:00<00:01, 91108.35it/s]"
     ]
    },
    {
     "name": "stdout",
     "output_type": "stream",
     "text": [
      "# OUTPUT\n"
     ]
    },
    {
     "name": "stderr",
     "output_type": "stream",
     "text": [
      "100%|██████████| 123165/123165 [00:01<00:00, 78074.29it/s]\n",
      "100%|██████████| 222/222 [00:27<00:00,  8.10it/s]\n"
     ]
    }
   ],
   "source": [
    "for i in range(1, 8):\n",
    "    print(f\">>>>> SERIES {i} <<<<<\")\n",
    "    labels, dilated_labels, image = run_series(i)\n",
    "    fig, ax = plot_dilation(labels, dilated_labels, image)\n",
    "    tf.imwrite(f\"../../data/60x_mask/labels/a647_{i:03d}.labels.tiff\",\n",
    "               labels.astype(\"uint16\"), software=\"GG20210811\")\n",
    "    tf.imwrite(f\"../../data/60x_mask/dilated_labels_watershed/a647_{i:03d}.dilated_labels.tiff\",\n",
    "               dilated_labels.astype(\"uint16\"), software=\"GG20210811\")\n",
    "    fig.savefig(f\"../../data/60x_mask/dilated_labels_watershed_contours/a647_{i:03d}.contours.png\")"
   ]
  }
 ],
 "metadata": {
  "kernelspec": {
   "display_name": "Python 3",
   "language": "python",
   "name": "python3"
  },
  "language_info": {
   "codemirror_mode": {
    "name": "ipython",
    "version": 3
   },
   "file_extension": ".py",
   "mimetype": "text/x-python",
   "name": "python",
   "nbconvert_exporter": "python",
   "pygments_lexer": "ipython3",
   "version": "3.7.4"
  }
 },
 "nbformat": 4,
 "nbformat_minor": 4
}
