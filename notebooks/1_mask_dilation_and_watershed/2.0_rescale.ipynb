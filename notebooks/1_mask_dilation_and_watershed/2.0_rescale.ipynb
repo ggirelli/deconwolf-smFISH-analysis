{
 "cells": [
  {
   "cell_type": "code",
   "execution_count": 1,
   "metadata": {},
   "outputs": [],
   "source": [
    "import os\n",
    "from skimage.io import imread\n",
    "from skimage.transform import rescale\n",
    "import tifffile as tf\n",
    "from tqdm import tqdm"
   ]
  },
  {
   "cell_type": "markdown",
   "metadata": {},
   "source": [
    "#### Rescaling masks dilated from 60x to 20x"
   ]
  },
  {
   "cell_type": "code",
   "execution_count": 2,
   "metadata": {},
   "outputs": [
    {
     "name": "stderr",
     "output_type": "stream",
     "text": [
      "100%|██████████| 7/7 [00:00<00:00, 27.66it/s]\n"
     ]
    }
   ],
   "source": [
    "ipath = \"../../data/60x_mask/dilated_labels_watershed/\"\n",
    "opath = \"../../data/20x_mask/dilated_labels_watershed_from60x/\"\n",
    "flist = os.listdir(ipath)\n",
    "for fname in tqdm(flist):\n",
    "    img = imread(os.path.join(ipath, fname)).astype(\"uint8\")\n",
    "    rescaled_img = rescale(img, 684/2048, anti_aliasing=False, preserve_range=True)\n",
    "    tf.imwrite(os.path.join(opath, f\"{fname.split('.')[0]}.dilated_labels.from_60x.tiff\"),\n",
    "               rescaled_img.astype(\"uint8\"), software=\"GG20210811\")"
   ]
  },
  {
   "cell_type": "code",
   "execution_count": 3,
   "metadata": {},
   "outputs": [
    {
     "name": "stderr",
     "output_type": "stream",
     "text": [
      "100%|██████████| 7/7 [00:00<00:00, 28.44it/s]\n"
     ]
    }
   ],
   "source": [
    "ipath = \"../../data/60x_mask/labels/\"\n",
    "opath = \"../../data/20x_mask/labels_from60x/\"\n",
    "flist = os.listdir(ipath)\n",
    "for fname in tqdm(flist):\n",
    "    img = imread(os.path.join(ipath, fname)).astype(\"uint8\")\n",
    "    rescaled_img = rescale(img, 684/2048, anti_aliasing=False, preserve_range=True)\n",
    "    tf.imwrite(os.path.join(opath, f\"{fname.split('.')[0]}.labels.from_60x.tiff\"),\n",
    "               rescaled_img.astype(\"uint8\"), software=\"GG20210811\")"
   ]
  }
 ],
 "metadata": {
  "kernelspec": {
   "display_name": "Python 3",
   "language": "python",
   "name": "python3"
  },
  "language_info": {
   "codemirror_mode": {
    "name": "ipython",
    "version": 3
   },
   "file_extension": ".py",
   "mimetype": "text/x-python",
   "name": "python",
   "nbconvert_exporter": "python",
   "pygments_lexer": "ipython3",
   "version": "3.7.4"
  }
 },
 "nbformat": 4,
 "nbformat_minor": 4
}
