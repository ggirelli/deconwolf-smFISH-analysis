{
 "cells": [
  {
   "cell_type": "code",
   "execution_count": 1,
   "metadata": {},
   "outputs": [],
   "source": [
    "import numpy as np\n",
    "from scipy import ndimage as ndi\n",
    "from skimage.io import imread\n",
    "from skimage.measure import label, find_contours\n",
    "from skimage.morphology import square, binary_dilation\n",
    "from skimage.segmentation import watershed\n",
    "from skimage.feature import peak_local_max\n",
    "from matplotlib import pyplot as plt\n",
    "from tqdm import tqdm\n",
    "from joblib import Parallel, delayed, cpu_count\n",
    "from typing import Tuple\n",
    "import tifffile as tf"
   ]
  },
  {
   "cell_type": "code",
   "execution_count": 2,
   "metadata": {},
   "outputs": [],
   "source": [
    "def edt_from_center_of_mass(img2d: np.ndarray) -> np.ndarray:\n",
    "    assert 2 == len(img2d.shape), img2d.shape\n",
    "    if 0 == img2d.sum():\n",
    "        return img2d\n",
    "    cx, cy = ndi.center_of_mass(img2d)\n",
    "    center_mask = np.ones(img2d.shape[-2:])\n",
    "    center_mask[int(np.floor(cx)), int(np.floor(cy))] = 0\n",
    "    center_edt = ndi.distance_transform_edt(center_mask)\n",
    "    center_edt[np.logical_not(img2d)] = 0\n",
    "    return center_edt\n",
    "\n",
    "def edt_bg_from_particle(img2d: np.ndarray) -> np.ndarray:\n",
    "    assert 2 == len(img2d.shape), img2d.shape\n",
    "    if 0 == img2d.sum():\n",
    "        return img2d\n",
    "    return ndi.distance_transform_edt(img2d == 0)"
   ]
  },
  {
   "cell_type": "code",
   "execution_count": 3,
   "metadata": {},
   "outputs": [],
   "source": [
    "def binary_dilation_with_fixed_overlap(\n",
    "    mask: np.ndarray, dilation_radius: int\n",
    ") -> Tuple[np.ndarray, np.ndarray]:\n",
    "    print(\"# EDT\")\n",
    "    distance = ndi.distance_transform_edt(mask)\n",
    "    print(\"# MAXIMA\")\n",
    "    coords = peak_local_max(distance,\n",
    "                            threshold_abs=22,\n",
    "                            min_distance=20,\n",
    "                            footprint=square(30))\n",
    "    peaks_mask = np.zeros(distance.shape, dtype=bool)\n",
    "    peaks_mask[tuple(coords.T)] = True\n",
    "    peaks_markers, _ = ndi.label(peaks_mask)\n",
    "    print(\"# WATERSHED\")\n",
    "    labels0 = label(mask)\n",
    "    for i in range(1, labels0.max()+1):\n",
    "        if 500 > np.sum(labels0 == i):\n",
    "            labels0[labels0 == i] = 0\n",
    "    labels = watershed(-distance, peaks_markers, mask=mask)+labels0*100\n",
    "    # Re-filter size after watersheding\n",
    "    for i in tqdm(sorted(set(np.unique(labels)))):\n",
    "        if 500 > np.sum(labels == i):\n",
    "            labels[labels == i] = 0\n",
    "    # Relabel to avoid missing labels\n",
    "    for i, v in tqdm(tqdm(enumerate(sorted(set(np.unique(labels)))))):\n",
    "        labels[labels == v] = i\n",
    "    print(\"# SPLIT MASKS\")\n",
    "    single_masks = np.array([i == labels for i in range(0, labels.max()+1)])\n",
    "    single_masks[0, :, :] = np.zeros(single_masks.shape[1:])\n",
    "    print(\"# FILL\")\n",
    "    single_filled_masks = np.array(Parallel(n_jobs=min(20, cpu_count()), verbose=10)(\n",
    "        delayed(ndi.binary_fill_holes)(single_masks[i, :, :])\n",
    "        for i in range(single_masks.shape[0])))\n",
    "    filled_labels = np.zeros(labels.shape)\n",
    "    for i in range(single_filled_masks.shape[0]):\n",
    "        filled_labels += single_filled_masks[i, :, :] * i\n",
    "    filled_labels = filled_labels.astype(\"int64\")\n",
    "    print(\"# DILATE\")\n",
    "    single_dilated_masks = np.array(Parallel(n_jobs=min(20, cpu_count()), verbose=10)(\n",
    "        delayed(binary_dilation)(single_filled_masks[i, :, :], square(30))\n",
    "        for i in range(single_filled_masks.shape[0])))\n",
    "    dilation_sum = single_dilated_masks.sum(0)\n",
    "    print(\"# CERTAIN VALUES\")\n",
    "    certain_pixels = np.logical_and(dilation_sum == 1, np.logical_not(filled_labels != 0))\n",
    "    certain_pixel_values = np.array([single_dilated_masks[i, :, :]*i\n",
    "                                     for i in tqdm(range(single_dilated_masks.shape[0]))])\n",
    "    for i in tqdm(range(certain_pixel_values.shape[0])):\n",
    "        certain_pixel_values[i, np.logical_not(certain_pixels)] = 0\n",
    "    print(\"# UNCERTAIN VALUES\")\n",
    "    uncertain_pixels = np.logical_and(dilation_sum > 1, np.logical_not(filled_labels != 0))\n",
    "    uncertain_coords = np.array(np.where(uncertain_pixels))\n",
    "    print(\"# EDT\")\n",
    "    single_edt = np.array(Parallel(n_jobs=min(20, cpu_count()), verbose=10)(\n",
    "        delayed(edt_bg_from_particle)(single_filled_masks[i, :, :])\n",
    "        for i in range(single_filled_masks.shape[0])))\n",
    "    print(\"# OUTPUT\")\n",
    "    dilated_labels = filled_labels.copy()\n",
    "    # Fix uncertain pixels\n",
    "    for i in tqdm(range(uncertain_coords.shape[1])):\n",
    "        icoords = uncertain_coords.transpose()[i, :]\n",
    "        overlapping_labels = np.where(single_dilated_masks[:, icoords[0], icoords[1]])[0]\n",
    "        selected_label = overlapping_labels[np.argmin(\n",
    "            single_edt[overlapping_labels, icoords[0], icoords[1]])]\n",
    "        dilated_labels[icoords[0], icoords[1]] = selected_label\n",
    "    dilated_labels += certain_pixel_values.sum(0)\n",
    "    return filled_labels, dilated_labels"
   ]
  },
  {
   "cell_type": "code",
   "execution_count": 4,
   "metadata": {},
   "outputs": [],
   "source": [
    "def plot_dilation(labels: np.ndarray, dilated_labels: np.ndarray, image: np.ndarray) -> None:\n",
    "    fig, ax = plt.subplots(figsize=(20, 20))\n",
    "    ax.imshow(image.sum(0)*-1, cmap=\"binary\", interpolation=\"none\")\n",
    "    for i in tqdm(range(1, labels.max()+1)):\n",
    "        for contour in find_contours(labels == i, .5):\n",
    "            ax.plot(contour[:, 1], contour[:, 0], linewidth=1)\n",
    "        for contour in find_contours(dilated_labels == i, .5):\n",
    "            ax.plot(contour[:, 1], contour[:, 0], linewidth=1, linestyle='--')\n",
    "    plt.close(fig)\n",
    "    return fig, ax"
   ]
  },
  {
   "cell_type": "code",
   "execution_count": 5,
   "metadata": {},
   "outputs": [],
   "source": [
    "def run_series(series_id: int) -> None:\n",
    "    mask = imread(f\"../../data/60x_mask/original/a647_{series_id:03d}.tif\").reshape((2048, 2048))\n",
    "    image = imread(f\"/mnt/data/Imaging/202105-Deconwolf/data_210726/60x_dw/a647_{series_id:03d}.tif\")\n",
    "    labels, dilated_labels = binary_dilation_with_fixed_overlap(mask, 30)\n",
    "    return labels, dilated_labels, image"
   ]
  },
  {
   "cell_type": "code",
   "execution_count": 6,
   "metadata": {},
   "outputs": [
    {
     "name": "stdout",
     "output_type": "stream",
     "text": [
      ">>>>> SERIES 1 <<<<<\n",
      "# EDT\n",
      "# MAXIMA\n",
      "# WATERSHED\n"
     ]
    },
    {
     "name": "stderr",
     "output_type": "stream",
     "text": [
      "100%|██████████| 201/201 [00:01<00:00, 126.59it/s]\n",
      "0it [00:00, ?it/s]\n",
      "0it [00:00, ?it/s]\u001b[A\n",
      "24it [00:00, 227.26it/s]\u001b[A\n",
      "50it [00:00, 234.37it/s]\u001b[A\n",
      "76it [00:00, 240.20it/s]\u001b[A\n",
      "101it [00:00, 241.38it/s]\u001b[A\n",
      "127it [00:00, 246.56it/s]\u001b[A\n",
      "153it [00:00, 248.36it/s]\u001b[A\n",
      "182it [00:00, 250.21it/s]\u001b[A\n",
      "182it [00:00, 250.66it/s]\n"
     ]
    },
    {
     "name": "stdout",
     "output_type": "stream",
     "text": [
      "# SPLIT MASKS\n",
      "# FILL\n"
     ]
    },
    {
     "name": "stderr",
     "output_type": "stream",
     "text": [
      "[Parallel(n_jobs=20)]: Using backend LokyBackend with 20 concurrent workers.\n",
      "[Parallel(n_jobs=20)]: Done   1 tasks      | elapsed:    0.8s\n",
      "[Parallel(n_jobs=20)]: Done  10 tasks      | elapsed:    0.9s\n",
      "[Parallel(n_jobs=20)]: Done  21 tasks      | elapsed:    1.1s\n",
      "[Parallel(n_jobs=20)]: Done  32 tasks      | elapsed:    1.3s\n",
      "[Parallel(n_jobs=20)]: Done  45 tasks      | elapsed:    1.5s\n",
      "[Parallel(n_jobs=20)]: Done  58 tasks      | elapsed:    1.8s\n",
      "[Parallel(n_jobs=20)]: Done  73 tasks      | elapsed:    2.1s\n",
      "[Parallel(n_jobs=20)]: Done  88 tasks      | elapsed:    2.3s\n",
      "[Parallel(n_jobs=20)]: Done 105 tasks      | elapsed:    2.5s\n",
      "[Parallel(n_jobs=20)]: Done 122 tasks      | elapsed:    2.8s\n",
      "[Parallel(n_jobs=20)]: Done 141 tasks      | elapsed:    3.1s\n",
      "[Parallel(n_jobs=20)]: Done 162 out of 182 | elapsed:    3.4s remaining:    0.4s\n",
      "[Parallel(n_jobs=20)]: Done 182 out of 182 | elapsed:    3.7s finished\n"
     ]
    },
    {
     "name": "stdout",
     "output_type": "stream",
     "text": [
      "# DILATE\n"
     ]
    },
    {
     "name": "stderr",
     "output_type": "stream",
     "text": [
      "[Parallel(n_jobs=20)]: Using backend LokyBackend with 20 concurrent workers.\n",
      "[Parallel(n_jobs=20)]: Done   1 tasks      | elapsed:    4.6s\n",
      "[Parallel(n_jobs=20)]: Done  10 tasks      | elapsed:    4.9s\n",
      "[Parallel(n_jobs=20)]: Done  21 tasks      | elapsed:    8.8s\n",
      "[Parallel(n_jobs=20)]: Done  32 tasks      | elapsed:    9.2s\n",
      "[Parallel(n_jobs=20)]: Done  45 tasks      | elapsed:   13.1s\n",
      "[Parallel(n_jobs=20)]: Done  58 tasks      | elapsed:   13.6s\n",
      "[Parallel(n_jobs=20)]: Done  73 tasks      | elapsed:   17.6s\n",
      "[Parallel(n_jobs=20)]: Done  88 tasks      | elapsed:   21.5s\n",
      "[Parallel(n_jobs=20)]: Done 105 tasks      | elapsed:   25.4s\n",
      "[Parallel(n_jobs=20)]: Done 122 tasks      | elapsed:   29.5s\n",
      "[Parallel(n_jobs=20)]: Done 141 tasks      | elapsed:   33.5s\n",
      "[Parallel(n_jobs=20)]: Done 162 out of 182 | elapsed:   37.8s remaining:    4.7s\n",
      "[Parallel(n_jobs=20)]: Done 182 out of 182 | elapsed:   41.3s finished\n",
      "  4%|▍         | 8/182 [00:00<00:02, 78.57it/s]"
     ]
    },
    {
     "name": "stdout",
     "output_type": "stream",
     "text": [
      "# CERTAIN VALUES\n"
     ]
    },
    {
     "name": "stderr",
     "output_type": "stream",
     "text": [
      "100%|██████████| 182/182 [00:02<00:00, 76.11it/s]\n",
      "100%|██████████| 182/182 [00:08<00:00, 20.65it/s]\n",
      "[Parallel(n_jobs=20)]: Using backend LokyBackend with 20 concurrent workers.\n",
      "[Parallel(n_jobs=20)]: Done   1 tasks      | elapsed:    0.1s\n",
      "[Parallel(n_jobs=20)]: Batch computation too fast (0.0672s.) Setting batch_size=2.\n"
     ]
    },
    {
     "name": "stdout",
     "output_type": "stream",
     "text": [
      "# UNCERTAIN VALUES\n",
      "# EDT\n"
     ]
    },
    {
     "name": "stderr",
     "output_type": "stream",
     "text": [
      "[Parallel(n_jobs=20)]: Done  10 tasks      | elapsed:    1.2s\n",
      "[Parallel(n_jobs=20)]: Done  21 tasks      | elapsed:    1.9s\n",
      "[Parallel(n_jobs=20)]: Done  32 tasks      | elapsed:    2.6s\n",
      "[Parallel(n_jobs=20)]: Batch computation too slow (2.7697s.) Setting batch_size=1.\n",
      "[Parallel(n_jobs=20)]: Done  50 tasks      | elapsed:    4.4s\n",
      "[Parallel(n_jobs=20)]: Done  76 tasks      | elapsed:    7.2s\n",
      "[Parallel(n_jobs=20)]: Done 106 tasks      | elapsed:   10.3s\n",
      "[Parallel(n_jobs=20)]: Done 128 tasks      | elapsed:   12.4s\n",
      "[Parallel(n_jobs=20)]: Done 162 out of 182 | elapsed:   15.2s remaining:    1.9s\n",
      "[Parallel(n_jobs=20)]: Done 182 out of 182 | elapsed:   16.8s finished\n",
      " 10%|▉         | 10480/108013 [00:00<00:00, 104788.86it/s]"
     ]
    },
    {
     "name": "stdout",
     "output_type": "stream",
     "text": [
      "# OUTPUT\n"
     ]
    },
    {
     "name": "stderr",
     "output_type": "stream",
     "text": [
      "100%|██████████| 108013/108013 [00:01<00:00, 106755.47it/s]\n",
      "100%|██████████| 181/181 [00:23<00:00,  7.59it/s]\n"
     ]
    },
    {
     "name": "stdout",
     "output_type": "stream",
     "text": [
      ">>>>> SERIES 2 <<<<<\n",
      "# EDT\n",
      "# MAXIMA\n",
      "# WATERSHED\n"
     ]
    },
    {
     "name": "stderr",
     "output_type": "stream",
     "text": [
      "100%|██████████| 227/227 [00:01<00:00, 127.47it/s]\n",
      "0it [00:00, ?it/s]\n",
      "0it [00:00, ?it/s]\u001b[A\n",
      "26it [00:00, 248.64it/s]\u001b[A\n",
      "54it [00:00, 255.84it/s]\u001b[A\n",
      "81it [00:00, 259.04it/s]\u001b[A\n",
      "107it [00:00, 256.84it/s]\u001b[A\n",
      "134it [00:00, 260.47it/s]\u001b[A\n",
      "161it [00:00, 261.07it/s]\u001b[A\n",
      "210it [00:00, 263.16it/s]\u001b[A\n",
      "210it [00:00, 263.28it/s]\n"
     ]
    },
    {
     "name": "stdout",
     "output_type": "stream",
     "text": [
      "# SPLIT MASKS\n",
      "# FILL\n"
     ]
    },
    {
     "name": "stderr",
     "output_type": "stream",
     "text": [
      "[Parallel(n_jobs=20)]: Using backend LokyBackend with 20 concurrent workers.\n",
      "[Parallel(n_jobs=20)]: Done   1 tasks      | elapsed:    0.3s\n",
      "[Parallel(n_jobs=20)]: Done  10 tasks      | elapsed:    0.4s\n",
      "[Parallel(n_jobs=20)]: Done  21 tasks      | elapsed:    0.5s\n",
      "[Parallel(n_jobs=20)]: Done  32 tasks      | elapsed:    0.7s\n",
      "[Parallel(n_jobs=20)]: Done  45 tasks      | elapsed:    0.9s\n",
      "[Parallel(n_jobs=20)]: Done  58 tasks      | elapsed:    1.0s\n",
      "[Parallel(n_jobs=20)]: Done  73 tasks      | elapsed:    1.2s\n",
      "[Parallel(n_jobs=20)]: Done  88 tasks      | elapsed:    1.5s\n",
      "[Parallel(n_jobs=20)]: Done 105 tasks      | elapsed:    1.7s\n",
      "[Parallel(n_jobs=20)]: Done 122 tasks      | elapsed:    1.9s\n",
      "[Parallel(n_jobs=20)]: Done 141 tasks      | elapsed:    2.2s\n",
      "[Parallel(n_jobs=20)]: Done 160 tasks      | elapsed:    2.5s\n",
      "[Parallel(n_jobs=20)]: Done 193 out of 210 | elapsed:    2.9s remaining:    0.3s\n",
      "[Parallel(n_jobs=20)]: Done 210 out of 210 | elapsed:    3.1s finished\n"
     ]
    },
    {
     "name": "stdout",
     "output_type": "stream",
     "text": [
      "# DILATE\n"
     ]
    },
    {
     "name": "stderr",
     "output_type": "stream",
     "text": [
      "[Parallel(n_jobs=20)]: Using backend LokyBackend with 20 concurrent workers.\n",
      "[Parallel(n_jobs=20)]: Done   1 tasks      | elapsed:    4.1s\n",
      "[Parallel(n_jobs=20)]: Done  10 tasks      | elapsed:    4.3s\n",
      "[Parallel(n_jobs=20)]: Done  21 tasks      | elapsed:    8.2s\n",
      "[Parallel(n_jobs=20)]: Done  32 tasks      | elapsed:    8.5s\n",
      "[Parallel(n_jobs=20)]: Done  45 tasks      | elapsed:   12.6s\n",
      "[Parallel(n_jobs=20)]: Done  58 tasks      | elapsed:   13.0s\n",
      "[Parallel(n_jobs=20)]: Done  73 tasks      | elapsed:   16.9s\n",
      "[Parallel(n_jobs=20)]: Done  88 tasks      | elapsed:   20.9s\n",
      "[Parallel(n_jobs=20)]: Done 105 tasks      | elapsed:   25.0s\n",
      "[Parallel(n_jobs=20)]: Done 122 tasks      | elapsed:   28.8s\n",
      "[Parallel(n_jobs=20)]: Done 141 tasks      | elapsed:   32.9s\n",
      "[Parallel(n_jobs=20)]: Done 160 tasks      | elapsed:   34.3s\n",
      "[Parallel(n_jobs=20)]: Done 193 out of 210 | elapsed:   42.0s remaining:    3.7s\n",
      "[Parallel(n_jobs=20)]: Done 210 out of 210 | elapsed:   45.5s finished\n",
      "  4%|▍         | 8/210 [00:00<00:02, 79.94it/s]"
     ]
    },
    {
     "name": "stdout",
     "output_type": "stream",
     "text": [
      "# CERTAIN VALUES\n"
     ]
    },
    {
     "name": "stderr",
     "output_type": "stream",
     "text": [
      "100%|██████████| 210/210 [00:02<00:00, 77.78it/s]\n",
      "100%|██████████| 210/210 [00:07<00:00, 28.41it/s]\n",
      "[Parallel(n_jobs=20)]: Using backend LokyBackend with 20 concurrent workers.\n",
      "[Parallel(n_jobs=20)]: Done   1 tasks      | elapsed:    0.1s\n",
      "[Parallel(n_jobs=20)]: Batch computation too fast (0.0541s.) Setting batch_size=2.\n"
     ]
    },
    {
     "name": "stdout",
     "output_type": "stream",
     "text": [
      "# UNCERTAIN VALUES\n",
      "# EDT\n"
     ]
    },
    {
     "name": "stderr",
     "output_type": "stream",
     "text": [
      "[Parallel(n_jobs=20)]: Done  10 tasks      | elapsed:    1.6s\n",
      "[Parallel(n_jobs=20)]: Done  21 tasks      | elapsed:    3.0s\n",
      "[Parallel(n_jobs=20)]: Done  32 tasks      | elapsed:    4.3s\n",
      "[Parallel(n_jobs=20)]: Batch computation too slow (4.7753s.) Setting batch_size=1.\n",
      "[Parallel(n_jobs=20)]: Done  50 tasks      | elapsed:    6.4s\n",
      "[Parallel(n_jobs=20)]: Done  76 tasks      | elapsed:    9.4s\n",
      "[Parallel(n_jobs=20)]: Done 106 tasks      | elapsed:   13.1s\n",
      "[Parallel(n_jobs=20)]: Done 128 tasks      | elapsed:   15.6s\n",
      "[Parallel(n_jobs=20)]: Done 145 tasks      | elapsed:   17.6s\n",
      "[Parallel(n_jobs=20)]: Done 162 tasks      | elapsed:   19.6s\n",
      "[Parallel(n_jobs=20)]: Done 193 out of 210 | elapsed:   23.2s remaining:    2.0s\n",
      "[Parallel(n_jobs=20)]: Done 210 out of 210 | elapsed:   25.1s finished\n",
      "  6%|▋         | 9632/149257 [00:00<00:01, 96317.57it/s]"
     ]
    },
    {
     "name": "stdout",
     "output_type": "stream",
     "text": [
      "# OUTPUT\n"
     ]
    },
    {
     "name": "stderr",
     "output_type": "stream",
     "text": [
      "100%|██████████| 149257/149257 [00:01<00:00, 94587.62it/s]\n",
      "100%|██████████| 209/209 [00:27<00:00,  7.74it/s]\n"
     ]
    },
    {
     "name": "stdout",
     "output_type": "stream",
     "text": [
      ">>>>> SERIES 3 <<<<<\n",
      "# EDT\n",
      "# MAXIMA\n",
      "# WATERSHED\n"
     ]
    },
    {
     "name": "stderr",
     "output_type": "stream",
     "text": [
      "100%|██████████| 172/172 [00:01<00:00, 126.87it/s]\n",
      "0it [00:00, ?it/s]\n",
      "0it [00:00, ?it/s]\u001b[A\n",
      "27it [00:00, 256.31it/s]\u001b[A\n",
      "54it [00:00, 259.18it/s]\u001b[A\n",
      "80it [00:00, 258.94it/s]\u001b[A\n",
      "108it [00:00, 262.77it/s]\u001b[A\n",
      "158it [00:00, 262.03it/s]\u001b[A\n",
      "158it [00:00, 262.40it/s]\n"
     ]
    },
    {
     "name": "stdout",
     "output_type": "stream",
     "text": [
      "# SPLIT MASKS\n",
      "# FILL\n"
     ]
    },
    {
     "name": "stderr",
     "output_type": "stream",
     "text": [
      "[Parallel(n_jobs=20)]: Using backend LokyBackend with 20 concurrent workers.\n",
      "[Parallel(n_jobs=20)]: Done   1 tasks      | elapsed:    0.3s\n",
      "[Parallel(n_jobs=20)]: Done  10 tasks      | elapsed:    0.4s\n",
      "[Parallel(n_jobs=20)]: Done  21 tasks      | elapsed:    0.5s\n",
      "[Parallel(n_jobs=20)]: Done  32 tasks      | elapsed:    0.7s\n",
      "[Parallel(n_jobs=20)]: Done  45 tasks      | elapsed:    0.9s\n",
      "[Parallel(n_jobs=20)]: Done  58 tasks      | elapsed:    1.0s\n",
      "[Parallel(n_jobs=20)]: Done  73 tasks      | elapsed:    1.3s\n",
      "[Parallel(n_jobs=20)]: Done  88 tasks      | elapsed:    1.5s\n",
      "[Parallel(n_jobs=20)]: Done 105 tasks      | elapsed:    1.7s\n",
      "[Parallel(n_jobs=20)]: Done 135 out of 158 | elapsed:    2.1s remaining:    0.4s\n",
      "[Parallel(n_jobs=20)]: Done 151 out of 158 | elapsed:    2.3s remaining:    0.1s\n",
      "[Parallel(n_jobs=20)]: Done 158 out of 158 | elapsed:    2.3s finished\n"
     ]
    },
    {
     "name": "stdout",
     "output_type": "stream",
     "text": [
      "# DILATE\n"
     ]
    },
    {
     "name": "stderr",
     "output_type": "stream",
     "text": [
      "[Parallel(n_jobs=20)]: Using backend LokyBackend with 20 concurrent workers.\n",
      "[Parallel(n_jobs=20)]: Done   1 tasks      | elapsed:    4.1s\n",
      "[Parallel(n_jobs=20)]: Done  10 tasks      | elapsed:    4.2s\n",
      "[Parallel(n_jobs=20)]: Done  21 tasks      | elapsed:    8.2s\n",
      "[Parallel(n_jobs=20)]: Done  32 tasks      | elapsed:    8.4s\n",
      "[Parallel(n_jobs=20)]: Done  45 tasks      | elapsed:   12.4s\n",
      "[Parallel(n_jobs=20)]: Done  58 tasks      | elapsed:   12.8s\n",
      "[Parallel(n_jobs=20)]: Done  73 tasks      | elapsed:   16.9s\n",
      "[Parallel(n_jobs=20)]: Done  88 tasks      | elapsed:   20.8s\n",
      "[Parallel(n_jobs=20)]: Done 105 tasks      | elapsed:   24.8s\n",
      "[Parallel(n_jobs=20)]: Done 135 out of 158 | elapsed:   29.4s remaining:    5.0s\n",
      "[Parallel(n_jobs=20)]: Done 151 out of 158 | elapsed:   33.3s remaining:    1.5s\n",
      "[Parallel(n_jobs=20)]: Done 158 out of 158 | elapsed:   33.7s finished\n",
      "  5%|▌         | 8/158 [00:00<00:01, 78.49it/s]"
     ]
    },
    {
     "name": "stdout",
     "output_type": "stream",
     "text": [
      "# CERTAIN VALUES\n"
     ]
    },
    {
     "name": "stderr",
     "output_type": "stream",
     "text": [
      "100%|██████████| 158/158 [00:02<00:00, 75.78it/s]\n",
      "100%|██████████| 158/158 [00:07<00:00, 20.36it/s]\n",
      "[Parallel(n_jobs=20)]: Using backend LokyBackend with 20 concurrent workers.\n",
      "[Parallel(n_jobs=20)]: Done   1 tasks      | elapsed:    0.1s\n",
      "[Parallel(n_jobs=20)]: Batch computation too fast (0.0536s.) Setting batch_size=2.\n"
     ]
    },
    {
     "name": "stdout",
     "output_type": "stream",
     "text": [
      "# UNCERTAIN VALUES\n",
      "# EDT\n"
     ]
    },
    {
     "name": "stderr",
     "output_type": "stream",
     "text": [
      "[Parallel(n_jobs=20)]: Done  10 tasks      | elapsed:    1.2s\n",
      "[Parallel(n_jobs=20)]: Done  21 tasks      | elapsed:    2.1s\n",
      "[Parallel(n_jobs=20)]: Done  32 tasks      | elapsed:    2.9s\n",
      "[Parallel(n_jobs=20)]: Batch computation too slow (3.0640s.) Setting batch_size=1.\n",
      "[Parallel(n_jobs=20)]: Done  50 tasks      | elapsed:    4.6s\n",
      "[Parallel(n_jobs=20)]: Done  76 tasks      | elapsed:    7.4s\n",
      "[Parallel(n_jobs=20)]: Done 106 tasks      | elapsed:   10.6s\n",
      "[Parallel(n_jobs=20)]: Done 119 out of 158 | elapsed:   11.9s remaining:    3.9s\n",
      "[Parallel(n_jobs=20)]: Done 135 out of 158 | elapsed:   13.4s remaining:    2.3s\n",
      "[Parallel(n_jobs=20)]: Done 151 out of 158 | elapsed:   14.9s remaining:    0.7s\n",
      "[Parallel(n_jobs=20)]: Done 158 out of 158 | elapsed:   15.5s finished\n",
      " 16%|█▌        | 10824/69559 [00:00<00:00, 108234.94it/s]"
     ]
    },
    {
     "name": "stdout",
     "output_type": "stream",
     "text": [
      "# OUTPUT\n"
     ]
    },
    {
     "name": "stderr",
     "output_type": "stream",
     "text": [
      "100%|██████████| 69559/69559 [00:00<00:00, 107731.51it/s]\n",
      "100%|██████████| 157/157 [00:20<00:00,  7.54it/s]\n"
     ]
    },
    {
     "name": "stdout",
     "output_type": "stream",
     "text": [
      ">>>>> SERIES 4 <<<<<\n",
      "# EDT\n",
      "# MAXIMA\n",
      "# WATERSHED\n"
     ]
    },
    {
     "name": "stderr",
     "output_type": "stream",
     "text": [
      "100%|██████████| 190/190 [00:01<00:00, 126.42it/s]\n",
      "0it [00:00, ?it/s]\n",
      "26it [00:00, 257.67it/s]\n",
      "52it [00:00, 257.50it/s]\u001b[A\n",
      "76it [00:00, 249.91it/s]\u001b[A\n",
      "102it [00:00, 251.60it/s][A\n",
      "124it [00:00, 239.44it/s]\u001b[A\n",
      "146it [00:00, 232.03it/s]\u001b[A\n",
      "173it [00:00, 241.02it/s]\u001b[A\n",
      "174it [00:00, 242.02it/s]\u001b[A\n",
      "174it [00:00, 242.58it/s]\n"
     ]
    },
    {
     "name": "stdout",
     "output_type": "stream",
     "text": [
      "# SPLIT MASKS\n",
      "# FILL\n"
     ]
    },
    {
     "name": "stderr",
     "output_type": "stream",
     "text": [
      "[Parallel(n_jobs=20)]: Using backend LokyBackend with 20 concurrent workers.\n",
      "[Parallel(n_jobs=20)]: Done   1 tasks      | elapsed:    0.3s\n",
      "[Parallel(n_jobs=20)]: Done  10 tasks      | elapsed:    0.3s\n",
      "[Parallel(n_jobs=20)]: Done  21 tasks      | elapsed:    0.5s\n",
      "[Parallel(n_jobs=20)]: Done  32 tasks      | elapsed:    0.7s\n",
      "[Parallel(n_jobs=20)]: Done  45 tasks      | elapsed:    0.9s\n",
      "[Parallel(n_jobs=20)]: Done  58 tasks      | elapsed:    1.0s\n",
      "[Parallel(n_jobs=20)]: Done  73 tasks      | elapsed:    1.2s\n",
      "[Parallel(n_jobs=20)]: Done  88 tasks      | elapsed:    1.4s\n",
      "[Parallel(n_jobs=20)]: Done 105 tasks      | elapsed:    1.7s\n",
      "[Parallel(n_jobs=20)]: Done 122 tasks      | elapsed:    1.9s\n",
      "[Parallel(n_jobs=20)]: Done 153 out of 174 | elapsed:    2.3s remaining:    0.3s\n",
      "[Parallel(n_jobs=20)]: Done 171 out of 174 | elapsed:    2.6s remaining:    0.0s\n",
      "[Parallel(n_jobs=20)]: Done 174 out of 174 | elapsed:    2.6s finished\n"
     ]
    },
    {
     "name": "stdout",
     "output_type": "stream",
     "text": [
      "# DILATE\n"
     ]
    },
    {
     "name": "stderr",
     "output_type": "stream",
     "text": [
      "[Parallel(n_jobs=20)]: Using backend LokyBackend with 20 concurrent workers.\n",
      "[Parallel(n_jobs=20)]: Done   1 tasks      | elapsed:    4.2s\n",
      "[Parallel(n_jobs=20)]: Done  10 tasks      | elapsed:    4.2s\n",
      "[Parallel(n_jobs=20)]: Done  21 tasks      | elapsed:    8.2s\n",
      "[Parallel(n_jobs=20)]: Done  32 tasks      | elapsed:    8.5s\n",
      "[Parallel(n_jobs=20)]: Done  45 tasks      | elapsed:   12.4s\n",
      "[Parallel(n_jobs=20)]: Done  58 tasks      | elapsed:   12.9s\n",
      "[Parallel(n_jobs=20)]: Done  73 tasks      | elapsed:   16.9s\n",
      "[Parallel(n_jobs=20)]: Done  88 tasks      | elapsed:   20.8s\n",
      "[Parallel(n_jobs=20)]: Done 105 tasks      | elapsed:   24.7s\n",
      "[Parallel(n_jobs=20)]: Done 122 tasks      | elapsed:   28.8s\n",
      "[Parallel(n_jobs=20)]: Done 153 out of 174 | elapsed:   33.7s remaining:    4.6s\n",
      "[Parallel(n_jobs=20)]: Done 171 out of 174 | elapsed:   37.5s remaining:    0.7s\n",
      "[Parallel(n_jobs=20)]: Done 174 out of 174 | elapsed:   37.7s finished\n",
      "  5%|▍         | 8/174 [00:00<00:02, 79.13it/s]"
     ]
    },
    {
     "name": "stdout",
     "output_type": "stream",
     "text": [
      "# CERTAIN VALUES\n"
     ]
    },
    {
     "name": "stderr",
     "output_type": "stream",
     "text": [
      "100%|██████████| 174/174 [00:02<00:00, 78.03it/s]\n",
      "100%|██████████| 174/174 [00:06<00:00, 25.98it/s]\n",
      "[Parallel(n_jobs=20)]: Using backend LokyBackend with 20 concurrent workers.\n",
      "[Parallel(n_jobs=20)]: Done   1 tasks      | elapsed:    0.0s\n",
      "[Parallel(n_jobs=20)]: Batch computation too fast (0.0496s.) Setting batch_size=2.\n"
     ]
    },
    {
     "name": "stdout",
     "output_type": "stream",
     "text": [
      "# UNCERTAIN VALUES\n",
      "# EDT\n"
     ]
    },
    {
     "name": "stderr",
     "output_type": "stream",
     "text": [
      "[Parallel(n_jobs=20)]: Done  10 tasks      | elapsed:    1.1s\n",
      "[Parallel(n_jobs=20)]: Done  21 tasks      | elapsed:    1.8s\n",
      "[Parallel(n_jobs=20)]: Done  32 tasks      | elapsed:    2.5s\n",
      "[Parallel(n_jobs=20)]: Batch computation too slow (3.2999s.) Setting batch_size=1.\n",
      "[Parallel(n_jobs=20)]: Done  50 tasks      | elapsed:    4.3s\n",
      "[Parallel(n_jobs=20)]: Done  76 tasks      | elapsed:    7.0s\n",
      "[Parallel(n_jobs=20)]: Done 106 tasks      | elapsed:   10.2s\n",
      "[Parallel(n_jobs=20)]: Done 128 tasks      | elapsed:   12.4s\n",
      "[Parallel(n_jobs=20)]: Done 153 out of 174 | elapsed:   14.4s remaining:    2.0s\n",
      "[Parallel(n_jobs=20)]: Done 171 out of 174 | elapsed:   15.9s remaining:    0.3s\n",
      "[Parallel(n_jobs=20)]: Done 174 out of 174 | elapsed:   16.1s finished\n",
      " 12%|█▏        | 11510/96719 [00:00<00:00, 115091.05it/s]"
     ]
    },
    {
     "name": "stdout",
     "output_type": "stream",
     "text": [
      "# OUTPUT\n"
     ]
    },
    {
     "name": "stderr",
     "output_type": "stream",
     "text": [
      "100%|██████████| 96719/96719 [00:00<00:00, 111175.85it/s]\n",
      "100%|██████████| 173/173 [00:22<00:00,  7.73it/s]\n"
     ]
    },
    {
     "name": "stdout",
     "output_type": "stream",
     "text": [
      ">>>>> SERIES 5 <<<<<\n",
      "# EDT\n",
      "# MAXIMA\n",
      "# WATERSHED\n"
     ]
    },
    {
     "name": "stderr",
     "output_type": "stream",
     "text": [
      "100%|██████████| 228/228 [00:01<00:00, 127.62it/s]\n",
      "0it [00:00, ?it/s]\n",
      "25it [00:00, 247.27it/s]\n",
      "51it [00:00, 250.84it/s]\u001b[A\n",
      "77it [00:00, 252.76it/s]\u001b[A\n",
      "104it [00:00, 255.14it/s][A\n",
      "130it [00:00, 256.43it/s]\u001b[A\n",
      "157it [00:00, 258.83it/s]\u001b[A\n",
      "184it [00:00, 260.12it/s]\u001b[A\n",
      "210it [00:00, 256.63it/s]\u001b[A\n",
      "213it [00:00, 256.31it/s]\u001b[A\n",
      "213it [00:00, 256.59it/s]\n"
     ]
    },
    {
     "name": "stdout",
     "output_type": "stream",
     "text": [
      "# SPLIT MASKS\n",
      "# FILL\n"
     ]
    },
    {
     "name": "stderr",
     "output_type": "stream",
     "text": [
      "[Parallel(n_jobs=20)]: Using backend LokyBackend with 20 concurrent workers.\n",
      "[Parallel(n_jobs=20)]: Done   1 tasks      | elapsed:    0.3s\n",
      "[Parallel(n_jobs=20)]: Done  10 tasks      | elapsed:    0.4s\n",
      "[Parallel(n_jobs=20)]: Done  21 tasks      | elapsed:    0.6s\n",
      "[Parallel(n_jobs=20)]: Done  32 tasks      | elapsed:    0.7s\n",
      "[Parallel(n_jobs=20)]: Done  45 tasks      | elapsed:    0.9s\n",
      "[Parallel(n_jobs=20)]: Done  58 tasks      | elapsed:    1.0s\n",
      "[Parallel(n_jobs=20)]: Done  73 tasks      | elapsed:    1.3s\n",
      "[Parallel(n_jobs=20)]: Done  88 tasks      | elapsed:    1.5s\n",
      "[Parallel(n_jobs=20)]: Done 105 tasks      | elapsed:    1.7s\n",
      "[Parallel(n_jobs=20)]: Done 122 tasks      | elapsed:    1.9s\n",
      "[Parallel(n_jobs=20)]: Done 141 tasks      | elapsed:    2.2s\n",
      "[Parallel(n_jobs=20)]: Done 160 tasks      | elapsed:    2.4s\n",
      "[Parallel(n_jobs=20)]: Done 196 out of 213 | elapsed:    2.9s remaining:    0.3s\n",
      "[Parallel(n_jobs=20)]: Done 213 out of 213 | elapsed:    3.1s finished\n"
     ]
    },
    {
     "name": "stdout",
     "output_type": "stream",
     "text": [
      "# DILATE\n"
     ]
    },
    {
     "name": "stderr",
     "output_type": "stream",
     "text": [
      "[Parallel(n_jobs=20)]: Using backend LokyBackend with 20 concurrent workers.\n",
      "[Parallel(n_jobs=20)]: Done   1 tasks      | elapsed:    4.2s\n",
      "[Parallel(n_jobs=20)]: Done  10 tasks      | elapsed:    4.2s\n",
      "[Parallel(n_jobs=20)]: Done  21 tasks      | elapsed:    8.3s\n",
      "[Parallel(n_jobs=20)]: Done  32 tasks      | elapsed:    8.5s\n",
      "[Parallel(n_jobs=20)]: Done  45 tasks      | elapsed:   12.4s\n",
      "[Parallel(n_jobs=20)]: Done  58 tasks      | elapsed:   13.1s\n",
      "[Parallel(n_jobs=20)]: Done  73 tasks      | elapsed:   16.9s\n",
      "[Parallel(n_jobs=20)]: Done  88 tasks      | elapsed:   20.8s\n",
      "[Parallel(n_jobs=20)]: Done 105 tasks      | elapsed:   24.8s\n",
      "[Parallel(n_jobs=20)]: Done 122 tasks      | elapsed:   28.8s\n",
      "[Parallel(n_jobs=20)]: Done 141 tasks      | elapsed:   32.8s\n",
      "[Parallel(n_jobs=20)]: Done 160 tasks      | elapsed:   34.6s\n",
      "[Parallel(n_jobs=20)]: Done 196 out of 213 | elapsed:   41.9s remaining:    3.6s\n",
      "[Parallel(n_jobs=20)]: Done 213 out of 213 | elapsed:   45.7s finished\n",
      "  4%|▍         | 8/213 [00:00<00:02, 78.05it/s]"
     ]
    },
    {
     "name": "stdout",
     "output_type": "stream",
     "text": [
      "# CERTAIN VALUES\n"
     ]
    },
    {
     "name": "stderr",
     "output_type": "stream",
     "text": [
      "100%|██████████| 213/213 [00:02<00:00, 77.51it/s]\n",
      "100%|██████████| 213/213 [00:07<00:00, 29.26it/s]\n",
      "[Parallel(n_jobs=20)]: Using backend LokyBackend with 20 concurrent workers.\n",
      "[Parallel(n_jobs=20)]: Done   1 tasks      | elapsed:    0.1s\n",
      "[Parallel(n_jobs=20)]: Batch computation too fast (0.0525s.) Setting batch_size=2.\n"
     ]
    },
    {
     "name": "stdout",
     "output_type": "stream",
     "text": [
      "# UNCERTAIN VALUES\n",
      "# EDT\n"
     ]
    },
    {
     "name": "stderr",
     "output_type": "stream",
     "text": [
      "[Parallel(n_jobs=20)]: Done  10 tasks      | elapsed:    1.0s\n",
      "[Parallel(n_jobs=20)]: Done  21 tasks      | elapsed:    1.7s\n",
      "[Parallel(n_jobs=20)]: Done  32 tasks      | elapsed:    2.5s\n",
      "[Parallel(n_jobs=20)]: Batch computation too slow (3.1613s.) Setting batch_size=1.\n",
      "[Parallel(n_jobs=20)]: Done  50 tasks      | elapsed:    4.1s\n",
      "[Parallel(n_jobs=20)]: Done  76 tasks      | elapsed:    6.9s\n",
      "[Parallel(n_jobs=20)]: Done 106 tasks      | elapsed:   10.2s\n",
      "[Parallel(n_jobs=20)]: Done 128 tasks      | elapsed:   12.4s\n",
      "[Parallel(n_jobs=20)]: Done 145 tasks      | elapsed:   14.0s\n",
      "[Parallel(n_jobs=20)]: Done 162 tasks      | elapsed:   15.6s\n",
      "[Parallel(n_jobs=20)]: Done 196 out of 213 | elapsed:   18.6s remaining:    1.6s\n",
      "[Parallel(n_jobs=20)]: Done 213 out of 213 | elapsed:   19.9s finished\n",
      "  7%|▋         | 9136/122653 [00:00<00:01, 91353.34it/s]"
     ]
    },
    {
     "name": "stdout",
     "output_type": "stream",
     "text": [
      "# OUTPUT\n"
     ]
    },
    {
     "name": "stderr",
     "output_type": "stream",
     "text": [
      "100%|██████████| 122653/122653 [00:01<00:00, 94993.40it/s]\n",
      "100%|██████████| 343/343 [00:39<00:00,  8.64it/s]\n"
     ]
    },
    {
     "name": "stdout",
     "output_type": "stream",
     "text": [
      ">>>>> SERIES 6 <<<<<\n",
      "# EDT\n",
      "# MAXIMA\n",
      "# WATERSHED\n"
     ]
    },
    {
     "name": "stderr",
     "output_type": "stream",
     "text": [
      "100%|██████████| 225/225 [00:01<00:00, 127.80it/s]\n",
      "0it [00:00, ?it/s]\n",
      "24it [00:00, 238.13it/s]\n",
      "50it [00:00, 243.30it/s]\u001b[A\n",
      "74it [00:00, 241.68it/s]\u001b[A\n",
      "99it [00:00, 243.95it/s]\u001b[A\n",
      "125it [00:00, 246.91it/s]\u001b[A\n",
      "152it [00:00, 252.74it/s]\u001b[A\n",
      "178it [00:00, 254.40it/s]\u001b[A\n",
      "203it [00:00, 252.60it/s]\u001b[A\n",
      "212it [00:00, 250.33it/s]\u001b[A\n",
      "212it [00:00, 250.50it/s]\n"
     ]
    },
    {
     "name": "stdout",
     "output_type": "stream",
     "text": [
      "# SPLIT MASKS\n",
      "# FILL\n"
     ]
    },
    {
     "name": "stderr",
     "output_type": "stream",
     "text": [
      "[Parallel(n_jobs=20)]: Using backend LokyBackend with 20 concurrent workers.\n",
      "[Parallel(n_jobs=20)]: Done   1 tasks      | elapsed:    0.3s\n",
      "[Parallel(n_jobs=20)]: Done  10 tasks      | elapsed:    0.4s\n",
      "[Parallel(n_jobs=20)]: Done  21 tasks      | elapsed:    0.5s\n",
      "[Parallel(n_jobs=20)]: Done  32 tasks      | elapsed:    0.7s\n",
      "[Parallel(n_jobs=20)]: Done  45 tasks      | elapsed:    0.8s\n",
      "[Parallel(n_jobs=20)]: Done  58 tasks      | elapsed:    1.0s\n",
      "[Parallel(n_jobs=20)]: Done  73 tasks      | elapsed:    1.3s\n",
      "[Parallel(n_jobs=20)]: Done  88 tasks      | elapsed:    1.5s\n",
      "[Parallel(n_jobs=20)]: Done 105 tasks      | elapsed:    1.7s\n",
      "[Parallel(n_jobs=20)]: Done 122 tasks      | elapsed:    1.9s\n",
      "[Parallel(n_jobs=20)]: Done 141 tasks      | elapsed:    2.2s\n",
      "[Parallel(n_jobs=20)]: Done 160 tasks      | elapsed:    2.5s\n",
      "[Parallel(n_jobs=20)]: Done 195 out of 212 | elapsed:    3.0s remaining:    0.3s\n",
      "[Parallel(n_jobs=20)]: Done 212 out of 212 | elapsed:    3.2s finished\n"
     ]
    },
    {
     "name": "stdout",
     "output_type": "stream",
     "text": [
      "# DILATE\n"
     ]
    },
    {
     "name": "stderr",
     "output_type": "stream",
     "text": [
      "[Parallel(n_jobs=20)]: Using backend LokyBackend with 20 concurrent workers.\n",
      "[Parallel(n_jobs=20)]: Done   1 tasks      | elapsed:    4.1s\n",
      "[Parallel(n_jobs=20)]: Done  10 tasks      | elapsed:    4.2s\n",
      "[Parallel(n_jobs=20)]: Done  21 tasks      | elapsed:    8.2s\n",
      "[Parallel(n_jobs=20)]: Done  32 tasks      | elapsed:    8.5s\n",
      "[Parallel(n_jobs=20)]: Done  45 tasks      | elapsed:   12.5s\n",
      "[Parallel(n_jobs=20)]: Done  58 tasks      | elapsed:   12.9s\n",
      "[Parallel(n_jobs=20)]: Done  73 tasks      | elapsed:   16.9s\n",
      "[Parallel(n_jobs=20)]: Done  88 tasks      | elapsed:   20.9s\n",
      "[Parallel(n_jobs=20)]: Done 105 tasks      | elapsed:   25.0s\n",
      "[Parallel(n_jobs=20)]: Done 122 tasks      | elapsed:   28.9s\n",
      "[Parallel(n_jobs=20)]: Done 141 tasks      | elapsed:   33.0s\n",
      "[Parallel(n_jobs=20)]: Done 160 tasks      | elapsed:   34.9s\n",
      "[Parallel(n_jobs=20)]: Done 195 out of 212 | elapsed:   42.1s remaining:    3.7s\n",
      "[Parallel(n_jobs=20)]: Done 212 out of 212 | elapsed:   45.9s finished\n",
      "  4%|▍         | 8/212 [00:00<00:02, 79.19it/s]"
     ]
    },
    {
     "name": "stdout",
     "output_type": "stream",
     "text": [
      "# CERTAIN VALUES\n"
     ]
    },
    {
     "name": "stderr",
     "output_type": "stream",
     "text": [
      "100%|██████████| 212/212 [00:02<00:00, 78.00it/s]\n",
      "100%|██████████| 212/212 [00:07<00:00, 28.53it/s]\n",
      "[Parallel(n_jobs=20)]: Using backend LokyBackend with 20 concurrent workers.\n",
      "[Parallel(n_jobs=20)]: Done   1 tasks      | elapsed:    0.0s\n",
      "[Parallel(n_jobs=20)]: Batch computation too fast (0.0465s.) Setting batch_size=2.\n"
     ]
    },
    {
     "name": "stdout",
     "output_type": "stream",
     "text": [
      "# UNCERTAIN VALUES\n",
      "# EDT\n"
     ]
    },
    {
     "name": "stderr",
     "output_type": "stream",
     "text": [
      "[Parallel(n_jobs=20)]: Done  10 tasks      | elapsed:    1.2s\n",
      "[Parallel(n_jobs=20)]: Done  21 tasks      | elapsed:    2.1s\n",
      "[Parallel(n_jobs=20)]: Done  32 tasks      | elapsed:    2.9s\n",
      "[Parallel(n_jobs=20)]: Batch computation too slow (3.6460s.) Setting batch_size=1.\n",
      "[Parallel(n_jobs=20)]: Done  50 tasks      | elapsed:    4.6s\n",
      "[Parallel(n_jobs=20)]: Done  76 tasks      | elapsed:    7.3s\n",
      "[Parallel(n_jobs=20)]: Done 106 tasks      | elapsed:   10.4s\n",
      "[Parallel(n_jobs=20)]: Done 128 tasks      | elapsed:   12.5s\n",
      "[Parallel(n_jobs=20)]: Done 145 tasks      | elapsed:   13.9s\n",
      "[Parallel(n_jobs=20)]: Done 162 tasks      | elapsed:   15.4s\n",
      "[Parallel(n_jobs=20)]: Done 195 out of 212 | elapsed:   18.2s remaining:    1.6s\n",
      "[Parallel(n_jobs=20)]: Done 212 out of 212 | elapsed:   19.7s finished\n",
      "  8%|▊         | 9862/121769 [00:00<00:01, 98617.27it/s]"
     ]
    },
    {
     "name": "stdout",
     "output_type": "stream",
     "text": [
      "# OUTPUT\n"
     ]
    },
    {
     "name": "stderr",
     "output_type": "stream",
     "text": [
      "100%|██████████| 121769/121769 [00:01<00:00, 96129.97it/s]\n",
      "100%|██████████| 211/211 [00:25<00:00,  8.42it/s]\n"
     ]
    },
    {
     "name": "stdout",
     "output_type": "stream",
     "text": [
      ">>>>> SERIES 7 <<<<<\n",
      "# EDT\n",
      "# MAXIMA\n",
      "# WATERSHED\n"
     ]
    },
    {
     "name": "stderr",
     "output_type": "stream",
     "text": [
      "100%|██████████| 238/238 [00:01<00:00, 128.77it/s]\n",
      "0it [00:00, ?it/s]\n",
      "0it [00:00, ?it/s]\u001b[A\n",
      "25it [00:00, 236.83it/s]\u001b[A\n",
      "52it [00:00, 244.03it/s]\u001b[A\n",
      "77it [00:00, 244.36it/s]\u001b[A\n",
      "103it [00:00, 247.63it/s]\u001b[A\n",
      "131it [00:00, 255.73it/s]\u001b[A\n",
      "158it [00:00, 259.53it/s]\u001b[A\n",
      "185it [00:00, 261.40it/s]\u001b[A\n",
      "223it [00:00, 259.99it/s]\u001b[A\n",
      "223it [00:00, 260.25it/s]\n"
     ]
    },
    {
     "name": "stdout",
     "output_type": "stream",
     "text": [
      "# SPLIT MASKS\n",
      "# FILL\n"
     ]
    },
    {
     "name": "stderr",
     "output_type": "stream",
     "text": [
      "[Parallel(n_jobs=20)]: Using backend LokyBackend with 20 concurrent workers.\n",
      "[Parallel(n_jobs=20)]: Done   1 tasks      | elapsed:    0.3s\n",
      "[Parallel(n_jobs=20)]: Done  10 tasks      | elapsed:    0.4s\n",
      "[Parallel(n_jobs=20)]: Done  21 tasks      | elapsed:    0.6s\n",
      "[Parallel(n_jobs=20)]: Done  32 tasks      | elapsed:    0.7s\n",
      "[Parallel(n_jobs=20)]: Done  45 tasks      | elapsed:    0.9s\n",
      "[Parallel(n_jobs=20)]: Done  58 tasks      | elapsed:    1.0s\n",
      "[Parallel(n_jobs=20)]: Done  73 tasks      | elapsed:    1.3s\n",
      "[Parallel(n_jobs=20)]: Done  88 tasks      | elapsed:    1.5s\n",
      "[Parallel(n_jobs=20)]: Done 105 tasks      | elapsed:    1.7s\n",
      "[Parallel(n_jobs=20)]: Done 122 tasks      | elapsed:    1.9s\n",
      "[Parallel(n_jobs=20)]: Done 141 tasks      | elapsed:    2.2s\n",
      "[Parallel(n_jobs=20)]: Done 160 tasks      | elapsed:    2.4s\n",
      "[Parallel(n_jobs=20)]: Done 181 tasks      | elapsed:    2.7s\n",
      "[Parallel(n_jobs=20)]: Done 207 out of 223 | elapsed:    3.0s remaining:    0.2s\n",
      "[Parallel(n_jobs=20)]: Done 223 out of 223 | elapsed:    3.2s finished\n"
     ]
    },
    {
     "name": "stdout",
     "output_type": "stream",
     "text": [
      "# DILATE\n"
     ]
    },
    {
     "name": "stderr",
     "output_type": "stream",
     "text": [
      "[Parallel(n_jobs=20)]: Using backend LokyBackend with 20 concurrent workers.\n",
      "[Parallel(n_jobs=20)]: Done   1 tasks      | elapsed:    4.1s\n",
      "[Parallel(n_jobs=20)]: Done  10 tasks      | elapsed:    4.2s\n",
      "[Parallel(n_jobs=20)]: Done  21 tasks      | elapsed:    8.3s\n",
      "[Parallel(n_jobs=20)]: Done  32 tasks      | elapsed:    8.4s\n",
      "[Parallel(n_jobs=20)]: Done  45 tasks      | elapsed:   12.5s\n",
      "[Parallel(n_jobs=20)]: Done  58 tasks      | elapsed:   13.0s\n",
      "[Parallel(n_jobs=20)]: Done  73 tasks      | elapsed:   16.9s\n",
      "[Parallel(n_jobs=20)]: Done  88 tasks      | elapsed:   20.8s\n",
      "[Parallel(n_jobs=20)]: Done 105 tasks      | elapsed:   24.9s\n",
      "[Parallel(n_jobs=20)]: Done 122 tasks      | elapsed:   28.9s\n",
      "[Parallel(n_jobs=20)]: Done 141 tasks      | elapsed:   33.0s\n",
      "[Parallel(n_jobs=20)]: Done 160 tasks      | elapsed:   35.4s\n",
      "[Parallel(n_jobs=20)]: Done 181 tasks      | elapsed:   41.3s\n",
      "[Parallel(n_jobs=20)]: Done 207 out of 223 | elapsed:   45.6s remaining:    3.5s\n",
      "[Parallel(n_jobs=20)]: Done 223 out of 223 | elapsed:   48.9s finished\n",
      "  4%|▎         | 8/223 [00:00<00:02, 78.84it/s]"
     ]
    },
    {
     "name": "stdout",
     "output_type": "stream",
     "text": [
      "# CERTAIN VALUES\n"
     ]
    },
    {
     "name": "stderr",
     "output_type": "stream",
     "text": [
      "100%|██████████| 223/223 [00:02<00:00, 76.09it/s]\n",
      "100%|██████████| 223/223 [00:07<00:00, 28.39it/s]\n",
      "[Parallel(n_jobs=20)]: Using backend LokyBackend with 20 concurrent workers.\n",
      "[Parallel(n_jobs=20)]: Done   1 tasks      | elapsed:    0.1s\n",
      "[Parallel(n_jobs=20)]: Batch computation too fast (0.0545s.) Setting batch_size=2.\n"
     ]
    },
    {
     "name": "stdout",
     "output_type": "stream",
     "text": [
      "# UNCERTAIN VALUES\n",
      "# EDT\n"
     ]
    },
    {
     "name": "stderr",
     "output_type": "stream",
     "text": [
      "[Parallel(n_jobs=20)]: Done  10 tasks      | elapsed:    1.1s\n",
      "[Parallel(n_jobs=20)]: Done  21 tasks      | elapsed:    1.8s\n",
      "[Parallel(n_jobs=20)]: Done  32 tasks      | elapsed:    2.5s\n",
      "[Parallel(n_jobs=20)]: Batch computation too slow (2.7267s.) Setting batch_size=1.\n",
      "[Parallel(n_jobs=20)]: Done  50 tasks      | elapsed:    4.2s\n",
      "[Parallel(n_jobs=20)]: Done  76 tasks      | elapsed:    6.9s\n",
      "[Parallel(n_jobs=20)]: Done 106 tasks      | elapsed:    9.9s\n",
      "[Parallel(n_jobs=20)]: Done 128 tasks      | elapsed:   12.0s\n",
      "[Parallel(n_jobs=20)]: Done 145 tasks      | elapsed:   13.4s\n",
      "[Parallel(n_jobs=20)]: Done 162 tasks      | elapsed:   14.8s\n",
      "[Parallel(n_jobs=20)]: Done 181 tasks      | elapsed:   16.6s\n",
      "[Parallel(n_jobs=20)]: Done 207 out of 223 | elapsed:   18.9s remaining:    1.5s\n",
      "[Parallel(n_jobs=20)]: Done 223 out of 223 | elapsed:   20.3s finished\n",
      "  8%|▊         | 9275/123165 [00:00<00:01, 92743.90it/s]"
     ]
    },
    {
     "name": "stdout",
     "output_type": "stream",
     "text": [
      "# OUTPUT\n"
     ]
    },
    {
     "name": "stderr",
     "output_type": "stream",
     "text": [
      "100%|██████████| 123165/123165 [00:01<00:00, 92467.84it/s]\n",
      "100%|██████████| 222/222 [00:25<00:00,  8.56it/s]\n"
     ]
    }
   ],
   "source": [
    "for i in range(1, 8):\n",
    "    print(f\">>>>> SERIES {i} <<<<<\")\n",
    "    labels, dilated_labels, image = run_series(i)\n",
    "    fig, ax = plot_dilation(labels, dilated_labels, image)\n",
    "    tf.imwrite(f\"../../data/60x_mask/labels/a647_{i:03d}.labels.tiff\",\n",
    "               labels, software=\"GG20210811\")\n",
    "    tf.imwrite(f\"../../data/60x_mask/dilated_labels_watershed/a647_{i:03d}.dilated_labels.tiff\",\n",
    "               dilated_labels, software=\"GG20210811\")\n",
    "    fig.savefig(f\"../../data/60x_mask/dilated_labels_watershed_contours/a647_{i:03d}.contours.png\")"
   ]
  }
 ],
 "metadata": {
  "kernelspec": {
   "display_name": "Python 3",
   "language": "python",
   "name": "python3"
  },
  "language_info": {
   "codemirror_mode": {
    "name": "ipython",
    "version": 3
   },
   "file_extension": ".py",
   "mimetype": "text/x-python",
   "name": "python",
   "nbconvert_exporter": "python",
   "pygments_lexer": "ipython3",
   "version": "3.7.4"
  }
 },
 "nbformat": 4,
 "nbformat_minor": 4
}
