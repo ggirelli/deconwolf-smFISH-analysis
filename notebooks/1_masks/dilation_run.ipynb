{
 "cells": [
  {
   "cell_type": "code",
   "execution_count": 1,
   "metadata": {},
   "outputs": [],
   "source": [
    "import numpy as np\n",
    "from scipy import ndimage as ndi\n",
    "from skimage.io import imread\n",
    "from skimage.measure import find_contours\n",
    "from skimage.morphology import square, binary_dilation\n",
    "from skimage.segmentation import watershed\n",
    "from skimage.feature import peak_local_max\n",
    "from matplotlib import pyplot as plt\n",
    "from tqdm import tqdm\n",
    "from joblib import Parallel, delayed, cpu_count\n",
    "from typing import Tuple\n",
    "import tifffile as tf"
   ]
  },
  {
   "cell_type": "code",
   "execution_count": 2,
   "metadata": {},
   "outputs": [],
   "source": [
    "def edt_from_center_of_mass(img2d: np.ndarray) -> np.ndarray:\n",
    "    assert 2 == len(img2d.shape), img2d.shape\n",
    "    if 0 == img2d.sum():\n",
    "        return img2d\n",
    "    cx, cy = ndi.center_of_mass(img2d)\n",
    "    center_mask = np.ones(img2d.shape[-2:])\n",
    "    center_mask[int(np.floor(cx)), int(np.floor(cy))] = 0\n",
    "    center_edt = ndi.distance_transform_edt(center_mask)\n",
    "    center_edt[np.logical_not(img2d)] = 0\n",
    "    return center_edt"
   ]
  },
  {
   "cell_type": "code",
   "execution_count": 3,
   "metadata": {},
   "outputs": [],
   "source": [
    "def binary_dilation_with_fixed_overlap(\n",
    "    mask: np.ndarray, dilation_radius: int\n",
    ") -> Tuple[np.ndarray, np.ndarray]:\n",
    "    print(\"# EDT\")\n",
    "    distance = ndi.distance_transform_edt(mask)\n",
    "    print(\"# MAXIMA\")\n",
    "    coords = peak_local_max(distance,\n",
    "                            threshold_abs=20,\n",
    "                            min_distance=15,\n",
    "                            footprint=square(30))\n",
    "    peaks_mask = np.zeros(distance.shape, dtype=bool)\n",
    "    peaks_mask[tuple(coords.T)] = True\n",
    "    peaks_markers, _ = ndi.label(peaks_mask)\n",
    "    print(\"# WATERSHED\")\n",
    "    labels = watershed(-distance, peaks_markers, mask=mask)\n",
    "    print(\"# SPLIT MASKS\")\n",
    "    single_masks = np.array([i == labels for i in range(0, labels.max()+1)])\n",
    "    single_masks[0, :, :] = np.zeros(single_masks.shape[1:])\n",
    "    print(\"# DILATE\")\n",
    "    single_dilated_masks = np.array(Parallel(n_jobs=min(20, cpu_count()), verbose=10)(\n",
    "        delayed(binary_dilation)(single_masks[i, :, :], square(30))\n",
    "        for i in range(single_masks.shape[0])))\n",
    "    dilation_sum = single_dilated_masks.sum(0)\n",
    "    print(\"# CERTAIN VALUES\")\n",
    "    certain_pixels = np.logical_and(dilation_sum == 1, np.logical_not(labels != 0))\n",
    "    certain_pixel_values = np.array([single_dilated_masks[i, :, :]*i\n",
    "                                     for i in tqdm(range(single_dilated_masks.shape[0]))])\n",
    "    for i in tqdm(range(certain_pixel_values.shape[0])):\n",
    "        certain_pixel_values[i, np.logical_not(certain_pixels)] = 0\n",
    "    print(\"# UNCERTAIN VALUES\")\n",
    "    uncertain_pixels = np.logical_and(dilation_sum > 1, np.logical_not(labels != 0))\n",
    "    uncertain_coords = np.array(np.where(uncertain_pixels))\n",
    "    print(\"# EDT\")\n",
    "    single_dilated_edt = np.array(Parallel(n_jobs=min(20, cpu_count()), verbose=10)(\n",
    "        delayed(edt_from_center_of_mass)(single_dilated_masks[i, :, :])\n",
    "        for i in range(single_dilated_masks.shape[0])))\n",
    "    print(\"# OUTPUT\")\n",
    "    dilated_labels = labels.copy()\n",
    "    for i in tqdm(range(uncertain_coords.shape[1])):\n",
    "        icoords = uncertain_coords.transpose()[i, :]\n",
    "        overlapping_labels = np.where(single_dilated_masks[:, icoords[0], icoords[1]])[0]\n",
    "        selected_label = overlapping_labels[np.argmin(\n",
    "            single_dilated_edt[overlapping_labels, icoords[0], icoords[1]])]\n",
    "        dilated_labels[icoords[0], icoords[1]] = selected_label\n",
    "    dilated_labels += certain_pixel_values.sum(0)\n",
    "    return labels, dilated_labels"
   ]
  },
  {
   "cell_type": "code",
   "execution_count": 4,
   "metadata": {},
   "outputs": [],
   "source": [
    "def plot_dilation(labels: np.ndarray, dilated_labels: np.ndarray, image: np.ndarray) -> None:\n",
    "    fig, ax = plt.subplots(figsize=(20, 20))\n",
    "    ax.imshow(image.sum(0)*-1, cmap=\"binary\", interpolation=\"none\")\n",
    "    for i in tqdm(range(1, labels.max()+1)):\n",
    "        for contour in find_contours(labels == i, .5):\n",
    "            ax.plot(contour[:, 1], contour[:, 0], linewidth=1)\n",
    "        for contour in find_contours(dilated_labels == i, .5):\n",
    "            ax.plot(contour[:, 1], contour[:, 0], linewidth=1, linestyle='--')\n",
    "    plt.close(fig)\n",
    "    return fig, ax"
   ]
  },
  {
   "cell_type": "code",
   "execution_count": 5,
   "metadata": {},
   "outputs": [],
   "source": [
    "def run_series(series_id: int) -> None:\n",
    "    mask = imread(f\"../../data/60x_mask/original/a647_{series_id:03d}.tif\").reshape((2048, 2048))\n",
    "    image = imread(f\"/mnt/data/Imaging/202105-Deconwolf/data_210726/60x_dw/a647_{series_id:03d}.tif\")\n",
    "    labels, dilated_labels = binary_dilation_with_fixed_overlap(mask, 30)\n",
    "    return labels, dilated_labels, image"
   ]
  },
  {
   "cell_type": "code",
   "execution_count": 6,
   "metadata": {},
   "outputs": [
    {
     "name": "stdout",
     "output_type": "stream",
     "text": [
      ">>>>> SERIES 1 <<<<<\n",
      "# EDT\n",
      "# MAXIMA\n",
      "# WATERSHED\n",
      "# SPLIT MASKS\n",
      "# DILATE\n"
     ]
    },
    {
     "name": "stderr",
     "output_type": "stream",
     "text": [
      "[Parallel(n_jobs=20)]: Using backend LokyBackend with 20 concurrent workers.\n",
      "[Parallel(n_jobs=20)]: Done   1 tasks      | elapsed:    9.3s\n",
      "[Parallel(n_jobs=20)]: Done  10 tasks      | elapsed:    9.5s\n",
      "[Parallel(n_jobs=20)]: Done  21 tasks      | elapsed:   15.5s\n",
      "[Parallel(n_jobs=20)]: Done  32 tasks      | elapsed:   16.4s\n",
      "[Parallel(n_jobs=20)]: Done  45 tasks      | elapsed:   19.8s\n",
      "[Parallel(n_jobs=20)]: Done  58 tasks      | elapsed:   21.9s\n",
      "[Parallel(n_jobs=20)]: Done  73 tasks      | elapsed:   25.0s\n",
      "[Parallel(n_jobs=20)]: Done  88 tasks      | elapsed:   28.8s\n",
      "[Parallel(n_jobs=20)]: Done 105 tasks      | elapsed:   32.8s\n",
      "[Parallel(n_jobs=20)]: Done 122 tasks      | elapsed:   37.4s\n",
      "[Parallel(n_jobs=20)]: Done 145 out of 167 | elapsed:   42.7s remaining:    6.5s\n",
      "[Parallel(n_jobs=20)]: Done 162 out of 167 | elapsed:   46.7s remaining:    1.4s\n",
      "[Parallel(n_jobs=20)]: Done 167 out of 167 | elapsed:   47.3s finished\n",
      "  5%|▍         | 8/167 [00:00<00:02, 73.88it/s]"
     ]
    },
    {
     "name": "stdout",
     "output_type": "stream",
     "text": [
      "# CERTAIN VALUES\n"
     ]
    },
    {
     "name": "stderr",
     "output_type": "stream",
     "text": [
      "100%|██████████| 167/167 [00:02<00:00, 71.22it/s]\n",
      "100%|██████████| 167/167 [00:09<00:00, 18.13it/s]\n",
      "[Parallel(n_jobs=20)]: Using backend LokyBackend with 20 concurrent workers.\n",
      "[Parallel(n_jobs=20)]: Done   1 tasks      | elapsed:    0.1s\n",
      "[Parallel(n_jobs=20)]: Batch computation too fast (0.0636s.) Setting batch_size=2.\n"
     ]
    },
    {
     "name": "stdout",
     "output_type": "stream",
     "text": [
      "# UNCERTAIN VALUES\n",
      "# EDT\n"
     ]
    },
    {
     "name": "stderr",
     "output_type": "stream",
     "text": [
      "[Parallel(n_jobs=20)]: Done  10 tasks      | elapsed:    1.4s\n",
      "[Parallel(n_jobs=20)]: Done  21 tasks      | elapsed:    2.3s\n",
      "[Parallel(n_jobs=20)]: Done  32 tasks      | elapsed:    3.2s\n",
      "[Parallel(n_jobs=20)]: Batch computation too slow (4.0091s.) Setting batch_size=1.\n",
      "[Parallel(n_jobs=20)]: Done  50 tasks      | elapsed:    5.0s\n",
      "[Parallel(n_jobs=20)]: Done  76 tasks      | elapsed:    7.9s\n",
      "[Parallel(n_jobs=20)]: Done 106 tasks      | elapsed:   11.1s\n",
      "[Parallel(n_jobs=20)]: Done 128 tasks      | elapsed:   13.3s\n",
      "[Parallel(n_jobs=20)]: Done 145 out of 167 | elapsed:   14.8s remaining:    2.2s\n",
      "[Parallel(n_jobs=20)]: Done 162 out of 167 | elapsed:   16.3s remaining:    0.5s\n",
      "[Parallel(n_jobs=20)]: Done 167 out of 167 | elapsed:   16.7s finished\n",
      " 13%|█▎        | 12041/94081 [00:00<00:00, 120399.21it/s]"
     ]
    },
    {
     "name": "stdout",
     "output_type": "stream",
     "text": [
      "# OUTPUT\n"
     ]
    },
    {
     "name": "stderr",
     "output_type": "stream",
     "text": [
      "100%|██████████| 94081/94081 [00:00<00:00, 112606.45it/s]\n",
      "100%|██████████| 166/166 [00:21<00:00,  7.70it/s]\n"
     ]
    },
    {
     "name": "stdout",
     "output_type": "stream",
     "text": [
      ">>>>> SERIES 2 <<<<<\n",
      "# EDT\n",
      "# MAXIMA\n",
      "# WATERSHED\n",
      "# SPLIT MASKS\n",
      "# DILATE\n"
     ]
    },
    {
     "name": "stderr",
     "output_type": "stream",
     "text": [
      "[Parallel(n_jobs=20)]: Using backend LokyBackend with 20 concurrent workers.\n",
      "[Parallel(n_jobs=20)]: Done   1 tasks      | elapsed:    4.1s\n",
      "[Parallel(n_jobs=20)]: Done  10 tasks      | elapsed:    4.2s\n",
      "[Parallel(n_jobs=20)]: Done  21 tasks      | elapsed:    8.2s\n",
      "[Parallel(n_jobs=20)]: Done  32 tasks      | elapsed:    8.6s\n",
      "[Parallel(n_jobs=20)]: Done  45 tasks      | elapsed:   12.5s\n",
      "[Parallel(n_jobs=20)]: Done  58 tasks      | elapsed:   13.2s\n",
      "[Parallel(n_jobs=20)]: Done  73 tasks      | elapsed:   16.9s\n",
      "[Parallel(n_jobs=20)]: Done  88 tasks      | elapsed:   20.9s\n",
      "[Parallel(n_jobs=20)]: Done 105 tasks      | elapsed:   24.9s\n",
      "[Parallel(n_jobs=20)]: Done 122 tasks      | elapsed:   28.9s\n",
      "[Parallel(n_jobs=20)]: Done 144 out of 166 | elapsed:   33.1s remaining:    5.0s\n",
      "[Parallel(n_jobs=20)]: Done 161 out of 166 | elapsed:   36.7s remaining:    1.1s\n",
      "[Parallel(n_jobs=20)]: Done 166 out of 166 | elapsed:   36.9s finished\n",
      "  4%|▍         | 7/166 [00:00<00:02, 65.46it/s]"
     ]
    },
    {
     "name": "stdout",
     "output_type": "stream",
     "text": [
      "# CERTAIN VALUES\n"
     ]
    },
    {
     "name": "stderr",
     "output_type": "stream",
     "text": [
      "100%|██████████| 166/166 [00:02<00:00, 75.47it/s]\n",
      "100%|██████████| 166/166 [00:07<00:00, 20.84it/s]\n",
      "[Parallel(n_jobs=20)]: Using backend LokyBackend with 20 concurrent workers.\n",
      "[Parallel(n_jobs=20)]: Done   1 tasks      | elapsed:    0.1s\n",
      "[Parallel(n_jobs=20)]: Batch computation too fast (0.0731s.) Setting batch_size=2.\n"
     ]
    },
    {
     "name": "stdout",
     "output_type": "stream",
     "text": [
      "# UNCERTAIN VALUES\n",
      "# EDT\n"
     ]
    },
    {
     "name": "stderr",
     "output_type": "stream",
     "text": [
      "[Parallel(n_jobs=20)]: Done  10 tasks      | elapsed:    1.2s\n",
      "[Parallel(n_jobs=20)]: Done  21 tasks      | elapsed:    1.9s\n",
      "[Parallel(n_jobs=20)]: Done  32 tasks      | elapsed:    2.7s\n",
      "[Parallel(n_jobs=20)]: Batch computation too slow (2.7257s.) Setting batch_size=1.\n",
      "[Parallel(n_jobs=20)]: Done  50 tasks      | elapsed:    4.4s\n",
      "[Parallel(n_jobs=20)]: Done  76 tasks      | elapsed:    7.2s\n",
      "[Parallel(n_jobs=20)]: Done 106 tasks      | elapsed:   10.4s\n",
      "[Parallel(n_jobs=20)]: Done 144 out of 166 | elapsed:   13.8s remaining:    2.1s\n",
      "[Parallel(n_jobs=20)]: Done 161 out of 166 | elapsed:   15.3s remaining:    0.5s\n",
      "[Parallel(n_jobs=20)]: Done 166 out of 166 | elapsed:   15.8s finished\n",
      " 10%|█         | 11822/116493 [00:00<00:00, 118213.35it/s]"
     ]
    },
    {
     "name": "stdout",
     "output_type": "stream",
     "text": [
      "# OUTPUT\n"
     ]
    },
    {
     "name": "stderr",
     "output_type": "stream",
     "text": [
      "100%|██████████| 116493/116493 [00:01<00:00, 113030.88it/s]\n",
      "100%|██████████| 165/165 [00:19<00:00,  8.35it/s]\n"
     ]
    },
    {
     "name": "stdout",
     "output_type": "stream",
     "text": [
      ">>>>> SERIES 3 <<<<<\n",
      "# EDT\n",
      "# MAXIMA\n",
      "# WATERSHED\n",
      "# SPLIT MASKS\n",
      "# DILATE\n"
     ]
    },
    {
     "name": "stderr",
     "output_type": "stream",
     "text": [
      "[Parallel(n_jobs=20)]: Using backend LokyBackend with 20 concurrent workers.\n",
      "[Parallel(n_jobs=20)]: Done   1 tasks      | elapsed:    4.1s\n",
      "[Parallel(n_jobs=20)]: Done  10 tasks      | elapsed:    4.2s\n",
      "[Parallel(n_jobs=20)]: Done  21 tasks      | elapsed:    8.3s\n",
      "[Parallel(n_jobs=20)]: Done  32 tasks      | elapsed:    8.5s\n",
      "[Parallel(n_jobs=20)]: Done  45 tasks      | elapsed:   12.5s\n",
      "[Parallel(n_jobs=20)]: Done  58 tasks      | elapsed:   13.9s\n",
      "[Parallel(n_jobs=20)]: Done  73 tasks      | elapsed:   17.0s\n",
      "[Parallel(n_jobs=20)]: Done  91 out of 118 | elapsed:   21.0s remaining:    6.2s\n",
      "[Parallel(n_jobs=20)]: Done 103 out of 118 | elapsed:   24.9s remaining:    3.6s\n",
      "[Parallel(n_jobs=20)]: Done 115 out of 118 | elapsed:   25.5s remaining:    0.7s\n",
      "[Parallel(n_jobs=20)]: Done 118 out of 118 | elapsed:   26.5s finished\n",
      "  7%|▋         | 8/118 [00:00<00:01, 78.54it/s]"
     ]
    },
    {
     "name": "stdout",
     "output_type": "stream",
     "text": [
      "# CERTAIN VALUES\n"
     ]
    },
    {
     "name": "stderr",
     "output_type": "stream",
     "text": [
      "100%|██████████| 118/118 [00:01<00:00, 77.11it/s]\n",
      "100%|██████████| 118/118 [00:05<00:00, 20.35it/s]\n",
      "[Parallel(n_jobs=20)]: Using backend LokyBackend with 20 concurrent workers.\n",
      "[Parallel(n_jobs=20)]: Done   1 tasks      | elapsed:    0.1s\n",
      "[Parallel(n_jobs=20)]: Batch computation too fast (0.0604s.) Setting batch_size=2.\n"
     ]
    },
    {
     "name": "stdout",
     "output_type": "stream",
     "text": [
      "# UNCERTAIN VALUES\n",
      "# EDT\n"
     ]
    },
    {
     "name": "stderr",
     "output_type": "stream",
     "text": [
      "[Parallel(n_jobs=20)]: Done  10 tasks      | elapsed:    1.2s\n",
      "[Parallel(n_jobs=20)]: Done  21 tasks      | elapsed:    1.9s\n",
      "[Parallel(n_jobs=20)]: Done  32 tasks      | elapsed:    2.7s\n",
      "[Parallel(n_jobs=20)]: Batch computation too slow (2.7890s.) Setting batch_size=1.\n",
      "[Parallel(n_jobs=20)]: Done  50 tasks      | elapsed:    4.4s\n",
      "[Parallel(n_jobs=20)]: Done  75 tasks      | elapsed:    6.9s\n",
      "[Parallel(n_jobs=20)]: Done  91 out of 118 | elapsed:    8.4s remaining:    2.5s\n",
      "[Parallel(n_jobs=20)]: Done 103 out of 118 | elapsed:    9.4s remaining:    1.4s\n",
      "[Parallel(n_jobs=20)]: Done 115 out of 118 | elapsed:   10.3s remaining:    0.3s\n",
      "[Parallel(n_jobs=20)]: Done 118 out of 118 | elapsed:   10.5s finished\n",
      " 23%|██▎       | 13304/57738 [00:00<00:00, 133038.86it/s]"
     ]
    },
    {
     "name": "stdout",
     "output_type": "stream",
     "text": [
      "# OUTPUT\n"
     ]
    },
    {
     "name": "stderr",
     "output_type": "stream",
     "text": [
      "100%|██████████| 57738/57738 [00:00<00:00, 132717.38it/s]\n",
      "100%|██████████| 117/117 [00:13<00:00,  8.66it/s]\n"
     ]
    },
    {
     "name": "stdout",
     "output_type": "stream",
     "text": [
      ">>>>> SERIES 4 <<<<<\n",
      "# EDT\n",
      "# MAXIMA\n",
      "# WATERSHED\n",
      "# SPLIT MASKS\n",
      "# DILATE\n"
     ]
    },
    {
     "name": "stderr",
     "output_type": "stream",
     "text": [
      "[Parallel(n_jobs=20)]: Using backend LokyBackend with 20 concurrent workers.\n",
      "[Parallel(n_jobs=20)]: Done   1 tasks      | elapsed:    4.2s\n",
      "[Parallel(n_jobs=20)]: Done  10 tasks      | elapsed:    4.3s\n",
      "[Parallel(n_jobs=20)]: Done  21 tasks      | elapsed:    8.2s\n",
      "[Parallel(n_jobs=20)]: Done  32 tasks      | elapsed:    8.6s\n",
      "[Parallel(n_jobs=20)]: Done  45 tasks      | elapsed:   12.5s\n",
      "[Parallel(n_jobs=20)]: Done  58 tasks      | elapsed:   13.0s\n",
      "[Parallel(n_jobs=20)]: Done  73 tasks      | elapsed:   16.9s\n",
      "[Parallel(n_jobs=20)]: Done  97 out of 123 | elapsed:   21.4s remaining:    5.7s\n",
      "[Parallel(n_jobs=20)]: Done 110 out of 123 | elapsed:   25.1s remaining:    3.0s\n",
      "[Parallel(n_jobs=20)]: Done 123 out of 123 | elapsed:   28.3s remaining:    0.0s\n",
      "[Parallel(n_jobs=20)]: Done 123 out of 123 | elapsed:   28.3s finished\n",
      "  7%|▋         | 9/123 [00:00<00:01, 84.10it/s]"
     ]
    },
    {
     "name": "stdout",
     "output_type": "stream",
     "text": [
      "# CERTAIN VALUES\n"
     ]
    },
    {
     "name": "stderr",
     "output_type": "stream",
     "text": [
      "100%|██████████| 123/123 [00:01<00:00, 77.05it/s]\n",
      "100%|██████████| 123/123 [00:04<00:00, 26.14it/s]\n",
      "[Parallel(n_jobs=20)]: Using backend LokyBackend with 20 concurrent workers.\n",
      "[Parallel(n_jobs=20)]: Done   1 tasks      | elapsed:    0.1s\n",
      "[Parallel(n_jobs=20)]: Batch computation too fast (0.0511s.) Setting batch_size=2.\n"
     ]
    },
    {
     "name": "stdout",
     "output_type": "stream",
     "text": [
      "# UNCERTAIN VALUES\n",
      "# EDT\n"
     ]
    },
    {
     "name": "stderr",
     "output_type": "stream",
     "text": [
      "[Parallel(n_jobs=20)]: Done  10 tasks      | elapsed:    1.2s\n",
      "[Parallel(n_jobs=20)]: Done  21 tasks      | elapsed:    1.9s\n",
      "[Parallel(n_jobs=20)]: Done  32 tasks      | elapsed:    2.7s\n",
      "[Parallel(n_jobs=20)]: Batch computation too slow (3.4545s.) Setting batch_size=1.\n",
      "[Parallel(n_jobs=20)]: Done  58 out of 123 | elapsed:    5.1s remaining:    5.8s\n",
      "[Parallel(n_jobs=20)]: Done  84 out of 123 | elapsed:    7.9s remaining:    3.7s\n",
      "[Parallel(n_jobs=20)]: Done 110 out of 123 | elapsed:   10.6s remaining:    1.3s\n",
      "[Parallel(n_jobs=20)]: Done 123 out of 123 | elapsed:   11.8s remaining:    0.0s\n",
      "[Parallel(n_jobs=20)]: Done 123 out of 123 | elapsed:   11.8s finished\n",
      " 19%|█▉        | 13519/70514 [00:00<00:00, 135188.20it/s]"
     ]
    },
    {
     "name": "stdout",
     "output_type": "stream",
     "text": [
      "# OUTPUT\n"
     ]
    },
    {
     "name": "stderr",
     "output_type": "stream",
     "text": [
      "100%|██████████| 70514/70514 [00:00<00:00, 132718.18it/s]\n",
      "100%|██████████| 122/122 [00:14<00:00,  8.48it/s]\n"
     ]
    },
    {
     "name": "stdout",
     "output_type": "stream",
     "text": [
      ">>>>> SERIES 5 <<<<<\n",
      "# EDT\n",
      "# MAXIMA\n",
      "# WATERSHED\n",
      "# SPLIT MASKS\n",
      "# DILATE\n"
     ]
    },
    {
     "name": "stderr",
     "output_type": "stream",
     "text": [
      "[Parallel(n_jobs=20)]: Using backend LokyBackend with 20 concurrent workers.\n",
      "[Parallel(n_jobs=20)]: Done   1 tasks      | elapsed:    4.2s\n",
      "[Parallel(n_jobs=20)]: Done  10 tasks      | elapsed:    4.3s\n",
      "[Parallel(n_jobs=20)]: Done  21 tasks      | elapsed:    8.3s\n",
      "[Parallel(n_jobs=20)]: Done  32 tasks      | elapsed:    8.6s\n",
      "[Parallel(n_jobs=20)]: Done  45 tasks      | elapsed:   12.5s\n",
      "[Parallel(n_jobs=20)]: Done  58 tasks      | elapsed:   12.9s\n",
      "[Parallel(n_jobs=20)]: Done  73 tasks      | elapsed:   16.9s\n",
      "[Parallel(n_jobs=20)]: Done  88 tasks      | elapsed:   20.8s\n",
      "[Parallel(n_jobs=20)]: Done 105 tasks      | elapsed:   24.9s\n",
      "[Parallel(n_jobs=20)]: Done 122 tasks      | elapsed:   28.9s\n",
      "[Parallel(n_jobs=20)]: Done 155 out of 176 | elapsed:   33.6s remaining:    4.6s\n",
      "[Parallel(n_jobs=20)]: Done 173 out of 176 | elapsed:   37.6s remaining:    0.7s\n",
      "[Parallel(n_jobs=20)]: Done 176 out of 176 | elapsed:   37.8s finished\n",
      "  5%|▍         | 8/176 [00:00<00:02, 77.49it/s]"
     ]
    },
    {
     "name": "stdout",
     "output_type": "stream",
     "text": [
      "# CERTAIN VALUES\n"
     ]
    },
    {
     "name": "stderr",
     "output_type": "stream",
     "text": [
      "100%|██████████| 176/176 [00:02<00:00, 76.29it/s]\n",
      "100%|██████████| 176/176 [00:06<00:00, 27.60it/s]\n",
      "[Parallel(n_jobs=20)]: Using backend LokyBackend with 20 concurrent workers.\n",
      "[Parallel(n_jobs=20)]: Done   1 tasks      | elapsed:    0.1s\n",
      "[Parallel(n_jobs=20)]: Batch computation too fast (0.0548s.) Setting batch_size=2.\n"
     ]
    },
    {
     "name": "stdout",
     "output_type": "stream",
     "text": [
      "# UNCERTAIN VALUES\n",
      "# EDT\n"
     ]
    },
    {
     "name": "stderr",
     "output_type": "stream",
     "text": [
      "[Parallel(n_jobs=20)]: Done  10 tasks      | elapsed:    1.1s\n",
      "[Parallel(n_jobs=20)]: Done  21 tasks      | elapsed:    1.8s\n",
      "[Parallel(n_jobs=20)]: Done  32 tasks      | elapsed:    2.6s\n",
      "[Parallel(n_jobs=20)]: Batch computation too slow (3.3281s.) Setting batch_size=1.\n",
      "[Parallel(n_jobs=20)]: Done  50 tasks      | elapsed:    4.3s\n",
      "[Parallel(n_jobs=20)]: Done  76 tasks      | elapsed:    7.0s\n",
      "[Parallel(n_jobs=20)]: Done 106 tasks      | elapsed:   10.2s\n",
      "[Parallel(n_jobs=20)]: Done 128 tasks      | elapsed:   12.3s\n",
      "[Parallel(n_jobs=20)]: Done 155 out of 176 | elapsed:   14.7s remaining:    2.0s\n",
      "[Parallel(n_jobs=20)]: Done 173 out of 176 | elapsed:   16.1s remaining:    0.3s\n",
      "[Parallel(n_jobs=20)]: Done 176 out of 176 | elapsed:   16.3s finished\n",
      " 11%|█         | 11114/102320 [00:00<00:00, 111132.16it/s]"
     ]
    },
    {
     "name": "stdout",
     "output_type": "stream",
     "text": [
      "# OUTPUT\n"
     ]
    },
    {
     "name": "stderr",
     "output_type": "stream",
     "text": [
      "100%|██████████| 102320/102320 [00:00<00:00, 108938.26it/s]\n",
      "100%|██████████| 175/175 [00:20<00:00,  8.53it/s]\n"
     ]
    },
    {
     "name": "stdout",
     "output_type": "stream",
     "text": [
      ">>>>> SERIES 6 <<<<<\n",
      "# EDT\n",
      "# MAXIMA\n",
      "# WATERSHED\n",
      "# SPLIT MASKS\n",
      "# DILATE\n"
     ]
    },
    {
     "name": "stderr",
     "output_type": "stream",
     "text": [
      "[Parallel(n_jobs=20)]: Using backend LokyBackend with 20 concurrent workers.\n",
      "[Parallel(n_jobs=20)]: Done   1 tasks      | elapsed:    4.1s\n",
      "[Parallel(n_jobs=20)]: Done  10 tasks      | elapsed:    4.2s\n",
      "[Parallel(n_jobs=20)]: Done  21 tasks      | elapsed:    8.2s\n",
      "[Parallel(n_jobs=20)]: Done  32 tasks      | elapsed:    8.4s\n",
      "[Parallel(n_jobs=20)]: Done  45 tasks      | elapsed:   12.5s\n",
      "[Parallel(n_jobs=20)]: Done  58 tasks      | elapsed:   14.1s\n",
      "[Parallel(n_jobs=20)]: Done  73 tasks      | elapsed:   16.8s\n",
      "[Parallel(n_jobs=20)]: Done  88 tasks      | elapsed:   20.8s\n",
      "[Parallel(n_jobs=20)]: Done 105 tasks      | elapsed:   24.9s\n",
      "[Parallel(n_jobs=20)]: Done 122 tasks      | elapsed:   28.9s\n",
      "[Parallel(n_jobs=20)]: Done 141 tasks      | elapsed:   33.0s\n",
      "[Parallel(n_jobs=20)]: Done 165 out of 185 | elapsed:   37.3s remaining:    4.5s\n",
      "[Parallel(n_jobs=20)]: Done 185 out of 185 | elapsed:   41.1s finished\n",
      "  5%|▍         | 9/185 [00:00<00:02, 80.76it/s]"
     ]
    },
    {
     "name": "stdout",
     "output_type": "stream",
     "text": [
      "# CERTAIN VALUES\n"
     ]
    },
    {
     "name": "stderr",
     "output_type": "stream",
     "text": [
      "100%|██████████| 185/185 [00:02<00:00, 76.42it/s]\n",
      "100%|██████████| 185/185 [00:06<00:00, 27.42it/s]\n",
      "[Parallel(n_jobs=20)]: Using backend LokyBackend with 20 concurrent workers.\n",
      "[Parallel(n_jobs=20)]: Done   1 tasks      | elapsed:    0.1s\n",
      "[Parallel(n_jobs=20)]: Batch computation too fast (0.0678s.) Setting batch_size=2.\n"
     ]
    },
    {
     "name": "stdout",
     "output_type": "stream",
     "text": [
      "# UNCERTAIN VALUES\n",
      "# EDT\n"
     ]
    },
    {
     "name": "stderr",
     "output_type": "stream",
     "text": [
      "[Parallel(n_jobs=20)]: Done  10 tasks      | elapsed:    1.2s\n",
      "[Parallel(n_jobs=20)]: Done  21 tasks      | elapsed:    1.9s\n",
      "[Parallel(n_jobs=20)]: Done  32 tasks      | elapsed:    2.7s\n",
      "[Parallel(n_jobs=20)]: Batch computation too slow (2.7980s.) Setting batch_size=1.\n",
      "[Parallel(n_jobs=20)]: Done  50 tasks      | elapsed:    4.4s\n",
      "[Parallel(n_jobs=20)]: Done  76 tasks      | elapsed:    7.2s\n",
      "[Parallel(n_jobs=20)]: Done 106 tasks      | elapsed:   10.4s\n",
      "[Parallel(n_jobs=20)]: Done 128 tasks      | elapsed:   12.7s\n",
      "[Parallel(n_jobs=20)]: Done 145 tasks      | elapsed:   14.4s\n",
      "[Parallel(n_jobs=20)]: Done 165 out of 185 | elapsed:   16.3s remaining:    2.0s\n",
      "[Parallel(n_jobs=20)]: Done 185 out of 185 | elapsed:   18.1s finished\n",
      " 10%|█         | 10880/107180 [00:00<00:00, 108798.55it/s]"
     ]
    },
    {
     "name": "stdout",
     "output_type": "stream",
     "text": [
      "# OUTPUT\n"
     ]
    },
    {
     "name": "stderr",
     "output_type": "stream",
     "text": [
      "100%|██████████| 107180/107180 [00:01<00:00, 104787.94it/s]\n",
      "100%|██████████| 184/184 [00:21<00:00,  8.66it/s]\n"
     ]
    },
    {
     "name": "stdout",
     "output_type": "stream",
     "text": [
      ">>>>> SERIES 7 <<<<<\n",
      "# EDT\n",
      "# MAXIMA\n",
      "# WATERSHED\n",
      "# SPLIT MASKS\n",
      "# DILATE\n"
     ]
    },
    {
     "name": "stderr",
     "output_type": "stream",
     "text": [
      "[Parallel(n_jobs=20)]: Using backend LokyBackend with 20 concurrent workers.\n",
      "[Parallel(n_jobs=20)]: Done   1 tasks      | elapsed:    4.2s\n",
      "[Parallel(n_jobs=20)]: Done  10 tasks      | elapsed:    4.2s\n",
      "[Parallel(n_jobs=20)]: Done  21 tasks      | elapsed:    8.3s\n",
      "[Parallel(n_jobs=20)]: Done  32 tasks      | elapsed:    8.6s\n",
      "[Parallel(n_jobs=20)]: Done  45 tasks      | elapsed:   12.6s\n",
      "[Parallel(n_jobs=20)]: Done  58 tasks      | elapsed:   13.7s\n",
      "[Parallel(n_jobs=20)]: Done  73 tasks      | elapsed:   17.1s\n",
      "[Parallel(n_jobs=20)]: Done  88 tasks      | elapsed:   20.9s\n",
      "[Parallel(n_jobs=20)]: Done 105 tasks      | elapsed:   25.1s\n",
      "[Parallel(n_jobs=20)]: Done 122 tasks      | elapsed:   29.1s\n",
      "[Parallel(n_jobs=20)]: Done 145 out of 167 | elapsed:   33.3s remaining:    5.1s\n",
      "[Parallel(n_jobs=20)]: Done 162 out of 167 | elapsed:   37.0s remaining:    1.1s\n",
      "[Parallel(n_jobs=20)]: Done 167 out of 167 | elapsed:   37.1s finished\n",
      "  5%|▌         | 9/167 [00:00<00:01, 82.55it/s]"
     ]
    },
    {
     "name": "stdout",
     "output_type": "stream",
     "text": [
      "# CERTAIN VALUES\n"
     ]
    },
    {
     "name": "stderr",
     "output_type": "stream",
     "text": [
      "100%|██████████| 167/167 [00:02<00:00, 77.22it/s]\n",
      "100%|██████████| 167/167 [00:06<00:00, 27.03it/s]\n",
      "[Parallel(n_jobs=20)]: Using backend LokyBackend with 20 concurrent workers.\n",
      "[Parallel(n_jobs=20)]: Done   1 tasks      | elapsed:    0.1s\n",
      "[Parallel(n_jobs=20)]: Batch computation too fast (0.0510s.) Setting batch_size=2.\n"
     ]
    },
    {
     "name": "stdout",
     "output_type": "stream",
     "text": [
      "# UNCERTAIN VALUES\n",
      "# EDT\n"
     ]
    },
    {
     "name": "stderr",
     "output_type": "stream",
     "text": [
      "[Parallel(n_jobs=20)]: Done  10 tasks      | elapsed:    1.1s\n",
      "[Parallel(n_jobs=20)]: Done  21 tasks      | elapsed:    1.9s\n",
      "[Parallel(n_jobs=20)]: Done  32 tasks      | elapsed:    2.6s\n",
      "[Parallel(n_jobs=20)]: Batch computation too slow (2.7870s.) Setting batch_size=1.\n",
      "[Parallel(n_jobs=20)]: Done  50 tasks      | elapsed:    4.4s\n",
      "[Parallel(n_jobs=20)]: Done  76 tasks      | elapsed:    7.1s\n",
      "[Parallel(n_jobs=20)]: Done 106 tasks      | elapsed:   10.1s\n",
      "[Parallel(n_jobs=20)]: Done 128 tasks      | elapsed:   12.3s\n",
      "[Parallel(n_jobs=20)]: Done 145 out of 167 | elapsed:   13.6s remaining:    2.1s\n",
      "[Parallel(n_jobs=20)]: Done 162 out of 167 | elapsed:   15.1s remaining:    0.5s\n",
      "[Parallel(n_jobs=20)]: Done 167 out of 167 | elapsed:   15.5s finished\n",
      " 13%|█▎        | 11952/94449 [00:00<00:00, 119519.54it/s]"
     ]
    },
    {
     "name": "stdout",
     "output_type": "stream",
     "text": [
      "# OUTPUT\n"
     ]
    },
    {
     "name": "stderr",
     "output_type": "stream",
     "text": [
      "100%|██████████| 94449/94449 [00:00<00:00, 116540.97it/s]\n",
      "100%|██████████| 166/166 [00:19<00:00,  8.62it/s]\n"
     ]
    }
   ],
   "source": [
    "for i in range(1, 8):\n",
    "    print(f\">>>>> SERIES {i} <<<<<\")\n",
    "    labels, dilated_labels, image = run_series(i)\n",
    "    fig, ax = plot_dilation(labels, dilated_labels, image)\n",
    "    tf.imwrite(f\"../../data/60x_mask/labels/a647_{i:03d}.labels.tiff\",\n",
    "               labels, software=\"GG20210811\")\n",
    "    tf.imwrite(f\"../../data/60x_mask/dilated_labels_watershed/a647_{i:03d}.dilated_labels.tiff\",\n",
    "               dilated_labels, software=\"GG20210811\")\n",
    "    fig.savefig(f\"../../data/60x_mask/dilated_labels_watershed_contours/a647_{i:03d}.contours.png\")"
   ]
  }
 ],
 "metadata": {
  "kernelspec": {
   "display_name": "Python 3",
   "language": "python",
   "name": "python3"
  },
  "language_info": {
   "codemirror_mode": {
    "name": "ipython",
    "version": 3
   },
   "file_extension": ".py",
   "mimetype": "text/x-python",
   "name": "python",
   "nbconvert_exporter": "python",
   "pygments_lexer": "ipython3",
   "version": "3.7.4"
  }
 },
 "nbformat": 4,
 "nbformat_minor": 4
}
