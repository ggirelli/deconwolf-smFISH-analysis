{
 "cells": [
  {
   "cell_type": "code",
   "execution_count": 1,
   "metadata": {},
   "outputs": [],
   "source": [
    "import numpy as np\n",
    "from scipy import ndimage as ndi\n",
    "from skimage.io import imread\n",
    "from skimage.measure import find_contours\n",
    "from skimage.morphology import square, binary_dilation\n",
    "from skimage.segmentation import watershed\n",
    "from skimage.feature import peak_local_max\n",
    "from matplotlib import pyplot as plt\n",
    "from tqdm import tqdm\n",
    "from joblib import Parallel, delayed, cpu_count\n",
    "from typing import Tuple\n",
    "import tifffile as tf"
   ]
  },
  {
   "cell_type": "code",
   "execution_count": 2,
   "metadata": {},
   "outputs": [],
   "source": [
    "def binary_dilation_with_fixed_overlap(\n",
    "    mask: np.ndarray, dilation_radius: int\n",
    ") -> Tuple[np.ndarray, np.ndarray]:\n",
    "    print(\"# EDT\")\n",
    "    distance = ndi.distance_transform_edt(mask)\n",
    "    print(\"# MAXIMA\")\n",
    "    coords = peak_local_max(distance,\n",
    "                            threshold_abs=20,\n",
    "                            min_distance=15,\n",
    "                            footprint=square(30))\n",
    "    peaks_mask = np.zeros(distance.shape, dtype=bool)\n",
    "    peaks_mask[tuple(coords.T)] = True\n",
    "    peaks_markers, _ = ndi.label(peaks_mask)\n",
    "    print(\"# WATERSHED\")\n",
    "    labels = watershed(-distance, peaks_markers, mask=mask)\n",
    "    print(\"# SPLIT MASKS\")\n",
    "    single_masks = np.array([i == labels for i in range(0, labels.max()+1)])\n",
    "    single_masks[0, :, :] = np.zeros(single_masks.shape[1:])\n",
    "    print(\"# DILATE\")\n",
    "    single_dilated_masks = np.array(Parallel(n_jobs=min(20, cpu_count()), verbose=10)(\n",
    "        delayed(binary_dilation)(single_masks[i, :, :], square(30))\n",
    "        for i in range(single_masks.shape[0])))\n",
    "    dilation_sum = single_dilated_masks.sum(0)\n",
    "    print(\"# CERTAIN VALUES\")\n",
    "    certain_pixels = np.logical_and(dilation_sum == 1, np.logical_not(labels != 0))\n",
    "    certain_pixel_values = np.array([single_dilated_masks[i, :, :]*i\n",
    "                                     for i in tqdm(range(single_dilated_masks.shape[0]))])\n",
    "    for i in tqdm(range(certain_pixel_values.shape[0])):\n",
    "        certain_pixel_values[i, np.logical_not(certain_pixels)] = 0\n",
    "    print(\"# UNCERTAIN VALUES\")\n",
    "    uncertain_pixels = np.logical_and(dilation_sum > 1, np.logical_not(labels != 0))\n",
    "    uncertain_coords = np.array(np.where(uncertain_pixels))\n",
    "    print(\"# EDT\")\n",
    "    single_dilated_edt = np.array(Parallel(n_jobs=min(20, cpu_count()), verbose=10)(\n",
    "        delayed(ndi.distance_transform_edt)(single_dilated_masks[i, :, :])\n",
    "        for i in range(single_dilated_masks.shape[0])))\n",
    "    print(\"# OUTPUT\")\n",
    "    dilated_labels = labels.copy()\n",
    "    for i in tqdm(range(uncertain_coords.shape[1])):\n",
    "        icoords = uncertain_coords.transpose()[i, :]\n",
    "        overlapping_labels = np.where(single_dilated_masks[:, icoords[0], icoords[1]])[0]\n",
    "        selected_label = overlapping_labels[np.argmax(\n",
    "            single_dilated_edt[overlapping_labels, icoords[0], icoords[1]])]\n",
    "        dilated_labels[icoords[0], icoords[1]] = selected_label\n",
    "    dilated_labels += certain_pixel_values.sum(0)\n",
    "    return labels, dilated_labels"
   ]
  },
  {
   "cell_type": "code",
   "execution_count": 3,
   "metadata": {},
   "outputs": [],
   "source": [
    "def plot_dilation(labels: np.ndarray, dilated_labels: np.ndarray, image: np.ndarray) -> None:\n",
    "    fig, ax = plt.subplots(figsize=(20, 20))\n",
    "    ax.imshow(image.sum(0)*-1, cmap=\"binary\", interpolation=\"none\")\n",
    "    for i in tqdm(range(1, labels.max()+1)):\n",
    "        for contour in find_contours(labels == i, .5):\n",
    "            ax.plot(contour[:, 1], contour[:, 0], linewidth=1)\n",
    "        for contour in find_contours(dilated_labels == i, .5):\n",
    "            ax.plot(contour[:, 1], contour[:, 0], linewidth=1, linestyle='--')\n",
    "    plt.close(fig)\n",
    "    return fig, ax"
   ]
  },
  {
   "cell_type": "code",
   "execution_count": 4,
   "metadata": {},
   "outputs": [],
   "source": [
    "def run_series(series_id: int) -> None:\n",
    "    mask = imread(f\"../../data/60x_mask/original/a647_{series_id:03d}.tif\").reshape((2048, 2048))\n",
    "    image = imread(f\"/mnt/data/Imaging/202105-Deconwolf/data_210726/60x_dw/a647_{series_id:03d}.tif\")\n",
    "    labels, dilated_labels = binary_dilation_with_fixed_overlap(mask, 30)\n",
    "    return labels, dilated_labels, image"
   ]
  },
  {
   "cell_type": "code",
   "execution_count": 5,
   "metadata": {},
   "outputs": [
    {
     "name": "stdout",
     "output_type": "stream",
     "text": [
      ">>>>> SERIES 1 <<<<<\n",
      "# EDT\n",
      "# MAXIMA\n",
      "# WATERSHED\n",
      "# SPLIT MASKS\n",
      "# DILATE\n"
     ]
    },
    {
     "name": "stderr",
     "output_type": "stream",
     "text": [
      "[Parallel(n_jobs=20)]: Using backend LokyBackend with 20 concurrent workers.\n",
      "[Parallel(n_jobs=20)]: Done   1 tasks      | elapsed:    5.1s\n",
      "[Parallel(n_jobs=20)]: Done  10 tasks      | elapsed:    5.4s\n",
      "[Parallel(n_jobs=20)]: Done  21 tasks      | elapsed:    9.3s\n",
      "[Parallel(n_jobs=20)]: Done  32 tasks      | elapsed:    9.7s\n",
      "[Parallel(n_jobs=20)]: Done  45 tasks      | elapsed:   13.7s\n",
      "[Parallel(n_jobs=20)]: Done  58 tasks      | elapsed:   14.2s\n",
      "[Parallel(n_jobs=20)]: Done  73 tasks      | elapsed:   18.1s\n",
      "[Parallel(n_jobs=20)]: Done  88 tasks      | elapsed:   22.2s\n",
      "[Parallel(n_jobs=20)]: Done 105 tasks      | elapsed:   26.1s\n",
      "[Parallel(n_jobs=20)]: Done 122 tasks      | elapsed:   30.1s\n",
      "[Parallel(n_jobs=20)]: Done 145 out of 167 | elapsed:   34.4s remaining:    5.2s\n",
      "[Parallel(n_jobs=20)]: Done 162 out of 167 | elapsed:   37.9s remaining:    1.2s\n",
      "[Parallel(n_jobs=20)]: Done 167 out of 167 | elapsed:   38.3s finished\n",
      "  5%|▍         | 8/167 [00:00<00:02, 77.67it/s]"
     ]
    },
    {
     "name": "stdout",
     "output_type": "stream",
     "text": [
      "# CERTAIN VALUES\n"
     ]
    },
    {
     "name": "stderr",
     "output_type": "stream",
     "text": [
      "100%|██████████| 167/167 [00:02<00:00, 76.48it/s]\n",
      "100%|██████████| 167/167 [00:08<00:00, 19.79it/s]\n",
      "[Parallel(n_jobs=20)]: Using backend LokyBackend with 20 concurrent workers.\n"
     ]
    },
    {
     "name": "stdout",
     "output_type": "stream",
     "text": [
      "# UNCERTAIN VALUES\n",
      "# EDT\n"
     ]
    },
    {
     "name": "stderr",
     "output_type": "stream",
     "text": [
      "[Parallel(n_jobs=20)]: Done   1 tasks      | elapsed:    0.9s\n",
      "[Parallel(n_jobs=20)]: Done  10 tasks      | elapsed:    1.5s\n",
      "[Parallel(n_jobs=20)]: Done  21 tasks      | elapsed:    2.4s\n",
      "[Parallel(n_jobs=20)]: Done  32 tasks      | elapsed:    3.3s\n",
      "[Parallel(n_jobs=20)]: Done  45 tasks      | elapsed:    4.2s\n",
      "[Parallel(n_jobs=20)]: Done  58 tasks      | elapsed:    5.0s\n",
      "[Parallel(n_jobs=20)]: Done  73 tasks      | elapsed:    6.1s\n",
      "[Parallel(n_jobs=20)]: Done  88 tasks      | elapsed:    7.1s\n",
      "[Parallel(n_jobs=20)]: Done 105 tasks      | elapsed:    8.2s\n",
      "[Parallel(n_jobs=20)]: Done 122 tasks      | elapsed:    9.3s\n",
      "[Parallel(n_jobs=20)]: Done 145 out of 167 | elapsed:   10.9s remaining:    1.7s\n",
      "[Parallel(n_jobs=20)]: Done 162 out of 167 | elapsed:   12.1s remaining:    0.4s\n",
      "[Parallel(n_jobs=20)]: Done 167 out of 167 | elapsed:   12.4s finished\n",
      "  7%|▋         | 6905/94081 [00:00<00:01, 69044.30it/s]"
     ]
    },
    {
     "name": "stdout",
     "output_type": "stream",
     "text": [
      "# OUTPUT\n"
     ]
    },
    {
     "name": "stderr",
     "output_type": "stream",
     "text": [
      "100%|██████████| 94081/94081 [00:01<00:00, 83700.69it/s]\n",
      "100%|██████████| 166/166 [00:22<00:00,  7.49it/s]\n"
     ]
    },
    {
     "name": "stdout",
     "output_type": "stream",
     "text": [
      ">>>>> SERIES 2 <<<<<\n",
      "# EDT\n",
      "# MAXIMA\n",
      "# WATERSHED\n",
      "# SPLIT MASKS\n",
      "# DILATE\n"
     ]
    },
    {
     "name": "stderr",
     "output_type": "stream",
     "text": [
      "[Parallel(n_jobs=20)]: Using backend LokyBackend with 20 concurrent workers.\n",
      "[Parallel(n_jobs=20)]: Done   1 tasks      | elapsed:    4.2s\n",
      "[Parallel(n_jobs=20)]: Done  10 tasks      | elapsed:    4.4s\n",
      "[Parallel(n_jobs=20)]: Done  21 tasks      | elapsed:    8.3s\n",
      "[Parallel(n_jobs=20)]: Done  32 tasks      | elapsed:    8.8s\n",
      "[Parallel(n_jobs=20)]: Done  45 tasks      | elapsed:   12.7s\n",
      "[Parallel(n_jobs=20)]: Done  58 tasks      | elapsed:   14.0s\n",
      "[Parallel(n_jobs=20)]: Done  73 tasks      | elapsed:   17.2s\n",
      "[Parallel(n_jobs=20)]: Done  88 tasks      | elapsed:   21.3s\n",
      "[Parallel(n_jobs=20)]: Done 105 tasks      | elapsed:   25.2s\n",
      "[Parallel(n_jobs=20)]: Done 122 tasks      | elapsed:   29.1s\n",
      "[Parallel(n_jobs=20)]: Done 144 out of 166 | elapsed:   33.4s remaining:    5.1s\n",
      "[Parallel(n_jobs=20)]: Done 161 out of 166 | elapsed:   36.9s remaining:    1.1s\n",
      "[Parallel(n_jobs=20)]: Done 166 out of 166 | elapsed:   37.5s finished\n",
      "  4%|▍         | 7/166 [00:00<00:02, 64.12it/s]"
     ]
    },
    {
     "name": "stdout",
     "output_type": "stream",
     "text": [
      "# CERTAIN VALUES\n"
     ]
    },
    {
     "name": "stderr",
     "output_type": "stream",
     "text": [
      "100%|██████████| 166/166 [00:02<00:00, 74.00it/s]\n",
      "100%|██████████| 166/166 [00:08<00:00, 19.28it/s]\n",
      "[Parallel(n_jobs=20)]: Using backend LokyBackend with 20 concurrent workers.\n"
     ]
    },
    {
     "name": "stdout",
     "output_type": "stream",
     "text": [
      "# UNCERTAIN VALUES\n",
      "# EDT\n"
     ]
    },
    {
     "name": "stderr",
     "output_type": "stream",
     "text": [
      "[Parallel(n_jobs=20)]: Done   1 tasks      | elapsed:    0.9s\n",
      "[Parallel(n_jobs=20)]: Done  10 tasks      | elapsed:    1.5s\n",
      "[Parallel(n_jobs=20)]: Done  21 tasks      | elapsed:    2.4s\n",
      "[Parallel(n_jobs=20)]: Done  32 tasks      | elapsed:    3.1s\n",
      "[Parallel(n_jobs=20)]: Done  45 tasks      | elapsed:    4.0s\n",
      "[Parallel(n_jobs=20)]: Done  58 tasks      | elapsed:    4.9s\n",
      "[Parallel(n_jobs=20)]: Done  73 tasks      | elapsed:    5.9s\n",
      "[Parallel(n_jobs=20)]: Done  88 tasks      | elapsed:    7.0s\n",
      "[Parallel(n_jobs=20)]: Done 105 tasks      | elapsed:    8.3s\n",
      "[Parallel(n_jobs=20)]: Done 122 tasks      | elapsed:    9.7s\n",
      "[Parallel(n_jobs=20)]: Done 144 out of 166 | elapsed:   11.2s remaining:    1.7s\n",
      "[Parallel(n_jobs=20)]: Done 161 out of 166 | elapsed:   12.2s remaining:    0.4s\n",
      "[Parallel(n_jobs=20)]: Done 166 out of 166 | elapsed:   12.5s finished\n",
      "  8%|▊         | 8931/116493 [00:00<00:01, 89307.10it/s]"
     ]
    },
    {
     "name": "stdout",
     "output_type": "stream",
     "text": [
      "# OUTPUT\n"
     ]
    },
    {
     "name": "stderr",
     "output_type": "stream",
     "text": [
      "100%|██████████| 116493/116493 [00:01<00:00, 90911.52it/s]\n",
      "100%|██████████| 165/165 [00:20<00:00,  8.05it/s]\n"
     ]
    },
    {
     "name": "stdout",
     "output_type": "stream",
     "text": [
      ">>>>> SERIES 3 <<<<<\n",
      "# EDT\n",
      "# MAXIMA\n",
      "# WATERSHED\n",
      "# SPLIT MASKS\n",
      "# DILATE\n"
     ]
    },
    {
     "name": "stderr",
     "output_type": "stream",
     "text": [
      "[Parallel(n_jobs=20)]: Using backend LokyBackend with 20 concurrent workers.\n",
      "[Parallel(n_jobs=20)]: Done   1 tasks      | elapsed:    4.1s\n",
      "[Parallel(n_jobs=20)]: Done  10 tasks      | elapsed:    4.3s\n",
      "[Parallel(n_jobs=20)]: Done  21 tasks      | elapsed:    8.2s\n",
      "[Parallel(n_jobs=20)]: Done  32 tasks      | elapsed:    8.6s\n",
      "[Parallel(n_jobs=20)]: Done  45 tasks      | elapsed:   12.5s\n",
      "[Parallel(n_jobs=20)]: Done  58 tasks      | elapsed:   13.5s\n",
      "[Parallel(n_jobs=20)]: Done  73 tasks      | elapsed:   16.9s\n",
      "[Parallel(n_jobs=20)]: Done  91 out of 118 | elapsed:   21.0s remaining:    6.2s\n",
      "[Parallel(n_jobs=20)]: Done 103 out of 118 | elapsed:   24.9s remaining:    3.6s\n",
      "[Parallel(n_jobs=20)]: Done 115 out of 118 | elapsed:   25.2s remaining:    0.7s\n",
      "[Parallel(n_jobs=20)]: Done 118 out of 118 | elapsed:   25.8s finished\n",
      "  8%|▊         | 9/118 [00:00<00:01, 83.38it/s]"
     ]
    },
    {
     "name": "stdout",
     "output_type": "stream",
     "text": [
      "# CERTAIN VALUES\n"
     ]
    },
    {
     "name": "stderr",
     "output_type": "stream",
     "text": [
      "100%|██████████| 118/118 [00:01<00:00, 77.79it/s]\n",
      "100%|██████████| 118/118 [00:04<00:00, 26.30it/s]\n",
      "[Parallel(n_jobs=20)]: Using backend LokyBackend with 20 concurrent workers.\n"
     ]
    },
    {
     "name": "stdout",
     "output_type": "stream",
     "text": [
      "# UNCERTAIN VALUES\n",
      "# EDT\n"
     ]
    },
    {
     "name": "stderr",
     "output_type": "stream",
     "text": [
      "[Parallel(n_jobs=20)]: Done   1 tasks      | elapsed:    0.9s\n",
      "[Parallel(n_jobs=20)]: Done  10 tasks      | elapsed:    1.4s\n",
      "[Parallel(n_jobs=20)]: Done  21 tasks      | elapsed:    2.2s\n",
      "[Parallel(n_jobs=20)]: Done  32 tasks      | elapsed:    2.9s\n",
      "[Parallel(n_jobs=20)]: Done  45 tasks      | elapsed:    3.8s\n",
      "[Parallel(n_jobs=20)]: Done  58 tasks      | elapsed:    4.7s\n",
      "[Parallel(n_jobs=20)]: Done  73 tasks      | elapsed:    5.7s\n",
      "[Parallel(n_jobs=20)]: Done  91 out of 118 | elapsed:    6.8s remaining:    2.0s\n",
      "[Parallel(n_jobs=20)]: Done 103 out of 118 | elapsed:    7.6s remaining:    1.1s\n",
      "[Parallel(n_jobs=20)]: Done 115 out of 118 | elapsed:    8.3s remaining:    0.2s\n",
      "[Parallel(n_jobs=20)]: Done 118 out of 118 | elapsed:    8.5s finished\n",
      " 19%|█▉        | 11103/57738 [00:00<00:00, 111011.58it/s]"
     ]
    },
    {
     "name": "stdout",
     "output_type": "stream",
     "text": [
      "# OUTPUT\n"
     ]
    },
    {
     "name": "stderr",
     "output_type": "stream",
     "text": [
      "100%|██████████| 57738/57738 [00:00<00:00, 110901.91it/s]\n",
      "100%|██████████| 117/117 [00:13<00:00,  8.52it/s]\n"
     ]
    },
    {
     "name": "stdout",
     "output_type": "stream",
     "text": [
      ">>>>> SERIES 4 <<<<<\n",
      "# EDT\n",
      "# MAXIMA\n",
      "# WATERSHED\n",
      "# SPLIT MASKS\n",
      "# DILATE\n"
     ]
    },
    {
     "name": "stderr",
     "output_type": "stream",
     "text": [
      "[Parallel(n_jobs=20)]: Using backend LokyBackend with 20 concurrent workers.\n",
      "[Parallel(n_jobs=20)]: Done   1 tasks      | elapsed:    4.2s\n",
      "[Parallel(n_jobs=20)]: Done  10 tasks      | elapsed:    4.3s\n",
      "[Parallel(n_jobs=20)]: Done  21 tasks      | elapsed:    8.2s\n",
      "[Parallel(n_jobs=20)]: Done  32 tasks      | elapsed:    8.5s\n",
      "[Parallel(n_jobs=20)]: Done  45 tasks      | elapsed:   12.4s\n",
      "[Parallel(n_jobs=20)]: Done  58 tasks      | elapsed:   13.4s\n",
      "[Parallel(n_jobs=20)]: Done  73 tasks      | elapsed:   16.8s\n",
      "[Parallel(n_jobs=20)]: Done  97 out of 123 | elapsed:   21.9s remaining:    5.9s\n",
      "[Parallel(n_jobs=20)]: Done 110 out of 123 | elapsed:   25.2s remaining:    3.0s\n",
      "[Parallel(n_jobs=20)]: Done 123 out of 123 | elapsed:   28.4s remaining:    0.0s\n",
      "[Parallel(n_jobs=20)]: Done 123 out of 123 | elapsed:   28.4s finished\n",
      "  7%|▋         | 8/123 [00:00<00:01, 73.73it/s]"
     ]
    },
    {
     "name": "stdout",
     "output_type": "stream",
     "text": [
      "# CERTAIN VALUES\n"
     ]
    },
    {
     "name": "stderr",
     "output_type": "stream",
     "text": [
      "100%|██████████| 123/123 [00:01<00:00, 74.73it/s]\n",
      "100%|██████████| 123/123 [00:04<00:00, 26.43it/s]\n",
      "[Parallel(n_jobs=20)]: Using backend LokyBackend with 20 concurrent workers.\n"
     ]
    },
    {
     "name": "stdout",
     "output_type": "stream",
     "text": [
      "# UNCERTAIN VALUES\n",
      "# EDT\n"
     ]
    },
    {
     "name": "stderr",
     "output_type": "stream",
     "text": [
      "[Parallel(n_jobs=20)]: Done   1 tasks      | elapsed:    1.0s\n",
      "[Parallel(n_jobs=20)]: Done  10 tasks      | elapsed:    2.1s\n",
      "[Parallel(n_jobs=20)]: Done  21 tasks      | elapsed:    3.4s\n",
      "[Parallel(n_jobs=20)]: Done  32 tasks      | elapsed:    4.7s\n",
      "[Parallel(n_jobs=20)]: Done  45 tasks      | elapsed:    6.3s\n",
      "[Parallel(n_jobs=20)]: Done  58 tasks      | elapsed:    7.7s\n",
      "[Parallel(n_jobs=20)]: Done  73 tasks      | elapsed:    8.7s\n",
      "[Parallel(n_jobs=20)]: Done  97 out of 123 | elapsed:   10.2s remaining:    2.7s\n",
      "[Parallel(n_jobs=20)]: Done 110 out of 123 | elapsed:   11.1s remaining:    1.3s\n",
      "[Parallel(n_jobs=20)]: Done 123 out of 123 | elapsed:   11.9s remaining:    0.0s\n",
      "[Parallel(n_jobs=20)]: Done 123 out of 123 | elapsed:   11.9s finished\n",
      " 16%|█▌        | 11197/70514 [00:00<00:00, 111643.24it/s]"
     ]
    },
    {
     "name": "stdout",
     "output_type": "stream",
     "text": [
      "# OUTPUT\n"
     ]
    },
    {
     "name": "stderr",
     "output_type": "stream",
     "text": [
      "100%|██████████| 70514/70514 [00:00<00:00, 113756.60it/s]\n",
      "100%|██████████| 122/122 [00:14<00:00,  8.61it/s]\n"
     ]
    },
    {
     "name": "stdout",
     "output_type": "stream",
     "text": [
      ">>>>> SERIES 5 <<<<<\n",
      "# EDT\n",
      "# MAXIMA\n",
      "# WATERSHED\n",
      "# SPLIT MASKS\n",
      "# DILATE\n"
     ]
    },
    {
     "name": "stderr",
     "output_type": "stream",
     "text": [
      "[Parallel(n_jobs=20)]: Using backend LokyBackend with 20 concurrent workers.\n",
      "[Parallel(n_jobs=20)]: Done   1 tasks      | elapsed:    4.1s\n",
      "[Parallel(n_jobs=20)]: Done  10 tasks      | elapsed:    4.3s\n",
      "[Parallel(n_jobs=20)]: Done  21 tasks      | elapsed:    8.3s\n",
      "[Parallel(n_jobs=20)]: Done  32 tasks      | elapsed:    8.5s\n",
      "[Parallel(n_jobs=20)]: Done  45 tasks      | elapsed:   12.5s\n",
      "[Parallel(n_jobs=20)]: Done  58 tasks      | elapsed:   13.3s\n",
      "[Parallel(n_jobs=20)]: Done  73 tasks      | elapsed:   17.1s\n",
      "[Parallel(n_jobs=20)]: Done  88 tasks      | elapsed:   20.9s\n",
      "[Parallel(n_jobs=20)]: Done 105 tasks      | elapsed:   25.0s\n",
      "[Parallel(n_jobs=20)]: Done 122 tasks      | elapsed:   29.0s\n",
      "[Parallel(n_jobs=20)]: Done 155 out of 176 | elapsed:   34.4s remaining:    4.7s\n",
      "[Parallel(n_jobs=20)]: Done 173 out of 176 | elapsed:   38.0s remaining:    0.7s\n",
      "[Parallel(n_jobs=20)]: Done 176 out of 176 | elapsed:   38.7s finished\n",
      "  5%|▍         | 8/176 [00:00<00:02, 77.48it/s]"
     ]
    },
    {
     "name": "stdout",
     "output_type": "stream",
     "text": [
      "# CERTAIN VALUES\n"
     ]
    },
    {
     "name": "stderr",
     "output_type": "stream",
     "text": [
      "100%|██████████| 176/176 [00:02<00:00, 76.45it/s]\n",
      "100%|██████████| 176/176 [00:06<00:00, 27.35it/s]\n",
      "[Parallel(n_jobs=20)]: Using backend LokyBackend with 20 concurrent workers.\n"
     ]
    },
    {
     "name": "stdout",
     "output_type": "stream",
     "text": [
      "# UNCERTAIN VALUES\n",
      "# EDT\n"
     ]
    },
    {
     "name": "stderr",
     "output_type": "stream",
     "text": [
      "[Parallel(n_jobs=20)]: Done   1 tasks      | elapsed:    0.9s\n",
      "[Parallel(n_jobs=20)]: Done  10 tasks      | elapsed:    1.3s\n",
      "[Parallel(n_jobs=20)]: Done  21 tasks      | elapsed:    2.0s\n",
      "[Parallel(n_jobs=20)]: Done  32 tasks      | elapsed:    2.8s\n",
      "[Parallel(n_jobs=20)]: Done  45 tasks      | elapsed:    3.7s\n",
      "[Parallel(n_jobs=20)]: Done  58 tasks      | elapsed:    4.5s\n",
      "[Parallel(n_jobs=20)]: Done  73 tasks      | elapsed:    5.5s\n",
      "[Parallel(n_jobs=20)]: Done  88 tasks      | elapsed:    6.5s\n",
      "[Parallel(n_jobs=20)]: Done 105 tasks      | elapsed:    7.7s\n",
      "[Parallel(n_jobs=20)]: Done 122 tasks      | elapsed:    8.7s\n",
      "[Parallel(n_jobs=20)]: Done 155 out of 176 | elapsed:   11.0s remaining:    1.5s\n",
      "[Parallel(n_jobs=20)]: Done 173 out of 176 | elapsed:   12.1s remaining:    0.2s\n",
      "[Parallel(n_jobs=20)]: Done 176 out of 176 | elapsed:   12.2s finished\n",
      "  9%|▉         | 9553/102320 [00:00<00:00, 95524.17it/s]"
     ]
    },
    {
     "name": "stdout",
     "output_type": "stream",
     "text": [
      "# OUTPUT\n"
     ]
    },
    {
     "name": "stderr",
     "output_type": "stream",
     "text": [
      "100%|██████████| 102320/102320 [00:01<00:00, 96644.80it/s]\n",
      "100%|██████████| 175/175 [00:20<00:00,  8.63it/s]\n"
     ]
    },
    {
     "name": "stdout",
     "output_type": "stream",
     "text": [
      ">>>>> SERIES 6 <<<<<\n",
      "# EDT\n",
      "# MAXIMA\n",
      "# WATERSHED\n",
      "# SPLIT MASKS\n",
      "# DILATE\n"
     ]
    },
    {
     "name": "stderr",
     "output_type": "stream",
     "text": [
      "[Parallel(n_jobs=20)]: Using backend LokyBackend with 20 concurrent workers.\n",
      "[Parallel(n_jobs=20)]: Done   1 tasks      | elapsed:    4.2s\n",
      "[Parallel(n_jobs=20)]: Done  10 tasks      | elapsed:    4.4s\n",
      "[Parallel(n_jobs=20)]: Done  21 tasks      | elapsed:    8.3s\n",
      "[Parallel(n_jobs=20)]: Done  32 tasks      | elapsed:    8.7s\n",
      "[Parallel(n_jobs=20)]: Done  45 tasks      | elapsed:   12.6s\n",
      "[Parallel(n_jobs=20)]: Done  58 tasks      | elapsed:   13.9s\n",
      "[Parallel(n_jobs=20)]: Done  73 tasks      | elapsed:   17.1s\n",
      "[Parallel(n_jobs=20)]: Done  88 tasks      | elapsed:   21.1s\n",
      "[Parallel(n_jobs=20)]: Done 105 tasks      | elapsed:   25.1s\n",
      "[Parallel(n_jobs=20)]: Done 122 tasks      | elapsed:   28.9s\n",
      "[Parallel(n_jobs=20)]: Done 141 tasks      | elapsed:   33.0s\n",
      "[Parallel(n_jobs=20)]: Done 165 out of 185 | elapsed:   37.6s remaining:    4.6s\n",
      "[Parallel(n_jobs=20)]: Done 185 out of 185 | elapsed:   41.2s finished\n",
      "  4%|▍         | 8/185 [00:00<00:02, 79.35it/s]"
     ]
    },
    {
     "name": "stdout",
     "output_type": "stream",
     "text": [
      "# CERTAIN VALUES\n"
     ]
    },
    {
     "name": "stderr",
     "output_type": "stream",
     "text": [
      "100%|██████████| 185/185 [00:02<00:00, 76.00it/s]\n",
      "100%|██████████| 185/185 [00:06<00:00, 28.19it/s]\n",
      "[Parallel(n_jobs=20)]: Using backend LokyBackend with 20 concurrent workers.\n"
     ]
    },
    {
     "name": "stdout",
     "output_type": "stream",
     "text": [
      "# UNCERTAIN VALUES\n",
      "# EDT\n"
     ]
    },
    {
     "name": "stderr",
     "output_type": "stream",
     "text": [
      "[Parallel(n_jobs=20)]: Done   1 tasks      | elapsed:    0.8s\n",
      "[Parallel(n_jobs=20)]: Done  10 tasks      | elapsed:    1.3s\n",
      "[Parallel(n_jobs=20)]: Done  21 tasks      | elapsed:    2.1s\n",
      "[Parallel(n_jobs=20)]: Done  32 tasks      | elapsed:    2.8s\n",
      "[Parallel(n_jobs=20)]: Done  45 tasks      | elapsed:    3.7s\n",
      "[Parallel(n_jobs=20)]: Done  58 tasks      | elapsed:    4.5s\n",
      "[Parallel(n_jobs=20)]: Done  73 tasks      | elapsed:    5.6s\n",
      "[Parallel(n_jobs=20)]: Done  88 tasks      | elapsed:    6.6s\n",
      "[Parallel(n_jobs=20)]: Done 105 tasks      | elapsed:    7.8s\n",
      "[Parallel(n_jobs=20)]: Done 122 tasks      | elapsed:    8.9s\n",
      "[Parallel(n_jobs=20)]: Done 141 tasks      | elapsed:   10.2s\n",
      "[Parallel(n_jobs=20)]: Done 165 out of 185 | elapsed:   11.7s remaining:    1.4s\n",
      "[Parallel(n_jobs=20)]: Done 185 out of 185 | elapsed:   12.9s finished\n",
      "  9%|▉         | 9403/107180 [00:00<00:01, 94028.52it/s]"
     ]
    },
    {
     "name": "stdout",
     "output_type": "stream",
     "text": [
      "# OUTPUT\n"
     ]
    },
    {
     "name": "stderr",
     "output_type": "stream",
     "text": [
      "100%|██████████| 107180/107180 [00:01<00:00, 94526.12it/s]\n",
      "100%|██████████| 184/184 [00:21<00:00,  8.45it/s]\n"
     ]
    },
    {
     "name": "stdout",
     "output_type": "stream",
     "text": [
      ">>>>> SERIES 7 <<<<<\n",
      "# EDT\n",
      "# MAXIMA\n",
      "# WATERSHED\n",
      "# SPLIT MASKS\n",
      "# DILATE\n"
     ]
    },
    {
     "name": "stderr",
     "output_type": "stream",
     "text": [
      "[Parallel(n_jobs=20)]: Using backend LokyBackend with 20 concurrent workers.\n",
      "[Parallel(n_jobs=20)]: Done   1 tasks      | elapsed:    4.1s\n",
      "[Parallel(n_jobs=20)]: Done  10 tasks      | elapsed:    4.3s\n",
      "[Parallel(n_jobs=20)]: Done  21 tasks      | elapsed:    8.3s\n",
      "[Parallel(n_jobs=20)]: Done  32 tasks      | elapsed:    8.5s\n",
      "[Parallel(n_jobs=20)]: Done  45 tasks      | elapsed:   12.5s\n",
      "[Parallel(n_jobs=20)]: Done  58 tasks      | elapsed:   13.3s\n",
      "[Parallel(n_jobs=20)]: Done  73 tasks      | elapsed:   16.9s\n",
      "[Parallel(n_jobs=20)]: Done  88 tasks      | elapsed:   20.8s\n",
      "[Parallel(n_jobs=20)]: Done 105 tasks      | elapsed:   24.9s\n",
      "[Parallel(n_jobs=20)]: Done 122 tasks      | elapsed:   28.9s\n",
      "[Parallel(n_jobs=20)]: Done 145 out of 167 | elapsed:   33.1s remaining:    5.0s\n",
      "[Parallel(n_jobs=20)]: Done 162 out of 167 | elapsed:   36.9s remaining:    1.1s\n",
      "[Parallel(n_jobs=20)]: Done 167 out of 167 | elapsed:   37.0s finished\n",
      "  5%|▌         | 9/167 [00:00<00:01, 80.16it/s]"
     ]
    },
    {
     "name": "stdout",
     "output_type": "stream",
     "text": [
      "# CERTAIN VALUES\n"
     ]
    },
    {
     "name": "stderr",
     "output_type": "stream",
     "text": [
      "100%|██████████| 167/167 [00:02<00:00, 77.75it/s]\n",
      "100%|██████████| 167/167 [00:06<00:00, 27.81it/s]\n",
      "[Parallel(n_jobs=20)]: Using backend LokyBackend with 20 concurrent workers.\n"
     ]
    },
    {
     "name": "stdout",
     "output_type": "stream",
     "text": [
      "# UNCERTAIN VALUES\n",
      "# EDT\n"
     ]
    },
    {
     "name": "stderr",
     "output_type": "stream",
     "text": [
      "[Parallel(n_jobs=20)]: Done   1 tasks      | elapsed:    0.8s\n",
      "[Parallel(n_jobs=20)]: Done  10 tasks      | elapsed:    1.4s\n",
      "[Parallel(n_jobs=20)]: Done  21 tasks      | elapsed:    2.1s\n",
      "[Parallel(n_jobs=20)]: Done  32 tasks      | elapsed:    2.9s\n",
      "[Parallel(n_jobs=20)]: Done  45 tasks      | elapsed:    3.7s\n",
      "[Parallel(n_jobs=20)]: Done  58 tasks      | elapsed:    4.5s\n",
      "[Parallel(n_jobs=20)]: Done  73 tasks      | elapsed:    5.5s\n",
      "[Parallel(n_jobs=20)]: Done  88 tasks      | elapsed:    6.4s\n",
      "[Parallel(n_jobs=20)]: Done 105 tasks      | elapsed:    7.5s\n",
      "[Parallel(n_jobs=20)]: Done 122 tasks      | elapsed:    8.6s\n",
      "[Parallel(n_jobs=20)]: Done 145 out of 167 | elapsed:   10.1s remaining:    1.5s\n",
      "[Parallel(n_jobs=20)]: Done 162 out of 167 | elapsed:   11.2s remaining:    0.3s\n",
      "[Parallel(n_jobs=20)]: Done 167 out of 167 | elapsed:   11.5s finished\n",
      " 10%|█         | 9812/94449 [00:00<00:00, 98118.69it/s]"
     ]
    },
    {
     "name": "stdout",
     "output_type": "stream",
     "text": [
      "# OUTPUT\n"
     ]
    },
    {
     "name": "stderr",
     "output_type": "stream",
     "text": [
      "100%|██████████| 94449/94449 [00:00<00:00, 98128.97it/s]\n",
      "100%|██████████| 166/166 [00:19<00:00,  8.48it/s]\n"
     ]
    }
   ],
   "source": [
    "for i in range(1, 8):\n",
    "    print(f\">>>>> SERIES {i} <<<<<\")\n",
    "    labels, dilated_labels, image = run_series(i)\n",
    "    fig, ax = plot_dilation(labels, dilated_labels, image)\n",
    "    tf.imwrite(f\"../../data/60x_mask/labels/a647_{i:03d}.labels.tiff\",\n",
    "               labels, software=\"GG20210811\")\n",
    "    tf.imwrite(f\"../../data/60x_mask/dilated_labels_watershed/a647_{i:03d}.dilated_labels.tiff\",\n",
    "               dilated_labels, software=\"GG20210811\")\n",
    "    fig.savefig(f\"../../data/60x_mask/dilated_labels_watershed_contours/a647_{i:03d}.contours.png\")"
   ]
  }
 ],
 "metadata": {
  "kernelspec": {
   "display_name": "Python 3",
   "language": "python",
   "name": "python3"
  },
  "language_info": {
   "codemirror_mode": {
    "name": "ipython",
    "version": 3
   },
   "file_extension": ".py",
   "mimetype": "text/x-python",
   "name": "python",
   "nbconvert_exporter": "python",
   "pygments_lexer": "ipython3",
   "version": "3.7.4"
  }
 },
 "nbformat": 4,
 "nbformat_minor": 4
}
