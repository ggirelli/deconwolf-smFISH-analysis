{
 "cells": [
  {
   "cell_type": "code",
   "execution_count": 1,
   "metadata": {},
   "outputs": [],
   "source": [
    "import numpy as np\n",
    "import pandas as pd\n",
    "from skimage.io import imread\n",
    "import tifffile as tf\n",
    "from tqdm import tqdm\n",
    "import scipy as sp\n",
    "import os\n",
    "from typing import List, Tuple"
   ]
  },
  {
   "cell_type": "code",
   "execution_count": 2,
   "metadata": {},
   "outputs": [
    {
     "name": "stderr",
     "output_type": "stream",
     "text": [
      "100%|██████████| 7/7 [00:13<00:00,  1.90s/it]\n"
     ]
    }
   ],
   "source": [
    "dpath = \"../../data/60x_mask\"\n",
    "nuclear_data = dict(sid=[], nid=[], size=[], dilated_size=[])\n",
    "for series_id in tqdm(range(1, 8)):\n",
    "    labels = imread(os.path.join(dpath, \"labels\", f\"a647_{series_id:03d}.labels.tiff\"))\n",
    "    dilated_labels = imread(os.path.join(dpath, \"dilated_labels_watershed\", f\"a647_{series_id:03d}.dilated_labels.tiff\"))\n",
    "    for nid in range(1, labels.max()+1):\n",
    "        nuclear_data[\"sid\"].append(series_id)\n",
    "        nuclear_data[\"nid\"].append(nid)\n",
    "        nuclear_data[\"size\"].append(np.sum(labels==nid))\n",
    "        nuclear_data[\"dilated_size\"].append(np.sum(dilated_labels==nid))\n",
    "pd.DataFrame(nuclear_data).to_csv(os.path.join(dpath, \"nuclear_features.csv\"), index=False)"
   ]
  },
  {
   "cell_type": "code",
   "execution_count": 3,
   "metadata": {},
   "outputs": [
    {
     "name": "stderr",
     "output_type": "stream",
     "text": [
      "100%|██████████| 7/7 [00:01<00:00,  5.38it/s]\n"
     ]
    }
   ],
   "source": [
    "dpath = \"../../data/20x_mask\"\n",
    "nuclear_data = dict(sid=[], nid=[], size=[], dilated_size=[])\n",
    "for series_id in tqdm(range(1, 8)):\n",
    "    labels = imread(os.path.join(dpath, \"labels_from60x\", f\"a647_{series_id:03d}.labels.from_60x.tiff\")).astype(\"i\")\n",
    "    dilated_labels = imread(os.path.join(dpath, \"dilated_labels_watershed_from60x\", f\"a647_{series_id:03d}.dilated_labels.from_60x.tiff\")).astype(\"i\")\n",
    "    for nid in range(1, labels.max()+1):\n",
    "        nuclear_data[\"sid\"].append(series_id)\n",
    "        nuclear_data[\"nid\"].append(nid)\n",
    "        nuclear_data[\"size\"].append(np.sum(labels==nid))\n",
    "        nuclear_data[\"dilated_size\"].append(np.sum(dilated_labels==nid))\n",
    "pd.DataFrame(nuclear_data).to_csv(os.path.join(dpath, \"nuclear_features.from_60x.csv\"), index=False)"
   ]
  }
 ],
 "metadata": {
  "kernelspec": {
   "display_name": "Python 3",
   "language": "python",
   "name": "python3"
  },
  "language_info": {
   "codemirror_mode": {
    "name": "ipython",
    "version": 3
   },
   "file_extension": ".py",
   "mimetype": "text/x-python",
   "name": "python",
   "nbconvert_exporter": "python",
   "pygments_lexer": "ipython3",
   "version": "3.7.4"
  }
 },
 "nbformat": 4,
 "nbformat_minor": 4
}
