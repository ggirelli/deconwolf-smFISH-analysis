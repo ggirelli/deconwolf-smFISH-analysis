{
 "cells": [
  {
   "cell_type": "code",
   "execution_count": 1,
   "metadata": {},
   "outputs": [],
   "source": [
    "import numpy as np\n",
    "import pandas as pd\n",
    "import scipy as sp\n",
    "from skimage.io import imread\n",
    "import tifffile as tf\n",
    "import os\n",
    "from matplotlib import pyplot as plt\n",
    "from tqdm import tqdm\n",
    "from joblib import Parallel, delayed"
   ]
  },
  {
   "cell_type": "code",
   "execution_count": 2,
   "metadata": {},
   "outputs": [],
   "source": [
    "def get_label(i, coords, labels):\n",
    "    return labels[coords[i, 0], coords[i, 1]]\n",
    "\n",
    "def get_df_label(i, coords, labels):\n",
    "    return labels[coords.loc[i, \"x\"], coords.loc[i, \"y\"]]"
   ]
  },
  {
   "cell_type": "code",
   "execution_count": 3,
   "metadata": {},
   "outputs": [],
   "source": [
    "def assign_dots_to_nuclei(root_path, magnification, image_type, mask_type, nfields, suffix, nthreads=1):\n",
    "    for series_id in range(1, nfields+1):\n",
    "        dots_data = pd.read_csv(os.path.join(root_path, f\"{magnification}_{image_type}_calc\", f\"{series_id:03d}_allDots_snr2.csv\"))\n",
    "        labels = imread(os.path.join(\"../../data\", f\"{magnification}_mask\", mask_type, f\"a647_{series_id:03d}{suffix}.tiff\"))\n",
    "        xycoords = np.array(np.floor(dots_data.loc[np.logical_and(np.isfinite(dots_data[\"x\"]), np.isfinite(dots_data[\"y\"])), (\"x\", \"y\")]).astype(\"i\"))\n",
    "        dots_data.loc[np.logical_and(np.isfinite(dots_data[\"x\"]), np.isfinite(dots_data[\"y\"])), \"nid\"] = Parallel(n_jobs=nthreads, verbose=0)(\n",
    "            delayed(get_label)(i, xycoords, labels) for i in tqdm(range(xycoords.shape[0])))\n",
    "        dots_data.to_csv(os.path.join(root_path, f\"{magnification}_{image_type}_calc\", f\"{series_id:03d}_allDots_snr2.{mask_type}.csv\"))"
   ]
  },
  {
   "cell_type": "code",
   "execution_count": 4,
   "metadata": {},
   "outputs": [],
   "source": [
    "root_path = \"/mnt/data/Imaging/202105-Deconwolf/data_210726/\"\n",
    "nthreads = 10"
   ]
  },
  {
   "cell_type": "code",
   "execution_count": 5,
   "metadata": {},
   "outputs": [
    {
     "name": "stderr",
     "output_type": "stream",
     "text": [
      "100%|██████████| 1000000/1000000 [00:28<00:00, 34499.71it/s]\n",
      "100%|██████████| 1000000/1000000 [00:32<00:00, 30705.57it/s]\n",
      "100%|██████████| 1000000/1000000 [00:29<00:00, 33645.80it/s]\n",
      "100%|██████████| 1000000/1000000 [00:29<00:00, 33935.22it/s]\n",
      "100%|██████████| 1000000/1000000 [00:32<00:00, 30403.74it/s]\n",
      "100%|██████████| 1000000/1000000 [00:28<00:00, 34569.03it/s]\n",
      "100%|██████████| 1000000/1000000 [00:32<00:00, 31106.45it/s]\n"
     ]
    }
   ],
   "source": [
    "assign_dots_to_nuclei(root_path, \"60x\", \"dw\", \"dilated_labels_watershed\", 7, \".dilated_labels\", nthreads)"
   ]
  },
  {
   "cell_type": "code",
   "execution_count": 6,
   "metadata": {},
   "outputs": [
    {
     "name": "stderr",
     "output_type": "stream",
     "text": [
      "100%|██████████| 1000000/1000000 [00:28<00:00, 34590.09it/s]\n",
      "100%|██████████| 1000000/1000000 [00:26<00:00, 37659.23it/s]\n",
      "100%|██████████| 1000000/1000000 [00:29<00:00, 34256.89it/s]\n",
      "100%|██████████| 1000000/1000000 [00:31<00:00, 32150.04it/s]\n",
      "100%|██████████| 1000000/1000000 [00:29<00:00, 33451.07it/s]\n",
      "100%|██████████| 1000000/1000000 [00:29<00:00, 34098.94it/s]\n",
      "100%|██████████| 1000000/1000000 [00:26<00:00, 37545.58it/s]\n"
     ]
    }
   ],
   "source": [
    "assign_dots_to_nuclei(root_path, \"60x\", \"raw\", \"dilated_labels_watershed\", 7, \".dilated_labels\", nthreads)"
   ]
  },
  {
   "cell_type": "code",
   "execution_count": 8,
   "metadata": {},
   "outputs": [
    {
     "name": "stderr",
     "output_type": "stream",
     "text": [
      "100%|██████████| 864809/864809 [00:26<00:00, 32949.56it/s]\n",
      "100%|██████████| 859091/859091 [00:29<00:00, 29495.11it/s]\n",
      "100%|██████████| 865295/865295 [00:28<00:00, 30026.95it/s]\n",
      "100%|██████████| 862729/862729 [00:27<00:00, 31822.37it/s]\n",
      "100%|██████████| 858811/858811 [00:26<00:00, 32047.57it/s]\n",
      "100%|██████████| 863661/863661 [00:28<00:00, 30180.29it/s]\n",
      "100%|██████████| 862468/862468 [00:25<00:00, 33409.59it/s]\n"
     ]
    }
   ],
   "source": [
    "assign_dots_to_nuclei(root_path, \"20x\", \"dw\", \"dilated_labels_watershed_from60x\", 7, \".dilated_labels.from_60x\", nthreads)"
   ]
  },
  {
   "cell_type": "code",
   "execution_count": 9,
   "metadata": {},
   "outputs": [
    {
     "name": "stderr",
     "output_type": "stream",
     "text": [
      "100%|██████████| 1000000/1000000 [00:29<00:00, 33450.79it/s]\n",
      "100%|██████████| 1000000/1000000 [00:31<00:00, 31889.39it/s]\n",
      "100%|██████████| 1000000/1000000 [00:33<00:00, 30189.72it/s]\n",
      "100%|██████████| 1000000/1000000 [00:30<00:00, 32522.53it/s]\n",
      "100%|██████████| 1000000/1000000 [00:33<00:00, 29787.18it/s]\n",
      "100%|██████████| 1000000/1000000 [00:30<00:00, 32286.60it/s]\n",
      "100%|██████████| 1000000/1000000 [00:30<00:00, 32579.61it/s]\n"
     ]
    }
   ],
   "source": [
    "assign_dots_to_nuclei(root_path, \"20x\", \"raw\", \"dilated_labels_watershed_from60x\", 7, \".dilated_labels.from_60x\", nthreads)"
   ]
  }
 ],
 "metadata": {
  "kernelspec": {
   "display_name": "Python 3",
   "language": "python",
   "name": "python3"
  },
  "language_info": {
   "codemirror_mode": {
    "name": "ipython",
    "version": 3
   },
   "file_extension": ".py",
   "mimetype": "text/x-python",
   "name": "python",
   "nbconvert_exporter": "python",
   "pygments_lexer": "ipython3",
   "version": "3.7.4"
  }
 },
 "nbformat": 4,
 "nbformat_minor": 4
}
