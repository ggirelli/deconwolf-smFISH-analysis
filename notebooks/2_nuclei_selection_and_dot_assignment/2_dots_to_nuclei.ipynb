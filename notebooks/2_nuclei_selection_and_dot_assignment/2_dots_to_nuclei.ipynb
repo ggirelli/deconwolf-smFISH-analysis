{
 "cells": [
  {
   "cell_type": "code",
   "execution_count": 1,
   "metadata": {},
   "outputs": [],
   "source": [
    "import numpy as np\n",
    "import pandas as pd\n",
    "import scipy as sp\n",
    "from skimage.io import imread\n",
    "import tifffile as tf\n",
    "import os\n",
    "from matplotlib import pyplot as plt\n",
    "from tqdm import tqdm\n",
    "from joblib import Parallel, delayed"
   ]
  },
  {
   "cell_type": "code",
   "execution_count": 2,
   "metadata": {},
   "outputs": [],
   "source": [
    "def get_label(i, coords, labels):\n",
    "    return labels[coords[i, 0], coords[i, 1]]\n",
    "\n",
    "def get_df_label(i, coords, labels):\n",
    "    return labels[coords.loc[i, \"x\"], coords.loc[i, \"y\"]]"
   ]
  },
  {
   "cell_type": "code",
   "execution_count": 3,
   "metadata": {},
   "outputs": [],
   "source": [
    "def assign_dots_to_nuclei(root_path, magnification, image_type, mask_type, nfields, suffix, nthreads=1):\n",
    "    for series_id in range(1, nfields+1):\n",
    "        dots_data = pd.read_csv(os.path.join(root_path, f\"{magnification}_{image_type}_calc\", f\"{series_id:03d}_allDots_snr2.csv\"))\n",
    "        labels = imread(os.path.join(\"../../data\", f\"{magnification}_mask\", mask_type, f\"a647_{series_id:03d}{suffix}.tiff\"))\n",
    "        xycoords = np.array(np.floor(dots_data.loc[np.logical_and(np.isfinite(dots_data[\"x\"]), np.isfinite(dots_data[\"y\"])), (\"x\", \"y\")]).astype(\"i\"))\n",
    "        dots_data.loc[np.logical_and(np.isfinite(dots_data[\"x\"]), np.isfinite(dots_data[\"y\"])), \"nid\"] = Parallel(n_jobs=nthreads, verbose=0)(\n",
    "            delayed(get_label)(i, xycoords, labels) for i in tqdm(range(xycoords.shape[0])))\n",
    "        dots_data.to_csv(os.path.join(root_path, f\"{magnification}_{image_type}_calc\", f\"{series_id:03d}_allDots_snr2.{mask_type}.csv\"))"
   ]
  },
  {
   "cell_type": "code",
   "execution_count": 4,
   "metadata": {},
   "outputs": [],
   "source": [
    "root_path = \"/mnt/data/Imaging/202105-Deconwolf/data_210726/\"\n",
    "nthreads = 10"
   ]
  },
  {
   "cell_type": "code",
   "execution_count": 5,
   "metadata": {},
   "outputs": [
    {
     "name": "stderr",
     "output_type": "stream",
     "text": [
      "100%|██████████| 1000000/1000000 [00:27<00:00, 35775.10it/s]\n",
      "100%|██████████| 1000000/1000000 [00:27<00:00, 36355.01it/s]\n",
      "100%|██████████| 1000000/1000000 [00:32<00:00, 30954.02it/s]\n",
      "100%|██████████| 1000000/1000000 [00:31<00:00, 31375.95it/s]\n",
      "100%|██████████| 1000000/1000000 [00:28<00:00, 35534.30it/s]\n",
      "100%|██████████| 1000000/1000000 [00:26<00:00, 37440.92it/s]\n",
      "100%|██████████| 1000000/1000000 [00:27<00:00, 36331.60it/s]\n"
     ]
    }
   ],
   "source": [
    "assign_dots_to_nuclei(root_path, \"60x\", \"dw\", \"dilated_labels_watershed\", 7, \".dilated_labels\", nthreads)"
   ]
  },
  {
   "cell_type": "code",
   "execution_count": 6,
   "metadata": {},
   "outputs": [
    {
     "name": "stderr",
     "output_type": "stream",
     "text": [
      "100%|██████████| 1000000/1000000 [00:28<00:00, 35138.27it/s]\n",
      "100%|██████████| 1000000/1000000 [00:30<00:00, 32804.84it/s]\n",
      "100%|██████████| 1000000/1000000 [00:27<00:00, 36529.58it/s]\n",
      "100%|██████████| 1000000/1000000 [00:27<00:00, 37034.05it/s]\n",
      "100%|██████████| 1000000/1000000 [00:27<00:00, 36915.63it/s]\n",
      "100%|██████████| 1000000/1000000 [00:31<00:00, 31280.94it/s]\n",
      "100%|██████████| 1000000/1000000 [00:27<00:00, 36059.21it/s]\n"
     ]
    }
   ],
   "source": [
    "assign_dots_to_nuclei(root_path, \"60x\", \"raw\", \"dilated_labels_watershed\", 7, \".dilated_labels\", nthreads)"
   ]
  },
  {
   "cell_type": "code",
   "execution_count": 7,
   "metadata": {},
   "outputs": [
    {
     "name": "stderr",
     "output_type": "stream",
     "text": [
      "100%|██████████| 864809/864809 [00:24<00:00, 35811.92it/s]\n",
      "100%|██████████| 859091/859091 [00:24<00:00, 34426.89it/s]\n",
      "100%|██████████| 865295/865295 [00:24<00:00, 35688.29it/s]\n",
      "100%|██████████| 862729/862729 [00:23<00:00, 37276.92it/s]\n",
      "100%|██████████| 858811/858811 [00:23<00:00, 36857.25it/s]\n",
      "100%|██████████| 863661/863661 [00:23<00:00, 36460.70it/s]\n",
      "100%|██████████| 862468/862468 [00:22<00:00, 37794.63it/s]\n"
     ]
    }
   ],
   "source": [
    "assign_dots_to_nuclei(root_path, \"20x\", \"dw\", \"dilated_labels_watershed_from60x\", 7, \".dilated_labels\", nthreads)"
   ]
  },
  {
   "cell_type": "code",
   "execution_count": 8,
   "metadata": {},
   "outputs": [
    {
     "name": "stderr",
     "output_type": "stream",
     "text": [
      "100%|██████████| 1000000/1000000 [00:26<00:00, 38135.89it/s]\n",
      "100%|██████████| 1000000/1000000 [00:25<00:00, 38929.11it/s]\n",
      "100%|██████████| 1000000/1000000 [00:27<00:00, 36631.04it/s]\n",
      "100%|██████████| 1000000/1000000 [00:26<00:00, 37446.96it/s]\n",
      "100%|██████████| 1000000/1000000 [00:27<00:00, 35941.99it/s]\n",
      "100%|██████████| 1000000/1000000 [00:26<00:00, 38332.68it/s]\n",
      "100%|██████████| 1000000/1000000 [00:27<00:00, 36742.11it/s]\n"
     ]
    }
   ],
   "source": [
    "assign_dots_to_nuclei(root_path, \"20x\", \"raw\", \"dilated_labels_watershed_from60x\", 7, \".dilated_labels\", nthreads)"
   ]
  }
 ],
 "metadata": {
  "kernelspec": {
   "display_name": "Python 3",
   "language": "python",
   "name": "python3"
  },
  "language_info": {
   "codemirror_mode": {
    "name": "ipython",
    "version": 3
   },
   "file_extension": ".py",
   "mimetype": "text/x-python",
   "name": "python",
   "nbconvert_exporter": "python",
   "pygments_lexer": "ipython3",
   "version": "3.7.4"
  }
 },
 "nbformat": 4,
 "nbformat_minor": 4
}
