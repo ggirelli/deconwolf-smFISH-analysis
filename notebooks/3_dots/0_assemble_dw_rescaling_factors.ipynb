{
 "cells": [
  {
   "cell_type": "code",
   "execution_count": 1,
   "metadata": {},
   "outputs": [
    {
     "name": "stderr",
     "output_type": "stream",
     "text": [
      "Loading required package: data.table\n",
      "\n"
     ]
    }
   ],
   "source": [
    "require(data.table)"
   ]
  },
  {
   "cell_type": "code",
   "execution_count": 2,
   "metadata": {},
   "outputs": [],
   "source": [
    "channel = \"a647\""
   ]
  },
  {
   "cell_type": "code",
   "execution_count": 3,
   "metadata": {},
   "outputs": [],
   "source": [
    "get_scaling_factor_from_dw_log = function(fpath) {\n",
    "    stopifnot(file.exists(fpath))\n",
    "    log_lines = scan(fpath, what=\"character\", sep=\"\\n\")\n",
    "    scaling_line = log_lines[grepl(\"scaling\", log_lines)]    \n",
    "    return(as.numeric(gsub(\"scaling: ([0-9]+\\\\.[0-9]+)\", \"\\\\1\", scaling_line)))\n",
    "}"
   ]
  },
  {
   "cell_type": "markdown",
   "metadata": {},
   "source": [
    "# 60x"
   ]
  },
  {
   "cell_type": "code",
   "execution_count": 4,
   "metadata": {},
   "outputs": [],
   "source": [
    "root = \"/mnt/data/Imaging/202105-Deconwolf/data_210726\""
   ]
  },
  {
   "cell_type": "code",
   "execution_count": 5,
   "metadata": {},
   "outputs": [],
   "source": [
    "scaling_60x = rbindlist(lapply(1:7, function(series_id, channel, root, magnification, image_type) {\n",
    "    dpath = file.path(root, sprintf(\"%s_%s\", magnification, image_type), \"log\")\n",
    "    fpath = file.path(dpath, sprintf(\"%s_%03d.tif.log.txt\", channel, series_id))\n",
    "    data.table(\n",
    "        magnification=magnification,\n",
    "        image_type=image_type,\n",
    "        series_id=series_id,\n",
    "        scaling=get_scaling_factor_from_dw_log(fpath)\n",
    "    )\n",
    "}, channel, root, \"60x\", \"dw\"))"
   ]
  },
  {
   "cell_type": "markdown",
   "metadata": {},
   "source": [
    "# 20x"
   ]
  },
  {
   "cell_type": "code",
   "execution_count": 6,
   "metadata": {},
   "outputs": [],
   "source": [
    "scaling_20x = rbindlist(lapply(scan(\"/mnt/data/Imaging/202105-Deconwolf/data_210726/20x_dw/matches.txt\", what=\"character\"), function(x) {\n",
    "    transpose(data.table(as.numeric(unlist(strsplit(\n",
    "        gsub(\"^20x_dw_a647_([0-9]+)_image_([0-9]+)\\\\.tif\", \"\\\\1,\\\\2\", x), \",\")\n",
    "    ))))\n",
    "}))\n",
    "setnames(scaling_20x, c(\"sid_20x\", \"sid_60x\"))"
   ]
  },
  {
   "cell_type": "code",
   "execution_count": 7,
   "metadata": {},
   "outputs": [],
   "source": [
    "scaling_20x = scaling_20x[!(sid_20x == 10 & sid_60x == 6)]"
   ]
  },
  {
   "cell_type": "code",
   "execution_count": 8,
   "metadata": {},
   "outputs": [],
   "source": [
    "root = \"/mnt/data/Imaging/202105-Deconwolf/old/C1_20x_c/dw\""
   ]
  },
  {
   "cell_type": "code",
   "execution_count": 9,
   "metadata": {},
   "outputs": [],
   "source": [
    "scaling_20x$scaling = unlist(lapply(file.path(root, sprintf(\"%s_%03d.tif.log.txt\", channel, scaling_20x$sid_20x)), get_scaling_factor_from_dw_log))"
   ]
  },
  {
   "cell_type": "code",
   "execution_count": 10,
   "metadata": {},
   "outputs": [],
   "source": [
    "scaling_20x[, sid_20x := NULL]\n",
    "setnames(scaling_20x, \"sid_60x\", \"series_id\")\n",
    "scaling_20x$magnification = \"20x\"\n",
    "scaling_20x$image_type = \"dw\""
   ]
  },
  {
   "cell_type": "markdown",
   "metadata": {},
   "source": [
    "# Output"
   ]
  },
  {
   "cell_type": "code",
   "execution_count": 11,
   "metadata": {},
   "outputs": [],
   "source": [
    "scaling = rbindlist(list(scaling_20x, scaling_60x), use.names=T)"
   ]
  },
  {
   "cell_type": "code",
   "execution_count": 12,
   "metadata": {},
   "outputs": [],
   "source": [
    "fwrite(scaling, \"../../data/dw_scaling_factors.tsv\", sep=\"\\t\")"
   ]
  }
 ],
 "metadata": {
  "kernelspec": {
   "display_name": "R 3.6",
   "language": "R",
   "name": "ir36"
  },
  "language_info": {
   "codemirror_mode": "r",
   "file_extension": ".r",
   "mimetype": "text/x-r-source",
   "name": "R",
   "pygments_lexer": "r",
   "version": "3.6.3"
  }
 },
 "nbformat": 4,
 "nbformat_minor": 4
}
