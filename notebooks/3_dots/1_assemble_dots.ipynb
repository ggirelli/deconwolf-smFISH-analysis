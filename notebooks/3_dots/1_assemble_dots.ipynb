{
 "cells": [
  {
   "cell_type": "code",
   "execution_count": 1,
   "metadata": {},
   "outputs": [
    {
     "name": "stderr",
     "output_type": "stream",
     "text": [
      "Loading required package: data.table\n",
      "\n",
      "Loading required package: pbapply\n",
      "\n"
     ]
    }
   ],
   "source": [
    "require(data.table)\n",
    "require(pbapply)\n",
    "pboptions(type=\"timer\")"
   ]
  },
  {
   "cell_type": "code",
   "execution_count": 2,
   "metadata": {},
   "outputs": [],
   "source": [
    "root_path = \"/mnt/data/Imaging/202105-Deconwolf/data_210726\""
   ]
  },
  {
   "cell_type": "markdown",
   "metadata": {},
   "source": [
    "# Read dot tables"
   ]
  },
  {
   "cell_type": "code",
   "execution_count": 3,
   "metadata": {},
   "outputs": [],
   "source": [
    "read_dots = function(dpath, magnification, image_type, nfields, ncores) {\n",
    "    print(sprintf(\"%s - %s\", magnification, image_type))\n",
    "    d = rbindlist(pblapply(1:nfields, function(sid) {\n",
    "        fpath = file.path(dpath, sprintf(\"%s_%s_calc\", magnification, image_type), sprintf(\"%03d_allDots_snr2.dilated_labels_watershed.csv\", sid))\n",
    "        stopifnot(file.exists(fpath))\n",
    "        d = fread(fpath)\n",
    "        d$series_id = sid\n",
    "        return(d)\n",
    "    }, cl=ncores))\n",
    "    d$magnification = magnification\n",
    "    d$image_type = image_type\n",
    "    return(d)\n",
    "}"
   ]
  },
  {
   "cell_type": "code",
   "execution_count": 4,
   "metadata": {},
   "outputs": [
    {
     "name": "stdout",
     "output_type": "stream",
     "text": [
      "[1] \"20x - dw\"\n",
      "  |++++++++++++++++++++++++++++++++++++++++++++++++++| 100% elapsed=05s  \n",
      "[1] \"20x - raw\"\n",
      "  |++++++++++++++++++++++++++++++++++++++++++++++++++| 100% elapsed=05s  \n",
      "[1] \"60x - dw\"\n",
      "  |++++++++++++++++++++++++++++++++++++++++++++++++++| 100% elapsed=05s  \n",
      "[1] \"60x - raw\"\n",
      "  |++++++++++++++++++++++++++++++++++++++++++++++++++| 100% elapsed=05s  \n"
     ]
    }
   ],
   "source": [
    "dots_data = rbindlist(list(\n",
    "    read_dots(root_path, \"20x\", \"dw\", 7, 7),\n",
    "    read_dots(root_path, \"20x\", \"raw\", 7, 7),\n",
    "    read_dots(root_path, \"60x\", \"dw\", 7, 7),\n",
    "    read_dots(root_path, \"60x\", \"raw\", 7, 7)\n",
    "))"
   ]
  },
  {
   "cell_type": "markdown",
   "metadata": {},
   "source": [
    "### Remove redundat or useless columns"
   ]
  },
  {
   "cell_type": "code",
   "execution_count": 5,
   "metadata": {},
   "outputs": [],
   "source": [
    "dots_data[, V1 := NULL]\n",
    "dots_data[, File := NULL]"
   ]
  },
  {
   "cell_type": "markdown",
   "metadata": {},
   "source": [
    "### Rescale intensity based on dw scaling factor"
   ]
  },
  {
   "cell_type": "code",
   "execution_count": 6,
   "metadata": {},
   "outputs": [],
   "source": [
    "scaling_values = fread(\"../../data/dw_scaling_factors.tsv\", key=c(\"magnification\", \"image_type\", \"series_id\"))\n",
    "setkeyv(dots_data, c(\"magnification\", \"image_type\", \"series_id\"))\n",
    "dots_data2 = scaling_values[dots_data]\n",
    "dots_data2[, Value2 := Value/scaling]"
   ]
  },
  {
   "cell_type": "markdown",
   "metadata": {},
   "source": [
    "### Save as RDS"
   ]
  },
  {
   "cell_type": "code",
   "execution_count": 7,
   "metadata": {},
   "outputs": [],
   "source": [
    "saveRDS(dots_data2, file.path(root_path, \"dots_data.rds\"))"
   ]
  }
 ],
 "metadata": {
  "kernelspec": {
   "display_name": "R 3.6",
   "language": "R",
   "name": "ir36"
  },
  "language_info": {
   "codemirror_mode": "r",
   "file_extension": ".r",
   "mimetype": "text/x-r-source",
   "name": "R",
   "pygments_lexer": "r",
   "version": "3.6.3"
  }
 },
 "nbformat": 4,
 "nbformat_minor": 4
}
