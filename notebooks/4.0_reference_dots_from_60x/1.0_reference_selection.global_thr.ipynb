{
 "cells": [
  {
   "cell_type": "code",
   "execution_count": 1,
   "metadata": {},
   "outputs": [],
   "source": [
    "import numpy as np\n",
    "import pandas as pd\n",
    "import scipy as sp\n",
    "from scipy.spatial.distance import cdist\n",
    "from matplotlib import pyplot as plt\n",
    "from typing import List, Tuple\n",
    "from tqdm import tqdm"
   ]
  },
  {
   "cell_type": "code",
   "execution_count": 2,
   "metadata": {},
   "outputs": [],
   "source": [
    "selected_magnification = \"60x\"\n",
    "raw_thr = 0.15\n",
    "dw__thr = 5.3\n",
    "max_dist = 3"
   ]
  },
  {
   "cell_type": "markdown",
   "metadata": {},
   "source": [
    "# Selecting reference dots"
   ]
  },
  {
   "cell_type": "markdown",
   "metadata": {},
   "source": [
    "By matching dots between `60x_dw` and `60x_raw`."
   ]
  },
  {
   "cell_type": "code",
   "execution_count": 3,
   "metadata": {},
   "outputs": [],
   "source": [
    "dots_data = pd.read_csv(\"/mnt/data/Imaging/202105-Deconwolf/data_210726/dots_data.clean.tsv.gz\", sep=\"\\t\")"
   ]
  },
  {
   "cell_type": "code",
   "execution_count": 4,
   "metadata": {},
   "outputs": [],
   "source": [
    "def get_unassigned_count(pdist: np.ndarray) -> int:\n",
    "    return np.sum(np.nansum(np.isnan(pdist), 1) != pdist.shape[1])\n",
    "\n",
    "def match_dots(dotsA: np.ndarray, dotsB: np.ndarray) -> List[Tuple[int, int, float]]:\n",
    "    pdist = cdist(dotsA, dotsB)\n",
    "    \n",
    "    matched: List[Tuple[int, int, float]] = []\n",
    "    unassigned_rows = pdist.shape[0] + 1\n",
    "    iteration_counter = 0\n",
    "    print(\"Iteration #\", end=\"\")\n",
    "    while unassigned_rows > get_unassigned_count(pdist) and 0 < get_unassigned_count(pdist):\n",
    "        iteration_counter += 1\n",
    "        print(f\"...{iteration_counter}\", end=\"\")\n",
    "\n",
    "        unassigned_rows = get_unassigned_count(pdist)\n",
    "        A_id = 0\n",
    "        while A_id < pdist.shape[0]:\n",
    "            if pdist.shape[1] == np.sum(np.isnan(pdist[A_id, :])):\n",
    "                A_id += 1\n",
    "                continue\n",
    "            B_id = np.nanargmin(pdist[A_id, :])\n",
    "            if np.nanargmin(pdist[:, B_id]) == A_id:\n",
    "                matched.append((A_id, B_id, pdist[A_id, B_id]))\n",
    "                pdist[A_id, :] = np.nan\n",
    "                pdist[:, B_id] = np.nan\n",
    "            A_id += 1\n",
    "    print(\"\")\n",
    "    return matched"
   ]
  },
  {
   "cell_type": "code",
   "execution_count": 5,
   "metadata": {},
   "outputs": [
    {
     "name": "stderr",
     "output_type": "stream",
     "text": [
      "  0%|          | 0/7 [00:00<?, ?it/s]"
     ]
    },
    {
     "name": "stdout",
     "output_type": "stream",
     "text": [
      "Iteration #...1...2...3...4"
     ]
    },
    {
     "name": "stderr",
     "output_type": "stream",
     "text": [
      " 14%|█▍        | 1/7 [00:00<00:04,  1.21it/s]"
     ]
    },
    {
     "name": "stdout",
     "output_type": "stream",
     "text": [
      "...5...6\n",
      "Iteration #...1...2...3...4...5...6...7...8...9\n"
     ]
    },
    {
     "name": "stderr",
     "output_type": "stream",
     "text": [
      " 29%|██▊       | 2/7 [00:02<00:04,  1.02it/s]"
     ]
    },
    {
     "name": "stdout",
     "output_type": "stream",
     "text": [
      "Iteration #...1...2...3...4...5...6...7"
     ]
    },
    {
     "name": "stderr",
     "output_type": "stream",
     "text": [
      " 43%|████▎     | 3/7 [00:02<00:03,  1.13it/s]"
     ]
    },
    {
     "name": "stdout",
     "output_type": "stream",
     "text": [
      "...8\n",
      "Iteration #...1...2...3...4...5...6...7...8"
     ]
    },
    {
     "name": "stderr",
     "output_type": "stream",
     "text": [
      " 57%|█████▋    | 4/7 [00:03<00:02,  1.07it/s]"
     ]
    },
    {
     "name": "stdout",
     "output_type": "stream",
     "text": [
      "...9...10...11\n",
      "Iteration #...1...2...3...4...5...6...7"
     ]
    },
    {
     "name": "stderr",
     "output_type": "stream",
     "text": [
      " 71%|███████▏  | 5/7 [00:05<00:02,  1.17s/it]"
     ]
    },
    {
     "name": "stdout",
     "output_type": "stream",
     "text": [
      "\n"
     ]
    },
    {
     "name": "stderr",
     "output_type": "stream",
     "text": [
      " 86%|████████▌ | 6/7 [00:06<00:01,  1.03s/it]"
     ]
    },
    {
     "name": "stdout",
     "output_type": "stream",
     "text": [
      "Iteration #...1...2...3...4...5\n"
     ]
    },
    {
     "name": "stderr",
     "output_type": "stream",
     "text": [
      "100%|██████████| 7/7 [00:06<00:00,  1.00it/s]"
     ]
    },
    {
     "name": "stdout",
     "output_type": "stream",
     "text": [
      "Iteration #...1...2...3...4...5\n"
     ]
    },
    {
     "name": "stderr",
     "output_type": "stream",
     "text": [
      "\n"
     ]
    }
   ],
   "source": [
    "match_output: List[np.ndarray] = []\n",
    "match_counts: List[Tuple[int, int, int, int]] = []\n",
    "for series_id in tqdm(np.unique(dots_data[\"sid\"])):\n",
    "    dots_data2 = dots_data.loc[series_id == dots_data[\"sid\"], :].copy()\n",
    "    dots_data2 = dots_data2.loc[selected_magnification == dots_data2[\"magnification\"], :].copy()\n",
    "    \n",
    "    raw = dots_data2.loc[\"raw\" == dots_data2[\"image_type\"], :].copy(\n",
    "        ).sort_values(\"Value2\", ascending=False).reset_index(drop=True)\n",
    "    dw_ = dots_data2.loc[ \"dw\" == dots_data2[\"image_type\"], :].copy(\n",
    "        ).sort_values(\"Value2\", ascending=False).reset_index(drop=True)\n",
    "    \n",
    "    selected_raw = raw.loc[raw_thr <= raw[\"Value2\"], (\"x\", \"y\")].copy().reset_index(drop=True)\n",
    "    selected__dw = dw_.loc[dw__thr <= dw_[\"Value2\"], (\"x\", \"y\")].copy().reset_index(drop=True)\n",
    "    \n",
    "    matched: List[Tuple[int, int, float]] = match_dots(selected_raw, selected__dw)\n",
    "\n",
    "    matched_a = np.array(matched)\n",
    "    matched_field = pd.DataFrame(dict(\n",
    "        series=series_id,\n",
    "        raw_id=matched_a[:, 0].astype(\"i\"),\n",
    "        dw__id=matched_a[:, 1].astype(\"i\"),\n",
    "        eudist=matched_a[:, 2]\n",
    "    ))\n",
    "    matched_field_within_dist = matched_field[matched_field[\"eudist\"] <= max_dist]\n",
    "    match_output.append(matched_field_within_dist)\n",
    "    match_counts.append((series_id,\n",
    "                         matched_field_within_dist.shape[0],\n",
    "                         matched_field.shape[0]-matched_field_within_dist.shape[0],\n",
    "                         selected_raw.shape[0],\n",
    "                         selected__dw.shape[0]))"
   ]
  },
  {
   "cell_type": "code",
   "execution_count": 6,
   "metadata": {},
   "outputs": [
    {
     "name": "stdout",
     "output_type": "stream",
     "text": [
      "9439/10290 (91.73%) raw dots matched to dw\n",
      "9439/10331 (91.37%) dw dots matched to raw\n",
      "742 (7.21% raw, 7.18% dw) dots matched with distance > 3\n"
     ]
    }
   ],
   "source": [
    "match_counts_a = np.array(match_counts)\n",
    "n_total_matched = np.sum(match_counts_a[:, 1])\n",
    "n_total_over_dist = np.sum(match_counts_a[:, 2])\n",
    "n_total_raw = np.sum(match_counts_a[:, 3])\n",
    "n_total__dw = np.sum(match_counts_a[:, 4])\n",
    "print(f\"{n_total_matched}/{n_total_raw} ({n_total_matched/n_total_raw*100:.2f}%) raw dots matched to dw\")\n",
    "print(f\"{n_total_matched}/{n_total__dw} ({n_total_matched/n_total__dw*100:.2f}%) dw dots matched to raw\")\n",
    "print(f\"{n_total_over_dist} ({n_total_over_dist/n_total_raw*100:.2f}% raw, {n_total_over_dist/n_total__dw*100:.2f}% dw) dots matched with distance > {max_dist}\")"
   ]
  },
  {
   "cell_type": "code",
   "execution_count": 7,
   "metadata": {},
   "outputs": [
    {
     "name": "stdout",
     "output_type": "stream",
     "text": [
      "Field #1\n",
      "    1308/1411 (92.70%) raw dots matched to dw\n",
      "    1308/1398 (93.56%) dw dots matched to raw\n",
      "    90 (6.38% raw, 6.44% dw) dots matched with distance > 3\n",
      "    \n",
      "Field #2\n",
      "    1921/2069 (92.85%) raw dots matched to dw\n",
      "    1921/2076 (92.53%) dw dots matched to raw\n",
      "    148 (7.15% raw, 7.13% dw) dots matched with distance > 3\n",
      "    \n",
      "Field #3\n",
      "    1045/1138 (91.83%) raw dots matched to dw\n",
      "    1045/1115 (93.72%) dw dots matched to raw\n",
      "    70 (6.15% raw, 6.28% dw) dots matched with distance > 3\n",
      "    \n",
      "Field #4\n",
      "    1548/1679 (92.20%) raw dots matched to dw\n",
      "    1548/1684 (91.92%) dw dots matched to raw\n",
      "    131 (7.80% raw, 7.78% dw) dots matched with distance > 3\n",
      "    \n",
      "Field #5\n",
      "    2404/2648 (90.79%) raw dots matched to dw\n",
      "    2404/2575 (93.36%) dw dots matched to raw\n",
      "    171 (6.46% raw, 6.64% dw) dots matched with distance > 3\n",
      "    \n",
      "Field #6\n",
      "    691/759 (91.04%) raw dots matched to dw\n",
      "    691/808 (85.52%) dw dots matched to raw\n",
      "    68 (8.96% raw, 8.42% dw) dots matched with distance > 3\n",
      "    \n",
      "Field #7\n",
      "    522/586 (89.08%) raw dots matched to dw\n",
      "    522/675 (77.33%) dw dots matched to raw\n",
      "    64 (10.92% raw, 9.48% dw) dots matched with distance > 3\n",
      "    \n"
     ]
    }
   ],
   "source": [
    "for series_id in range(match_counts_a.shape[0]):\n",
    "    n_matched = match_counts_a[series_id, 1]\n",
    "    n_over_dist = match_counts_a[series_id, 2]\n",
    "    n_raw = match_counts_a[series_id, 3]\n",
    "    n__dw = match_counts_a[series_id, 4]\n",
    "    print(f\"\"\"Field #{series_id+1}\n",
    "    {n_matched}/{n_raw} ({n_matched/n_raw*100:.2f}%) raw dots matched to dw\n",
    "    {n_matched}/{n__dw} ({n_matched/n__dw*100:.2f}%) dw dots matched to raw\n",
    "    {n_over_dist} ({n_over_dist/n_raw*100:.2f}% raw, {n_over_dist/n__dw*100:.2f}% dw) dots matched with distance > {max_dist}\n",
    "    \"\"\")"
   ]
  },
  {
   "cell_type": "markdown",
   "metadata": {},
   "source": [
    "#### Excluding field #7"
   ]
  },
  {
   "cell_type": "code",
   "execution_count": 8,
   "metadata": {},
   "outputs": [
    {
     "name": "stdout",
     "output_type": "stream",
     "text": [
      "8917/9704 (91.89%) raw dots matched to dw\n",
      "8917/9656 (92.35%) dw dots matched to raw\n",
      "678 (6.99% raw, 7.02% dw) dots matched with distance > 3\n"
     ]
    }
   ],
   "source": [
    "match_counts_a = np.array(match_counts)\n",
    "n_total_matched = np.sum(match_counts_a[:6, 1])\n",
    "n_total_over_dist = np.sum(match_counts_a[:6, 2])\n",
    "n_total_raw = np.sum(match_counts_a[:6, 3])\n",
    "n_total__dw = np.sum(match_counts_a[:6, 4])\n",
    "print(f\"{n_total_matched}/{n_total_raw} ({n_total_matched/n_total_raw*100:.2f}%) raw dots matched to dw\")\n",
    "print(f\"{n_total_matched}/{n_total__dw} ({n_total_matched/n_total__dw*100:.2f}%) dw dots matched to raw\")\n",
    "print(f\"{n_total_over_dist} ({n_total_over_dist/n_total_raw*100:.2f}% raw, {n_total_over_dist/n_total__dw*100:.2f}% dw) dots matched with distance > {max_dist}\")"
   ]
  },
  {
   "cell_type": "markdown",
   "metadata": {},
   "source": [
    "#### Excluding field #6-7"
   ]
  },
  {
   "cell_type": "code",
   "execution_count": 9,
   "metadata": {},
   "outputs": [
    {
     "name": "stdout",
     "output_type": "stream",
     "text": [
      "8226/8945 (91.96%) raw dots matched to dw\n",
      "8226/8848 (92.97%) dw dots matched to raw\n",
      "610 (6.82% raw, 6.89% dw) dots matched with distance > 3\n"
     ]
    }
   ],
   "source": [
    "match_counts_a = np.array(match_counts)\n",
    "n_total_matched = np.sum(match_counts_a[:5, 1])\n",
    "n_total_over_dist = np.sum(match_counts_a[:5, 2])\n",
    "n_total_raw = np.sum(match_counts_a[:5, 3])\n",
    "n_total__dw = np.sum(match_counts_a[:5, 4])\n",
    "print(f\"{n_total_matched}/{n_total_raw} ({n_total_matched/n_total_raw*100:.2f}%) raw dots matched to dw\")\n",
    "print(f\"{n_total_matched}/{n_total__dw} ({n_total_matched/n_total__dw*100:.2f}%) dw dots matched to raw\")\n",
    "print(f\"{n_total_over_dist} ({n_total_over_dist/n_total_raw*100:.2f}% raw, {n_total_over_dist/n_total__dw*100:.2f}% dw) dots matched with distance > {max_dist}\")"
   ]
  },
  {
   "cell_type": "markdown",
   "metadata": {},
   "source": [
    "### Export"
   ]
  },
  {
   "cell_type": "code",
   "execution_count": 10,
   "metadata": {},
   "outputs": [],
   "source": [
    "matched_dots = pd.concat(match_output)"
   ]
  },
  {
   "cell_type": "code",
   "execution_count": 11,
   "metadata": {},
   "outputs": [],
   "source": [
    "matched_dots.to_csv(\"../../data/60x_reference/matched_dots.global_thr.tsv\", sep=\"\\t\", index=False)"
   ]
  },
  {
   "cell_type": "code",
   "execution_count": 12,
   "metadata": {},
   "outputs": [],
   "source": [
    "pd.DataFrame(match_counts_a, columns=[\"series_id\", \"matched\", \"matched_over_dist\", \"raw_total\", \"dw_total\"]\n",
    "            ).to_csv(\"../../data/60x_reference/matched_dots.global_thr.counts.tsv\", sep=\"\\t\", index=False)"
   ]
  }
 ],
 "metadata": {
  "kernelspec": {
   "display_name": "Python 3",
   "language": "python",
   "name": "python3"
  },
  "language_info": {
   "codemirror_mode": {
    "name": "ipython",
    "version": 3
   },
   "file_extension": ".py",
   "mimetype": "text/x-python",
   "name": "python",
   "nbconvert_exporter": "python",
   "pygments_lexer": "ipython3",
   "version": "3.7.4"
  }
 },
 "nbformat": 4,
 "nbformat_minor": 4
}
