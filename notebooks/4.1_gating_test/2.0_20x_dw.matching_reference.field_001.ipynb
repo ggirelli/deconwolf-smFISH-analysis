{
 "cells": [
  {
   "cell_type": "code",
   "execution_count": 1,
   "metadata": {},
   "outputs": [],
   "source": [
    "import numpy as np\n",
    "import pandas as pd\n",
    "import scipy as sp\n",
    "from scipy.spatial.distance import cdist\n",
    "from skimage import measure\n",
    "from matplotlib import pyplot as plt\n",
    "import os\n",
    "import tifffile\n",
    "from tqdm import tqdm\n",
    "from typing import List, Tuple"
   ]
  },
  {
   "cell_type": "code",
   "execution_count": 2,
   "metadata": {},
   "outputs": [],
   "source": [
    "selected_magnification = \"20x\"\n",
    "selected_image_type = \"dw\"\n",
    "max_dist = 9\n",
    "aspect = np.array((1/3, 1/3))    # XY: 20x / aspect => 60x"
   ]
  },
  {
   "cell_type": "markdown",
   "metadata": {},
   "source": [
    "### Read shift data"
   ]
  },
  {
   "cell_type": "code",
   "execution_count": 3,
   "metadata": {},
   "outputs": [],
   "source": [
    "shifts = pd.read_csv(f\"../5_comparing_magnifications/shift_correction/{selected_magnification}_{selected_image_type}.shifts.csv\")\n",
    "shifts.index = shifts[\"sid\"].values\n",
    "shifts.drop(\"sid\", 1, inplace=True)"
   ]
  },
  {
   "cell_type": "markdown",
   "metadata": {},
   "source": [
    "# Matching 20x_dw and reference dots"
   ]
  },
  {
   "cell_type": "code",
   "execution_count": 4,
   "metadata": {},
   "outputs": [],
   "source": [
    "dots_data = pd.read_csv(\"field_001.gated_dots.tsv\", sep=\"\\t\")\n",
    "dots_data = dots_data[selected_magnification == dots_data[\"magnification\"]]\n",
    "dots_data = dots_data[selected_image_type == dots_data[\"image_type\"]]"
   ]
  },
  {
   "cell_type": "code",
   "execution_count": 5,
   "metadata": {},
   "outputs": [],
   "source": [
    "reference = pd.read_csv(\"field_001.ref__dw.gated.tsv\", sep=\"\\t\")"
   ]
  },
  {
   "cell_type": "code",
   "execution_count": 6,
   "metadata": {},
   "outputs": [],
   "source": [
    "def get_unassigned_count(pdist: np.ndarray) -> int:\n",
    "    return np.sum(np.nansum(np.isnan(pdist), 1) != pdist.shape[1])\n",
    "\n",
    "def match_dots(dotsA: np.ndarray, dotsB: np.ndarray) -> List[Tuple[int, int, float]]:\n",
    "    pdist = cdist(dotsA, dotsB)\n",
    "    \n",
    "    matched: List[Tuple[int, int, float]] = []\n",
    "    unassigned_rows = pdist.shape[0] + 1\n",
    "    iteration_counter = 0\n",
    "    print(\"Iteration #\", end=\"\")\n",
    "    while unassigned_rows > get_unassigned_count(pdist) and 0 < get_unassigned_count(pdist):\n",
    "        iteration_counter += 1\n",
    "        print(f\"...{iteration_counter}\", end=\"\")\n",
    "\n",
    "        unassigned_rows = get_unassigned_count(pdist)\n",
    "        A_id = 0\n",
    "        while A_id < pdist.shape[0]:\n",
    "            if pdist.shape[1] == np.sum(np.isnan(pdist[A_id, :])):\n",
    "                A_id += 1\n",
    "                continue\n",
    "            B_id = np.nanargmin(pdist[A_id, :])\n",
    "            if np.nanargmin(pdist[:, B_id]) == A_id:\n",
    "                matched.append((A_id, B_id, pdist[A_id, B_id]))\n",
    "                pdist[A_id, :] = np.nan\n",
    "                pdist[:, B_id] = np.nan\n",
    "            A_id += 1\n",
    "    print(\"\")\n",
    "    return matched"
   ]
  },
  {
   "cell_type": "code",
   "execution_count": 7,
   "metadata": {},
   "outputs": [
    {
     "name": "stderr",
     "output_type": "stream",
     "text": [
      "  0%|          | 0/1 [00:00<?, ?it/s]"
     ]
    },
    {
     "name": "stdout",
     "output_type": "stream",
     "text": [
      "Iteration #...1...2...3...4...5...6...7...8...9"
     ]
    },
    {
     "name": "stderr",
     "output_type": "stream",
     "text": [
      "100%|██████████| 1/1 [00:00<00:00,  2.03it/s]"
     ]
    },
    {
     "name": "stdout",
     "output_type": "stream",
     "text": [
      "\n"
     ]
    },
    {
     "name": "stderr",
     "output_type": "stream",
     "text": [
      "\n"
     ]
    }
   ],
   "source": [
    "match_output: List[pd.DataFrame] = []\n",
    "match_output_full: List[pd.DataFrame] = []\n",
    "match_counts: List[Tuple[int, int, int, int]] = []\n",
    "for current_field_id in tqdm(np.unique(dots_data[\"series_id\"])):\n",
    "    dots = dots_data.loc[current_field_id == dots_data[\"series_id\"], :].copy(\n",
    "        ).sort_values(\"Value2\", ascending=False).reset_index(drop=True)\n",
    "    \n",
    "    dot_coords = dots.loc[:, (\"x\", \"y\")].copy().reset_index(drop=True)\n",
    "    dot_coords2 = dot_coords.copy() / aspect\n",
    "    dot_coords2[\"x\"] += (shifts.loc[current_field_id, \"x\"] * 9)\n",
    "    dot_coords2[\"y\"] += (shifts.loc[current_field_id, \"y\"] * 9)\n",
    "    ref_coords = reference.loc[reference[\"series_id\"] == current_field_id, (\"x\", \"y\")].copy().reset_index(drop=True)\n",
    "    \n",
    "    matched: List[Tuple[int, int, float]] = match_dots(dot_coords2, ref_coords)\n",
    "    \n",
    "    matched_a = np.array(matched)\n",
    "    matched_field = pd.DataFrame(dict(\n",
    "        series=current_field_id,\n",
    "        id_20x=matched_a[:, 0].astype(\"i\"),\n",
    "        id_60x=matched_a[:, 1].astype(\"i\"),\n",
    "        eudist=matched_a[:, 2]\n",
    "    ))\n",
    "    matched_field_within_dist = matched_field[matched_field[\"eudist\"] <= max_dist]\n",
    "    match_output.append(matched_field_within_dist)\n",
    "    match_output_full.append(matched_field)\n",
    "    match_counts.append((current_field_id,\n",
    "                         matched_field_within_dist.shape[0],\n",
    "                         matched_field.shape[0]-matched_field_within_dist.shape[0],\n",
    "                         dot_coords2.shape[0],\n",
    "                         ref_coords.shape[0]))"
   ]
  },
  {
   "cell_type": "code",
   "execution_count": 8,
   "metadata": {},
   "outputs": [
    {
     "name": "stdout",
     "output_type": "stream",
     "text": [
      "1058/1444 (73.27%) 20x dots matched to 60x\n",
      "1058/1262 (83.84%) 60x dots matched to 20x\n",
      "204 (14.13% 20x, 16.16% 60x) dots matched with distance > 9\n"
     ]
    }
   ],
   "source": [
    "match_counts_a = np.array(match_counts)\n",
    "n_total_matched = np.sum(match_counts_a[:, 1])\n",
    "n_total_over_dist = np.sum(match_counts_a[:, 2])\n",
    "n_total_20x = np.sum(match_counts_a[:, 3])\n",
    "n_total_60x = np.sum(match_counts_a[:, 4])\n",
    "print(f\"{n_total_matched}/{n_total_20x} ({n_total_matched/n_total_20x*100:.2f}%) 20x dots matched to 60x\")\n",
    "print(f\"{n_total_matched}/{n_total_60x} ({n_total_matched/n_total_60x*100:.2f}%) 60x dots matched to 20x\")\n",
    "print(f\"{n_total_over_dist} ({n_total_over_dist/n_total_20x*100:.2f}% 20x, {n_total_over_dist/n_total_60x*100:.2f}% 60x) dots matched with distance > {max_dist}\")"
   ]
  },
  {
   "cell_type": "code",
   "execution_count": 9,
   "metadata": {},
   "outputs": [
    {
     "name": "stdout",
     "output_type": "stream",
     "text": [
      "Field #1\n",
      "    1058/1444 (73.27%) 20x dots matched to 60x\n",
      "    1058/1262 (83.84%) 60x dots matched to 20x\n",
      "    204 (14.13% 20x, 16.16% 60x) dots matched with distance > 9\n",
      "    \n"
     ]
    }
   ],
   "source": [
    "for series_id in range(match_counts_a.shape[0]):\n",
    "    n_matched = match_counts_a[series_id, 1]\n",
    "    n_over_dist = match_counts_a[series_id, 2]\n",
    "    n_20x = match_counts_a[series_id, 3]\n",
    "    n_60x = match_counts_a[series_id, 4]\n",
    "    print(f\"\"\"Field #{series_id+1}\n",
    "    {n_matched}/{n_20x} ({n_matched/n_20x*100:.2f}%) 20x dots matched to 60x\n",
    "    {n_matched}/{n_60x} ({n_matched/n_60x*100:.2f}%) 60x dots matched to 20x\n",
    "    {n_over_dist} ({n_over_dist/n_20x*100:.2f}% 20x, {n_over_dist/n_60x*100:.2f}% 60x) dots matched with distance > {max_dist}\n",
    "    \"\"\")"
   ]
  },
  {
   "cell_type": "markdown",
   "metadata": {},
   "source": [
    "### Export"
   ]
  },
  {
   "cell_type": "code",
   "execution_count": 10,
   "metadata": {},
   "outputs": [],
   "source": [
    "matched_dots = pd.concat(match_output)"
   ]
  },
  {
   "cell_type": "code",
   "execution_count": 11,
   "metadata": {},
   "outputs": [],
   "source": [
    "matched_dots.to_csv(\"field_001.20x_dw.gated_matched_dots.tsv\", sep=\"\\t\", index=False)"
   ]
  },
  {
   "cell_type": "code",
   "execution_count": 12,
   "metadata": {},
   "outputs": [],
   "source": [
    "pd.DataFrame(match_counts_a, columns=[\"series_id\", \"matched\", \"matched_over_dist\", \"raw_total\", \"dw_total\"]\n",
    "            ).to_csv(\"field_001.20x_dw.gated_matched_dots.counts.tsv\", sep=\"\\t\", index=False)"
   ]
  }
 ],
 "metadata": {
  "kernelspec": {
   "display_name": "Python 3",
   "language": "python",
   "name": "python3"
  },
  "language_info": {
   "codemirror_mode": {
    "name": "ipython",
    "version": 3
   },
   "file_extension": ".py",
   "mimetype": "text/x-python",
   "name": "python",
   "nbconvert_exporter": "python",
   "pygments_lexer": "ipython3",
   "version": "3.7.4"
  }
 },
 "nbformat": 4,
 "nbformat_minor": 4
}
