{
 "cells": [
  {
   "cell_type": "code",
   "execution_count": 1,
   "metadata": {},
   "outputs": [],
   "source": [
    "import pandas as pd\n",
    "import numpy as np\n",
    "from matplotlib import pyplot as plt\n",
    "import skimage as sk\n",
    "from skimage import measure\n",
    "import os\n",
    "import tifffile\n",
    "from tqdm import tqdm"
   ]
  },
  {
   "cell_type": "code",
   "execution_count": 2,
   "metadata": {},
   "outputs": [],
   "source": [
    "dots_data = pd.read_csv(\"/mnt/data/Imaging/202105-Deconwolf/data_210726/dots_data.clean.tsv.gz\", sep=\"\\t\")"
   ]
  },
  {
   "cell_type": "code",
   "execution_count": 3,
   "metadata": {},
   "outputs": [],
   "source": [
    "dots_data2 = dots_data.loc[\"60x\" == dots_data[\"magnification\"], :]"
   ]
  },
  {
   "cell_type": "code",
   "execution_count": 4,
   "metadata": {},
   "outputs": [],
   "source": [
    "matched_dots = pd.read_csv(\"../../data/60x_matched_dots.tsv\", sep=\"\\t\")"
   ]
  },
  {
   "cell_type": "code",
   "execution_count": 5,
   "metadata": {},
   "outputs": [],
   "source": [
    "ref_raw = dots_data2.loc[\"raw\" == dots_data2[\"image_type\"], :].reset_index(drop=True)\n",
    "ref__dw = dots_data2.loc[\"dw\" == dots_data2[\"image_type\"], :].reset_index(drop=True)\n",
    "raw_image_folder_path = \"/mnt/data/Imaging/202105-Deconwolf/data_210726/60x_raw\"\n",
    "dw__image_folder_path = \"/mnt/data/Imaging/202105-Deconwolf/data_210726/60x_dw\"\n",
    "mask_folder_path = \"../../data/60x_mask/dilated_labels_watershed\"\n",
    "field_list = np.unique(dots_data2[\"sid\"].values).tolist()\n",
    "raw_thr = 0.15\n",
    "dw__thr = 5.3"
   ]
  },
  {
   "cell_type": "code",
   "execution_count": 6,
   "metadata": {},
   "outputs": [
    {
     "name": "stdout",
     "output_type": "stream",
     "text": [
      "Field #1\n"
     ]
    },
    {
     "name": "stderr",
     "output_type": "stream",
     "text": [
      "nucleus:   1%|          | 2/180 [00:00<00:11, 14.86it/s]"
     ]
    },
    {
     "name": "stdout",
     "output_type": "stream",
     "text": [
      " > Plotting raw\n",
      " > Plotting dw\n",
      " > Plotting contours\n"
     ]
    },
    {
     "name": "stderr",
     "output_type": "stream",
     "text": [
      "nucleus: 100%|██████████| 180/180 [00:11<00:00, 15.42it/s]\n"
     ]
    },
    {
     "name": "stdout",
     "output_type": "stream",
     "text": [
      " > Plotting overlapped points between raw and dw\n",
      " ! DONE\n",
      "Field #2\n"
     ]
    },
    {
     "name": "stderr",
     "output_type": "stream",
     "text": [
      "nucleus:   1%|          | 2/208 [00:00<00:12, 16.78it/s]"
     ]
    },
    {
     "name": "stdout",
     "output_type": "stream",
     "text": [
      " > Plotting raw\n",
      " > Plotting dw\n",
      " > Plotting contours\n"
     ]
    },
    {
     "name": "stderr",
     "output_type": "stream",
     "text": [
      "nucleus: 100%|██████████| 208/208 [00:13<00:00, 15.74it/s]\n"
     ]
    },
    {
     "name": "stdout",
     "output_type": "stream",
     "text": [
      " > Plotting overlapped points between raw and dw\n",
      " ! DONE\n",
      "Field #3\n"
     ]
    },
    {
     "name": "stderr",
     "output_type": "stream",
     "text": [
      "nucleus:   1%|▏         | 2/156 [00:00<00:10, 14.98it/s]"
     ]
    },
    {
     "name": "stdout",
     "output_type": "stream",
     "text": [
      " > Plotting raw\n",
      " > Plotting dw\n",
      " > Plotting contours\n"
     ]
    },
    {
     "name": "stderr",
     "output_type": "stream",
     "text": [
      "nucleus: 100%|██████████| 156/156 [00:09<00:00, 15.81it/s]\n"
     ]
    },
    {
     "name": "stdout",
     "output_type": "stream",
     "text": [
      " > Plotting overlapped points between raw and dw\n",
      " ! DONE\n",
      "Field #4\n"
     ]
    },
    {
     "name": "stderr",
     "output_type": "stream",
     "text": [
      "nucleus:   1%|          | 2/172 [00:00<00:11, 15.37it/s]"
     ]
    },
    {
     "name": "stdout",
     "output_type": "stream",
     "text": [
      " > Plotting raw\n",
      " > Plotting dw\n",
      " > Plotting contours\n"
     ]
    },
    {
     "name": "stderr",
     "output_type": "stream",
     "text": [
      "nucleus: 100%|██████████| 172/172 [00:10<00:00, 15.81it/s]\n"
     ]
    },
    {
     "name": "stdout",
     "output_type": "stream",
     "text": [
      " > Plotting overlapped points between raw and dw\n",
      " ! DONE\n",
      "Field #5\n"
     ]
    },
    {
     "name": "stderr",
     "output_type": "stream",
     "text": [
      "nucleus:   1%|          | 2/342 [00:00<00:21, 16.12it/s]"
     ]
    },
    {
     "name": "stdout",
     "output_type": "stream",
     "text": [
      " > Plotting raw\n",
      " > Plotting dw\n",
      " > Plotting contours\n"
     ]
    },
    {
     "name": "stderr",
     "output_type": "stream",
     "text": [
      "nucleus: 100%|██████████| 342/342 [00:20<00:00, 16.72it/s]\n"
     ]
    },
    {
     "name": "stdout",
     "output_type": "stream",
     "text": [
      " > Plotting overlapped points between raw and dw\n",
      " ! DONE\n",
      "Field #6\n"
     ]
    },
    {
     "name": "stderr",
     "output_type": "stream",
     "text": [
      "nucleus:   1%|          | 2/210 [00:00<00:13, 15.22it/s]"
     ]
    },
    {
     "name": "stdout",
     "output_type": "stream",
     "text": [
      " > Plotting raw\n",
      " > Plotting dw\n",
      " > Plotting contours\n"
     ]
    },
    {
     "name": "stderr",
     "output_type": "stream",
     "text": [
      "nucleus: 100%|██████████| 210/210 [00:14<00:00, 14.50it/s]\n"
     ]
    },
    {
     "name": "stdout",
     "output_type": "stream",
     "text": [
      " > Plotting overlapped points between raw and dw\n",
      " ! DONE\n",
      "Field #7\n"
     ]
    },
    {
     "name": "stderr",
     "output_type": "stream",
     "text": [
      "nucleus:   1%|          | 2/221 [00:00<00:13, 15.71it/s]"
     ]
    },
    {
     "name": "stdout",
     "output_type": "stream",
     "text": [
      " > Plotting raw\n",
      " > Plotting dw\n",
      " > Plotting contours\n"
     ]
    },
    {
     "name": "stderr",
     "output_type": "stream",
     "text": [
      "nucleus: 100%|██████████| 221/221 [00:13<00:00, 16.12it/s]\n"
     ]
    },
    {
     "name": "stdout",
     "output_type": "stream",
     "text": [
      " > Plotting overlapped points between raw and dw\n",
      " ! DONE\n"
     ]
    }
   ],
   "source": [
    "for current_field_id in field_list:\n",
    "    print(f\"Field #{current_field_id}\")\n",
    "\n",
    "    raw_max_z_proj = tifffile.imread(os.path.join(raw_image_folder_path, f\"a647_{current_field_id:03d}.tif\")).max(0)\n",
    "    dw__max_z_proj = tifffile.imread(os.path.join(dw__image_folder_path, f\"a647_{current_field_id:03d}.tif\")).max(0)\n",
    "    \n",
    "    labels = tifffile.imread(os.path.join(mask_folder_path, f\"a647_{current_field_id:03d}.dilated_labels.tiff\")).reshape(raw_max_z_proj.shape)\n",
    "\n",
    "    field_raw_dots = ref_raw.loc[ref_raw[\"sid\"] == current_field_id, :].sort_values(\"Value2\", ascending=False)\n",
    "    field_dw__dots = ref__dw.loc[ref__dw[\"sid\"] == current_field_id, :].sort_values(\"Value2\", ascending=False)\n",
    "    \n",
    "    matched_raw_dots = matched_dots.loc[matched_dots[\"series\"] == current_field_id, \"raw_id\"].values\n",
    "    matched_dw__dots = matched_dots.loc[matched_dots[\"series\"] == current_field_id, \"dw__id\"].values\n",
    "    max_match_dist = matched_dots.loc[matched_dots[\"series\"] == current_field_id, \"eudist\"].max()\n",
    "    \n",
    "    selected_raw_dots = field_raw_dots.loc[field_raw_dots[\"Value2\"] >= raw_thr, :].reset_index(drop=True).iloc[matched_raw_dots, :]\n",
    "    selected_dw__dots = field_dw__dots.loc[field_dw__dots[\"Value2\"] >= dw__thr, :].reset_index(drop=True).iloc[matched_dw__dots, :]\n",
    "\n",
    "    fig3, ax = plt.subplots(figsize=(30, 10), ncols=3, constrained_layout=True)\n",
    "    fig3.suptitle(f\"Field #{current_field_id} (n.dots={matched_raw_dots.shape[0]}; max.dist={max_match_dist:.03f})\")\n",
    "    print(\" > Plotting raw\")\n",
    "    ax[0].set_title(\"60x_raw\")\n",
    "    ax[0].imshow(\n",
    "        raw_max_z_proj, cmap=plt.get_cmap(\"gray\"), interpolation=\"none\",\n",
    "        vmin=raw_max_z_proj.min(), vmax=raw_max_z_proj.max(),\n",
    "        resample=False, filternorm=False)\n",
    "    ax[0].scatter(\n",
    "        x=selected_raw_dots[\"y\"].values,\n",
    "        y=selected_raw_dots[\"x\"].values,\n",
    "        s=30, facecolors='none', edgecolors='r', linewidth=.5)\n",
    "    print(\" > Plotting dw\")\n",
    "    ax[1].set_title(\"60x_dw\")\n",
    "    ax[1].imshow(\n",
    "        dw__max_z_proj, cmap=plt.get_cmap(\"gray\"), interpolation=\"none\",\n",
    "        vmin=dw__max_z_proj.min()*1.5, vmax=dw__max_z_proj.max()*.5,\n",
    "        resample=False, filternorm=False)\n",
    "    ax[1].scatter(\n",
    "        x=selected_dw__dots[\"y\"].values,\n",
    "        y=selected_dw__dots[\"x\"].values,\n",
    "        s=30, facecolors='none', edgecolors='r', linewidth=.5)\n",
    "    print(\" > Plotting contours\")\n",
    "    for lid in tqdm(range(1, labels.max()), desc=\"nucleus\"):\n",
    "        contours = measure.find_contours(labels == lid, 0.8)\n",
    "        for contour in contours:\n",
    "            ax[0].scatter(x=contour[:,1], y=contour[:,0], c=\"yellow\", s=.005)\n",
    "            ax[1].scatter(x=contour[:,1], y=contour[:,0], c=\"yellow\", s=.005)\n",
    "    print(\" > Plotting overlapped points between raw and dw\")\n",
    "    ax[2].set_title(\"Red: 60x_raw. Blue: 60x_dw.\")\n",
    "    ax[2].plot(\n",
    "        selected_raw_dots[\"y\"].values,\n",
    "        selected_raw_dots[\"x\"].values,\n",
    "        'r.', marker=\".\", markersize=2)\n",
    "    ax[2].plot(\n",
    "        selected_dw__dots[\"y\"].values,\n",
    "        selected_dw__dots[\"x\"].values,\n",
    "        'b.', marker=\".\", markersize=.8)\n",
    "    plt.close(fig3)\n",
    "    #print(\" > Exporting\")\n",
    "    fig3.savefig(f\"../../data/60x_reference_overlay/overlay_{current_field_id:03d}.png\", bbox_inches='tight')\n",
    "    print(\" ! DONE\")"
   ]
  }
 ],
 "metadata": {
  "kernelspec": {
   "display_name": "Python 3",
   "language": "python",
   "name": "python3"
  },
  "language_info": {
   "codemirror_mode": {
    "name": "ipython",
    "version": 3
   },
   "file_extension": ".py",
   "mimetype": "text/x-python",
   "name": "python",
   "nbconvert_exporter": "python",
   "pygments_lexer": "ipython3",
   "version": "3.7.4"
  }
 },
 "nbformat": 4,
 "nbformat_minor": 4
}
