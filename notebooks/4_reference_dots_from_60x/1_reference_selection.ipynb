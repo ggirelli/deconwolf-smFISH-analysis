{
 "cells": [
  {
   "cell_type": "code",
   "execution_count": 1,
   "metadata": {},
   "outputs": [],
   "source": [
    "import numpy as np\n",
    "import pandas as pd\n",
    "import scipy as sp\n",
    "from scipy.spatial.distance import cdist\n",
    "from matplotlib import pyplot as plt\n",
    "from typing import List, Tuple\n",
    "from tqdm import tqdm"
   ]
  },
  {
   "cell_type": "code",
   "execution_count": 2,
   "metadata": {},
   "outputs": [],
   "source": [
    "selected_magnification = \"60x\"\n",
    "raw_thr = 0.15\n",
    "dw__thr = 5.3"
   ]
  },
  {
   "cell_type": "markdown",
   "metadata": {},
   "source": [
    "# Selecting reference dots"
   ]
  },
  {
   "cell_type": "markdown",
   "metadata": {},
   "source": [
    "By matching dots between `60x_dw` and `60x_raw`."
   ]
  },
  {
   "cell_type": "code",
   "execution_count": 3,
   "metadata": {},
   "outputs": [],
   "source": [
    "dots_data = pd.read_csv(\"/mnt/data/Imaging/202105-Deconwolf/data_210726/dots_data.clean.tsv.gz\", sep=\"\\t\")"
   ]
  },
  {
   "cell_type": "code",
   "execution_count": 4,
   "metadata": {},
   "outputs": [
    {
     "name": "stderr",
     "output_type": "stream",
     "text": [
      "100%|██████████| 7/7 [00:04<00:00,  1.42it/s]\n"
     ]
    }
   ],
   "source": [
    "match_output: List[np.ndarray] = []\n",
    "match_counts: List[Tuple[int, int, int, int]] = []\n",
    "for series_id in tqdm(np.unique(dots_data[\"sid\"])):\n",
    "    dots_data2 = dots_data.loc[series_id == dots_data[\"sid\"], :].copy()\n",
    "    dots_data2 = dots_data2.loc[selected_magnification == dots_data2[\"magnification\"], :].copy()\n",
    "    \n",
    "    raw = dots_data2.loc[\"raw\" == dots_data2[\"image_type\"], :].copy(\n",
    "        ).sort_values(\"Value2\", ascending=False).reset_index(drop=True)\n",
    "    dw_ = dots_data2.loc[ \"dw\" == dots_data2[\"image_type\"], :].copy(\n",
    "        ).sort_values(\"Value2\", ascending=False).reset_index(drop=True)\n",
    "    \n",
    "    selected_raw = raw.loc[raw_thr <= raw[\"Value2\"], (\"x\", \"y\")].copy().reset_index(drop=True)\n",
    "    selected__dw = dw_.loc[dw__thr <= dw_[\"Value2\"], (\"x\", \"y\")].copy().reset_index(drop=True)\n",
    "    pdist = cdist(selected_raw, selected__dw)\n",
    "    \n",
    "    matched: List[Tuple[int, int, float]] = []\n",
    "    raw_id = 0\n",
    "    while raw_id < pdist.shape[0]:\n",
    "        dw__id = np.nanargmin(pdist[raw_id, :])\n",
    "        if np.nanargmin(pdist[:, dw__id]) == raw_id:\n",
    "            matched.append((raw_id, dw__id, pdist[raw_id, dw__id]))\n",
    "            pdist[raw_id, :] = np.nan\n",
    "            pdist[:, dw__id] = np.nan\n",
    "        raw_id += 1\n",
    "\n",
    "    matched_a = np.array(matched)\n",
    "    match_output.append(pd.DataFrame(dict(\n",
    "        series=series_id,\n",
    "        raw_id=matched_a[:, 0].astype(\"i\"),\n",
    "        dw__id=matched_a[:, 1].astype(\"i\"),\n",
    "        eudist=matched_a[:, 2]\n",
    "    )))\n",
    "    match_counts.append((series_id, matched_a.shape[0], selected_raw.shape[0], selected__dw.shape[0]))"
   ]
  },
  {
   "cell_type": "code",
   "execution_count": 5,
   "metadata": {},
   "outputs": [
    {
     "name": "stdout",
     "output_type": "stream",
     "text": [
      "92.36% raw dots matched to dw\n",
      "92.00% dw dots matched to raw\n"
     ]
    }
   ],
   "source": [
    "match_counts_a = np.array(match_counts)\n",
    "p_raw = match_counts_a.sum(0)[1]/match_counts_a.sum(0)[2]*100\n",
    "p__dw = match_counts_a.sum(0)[1]/match_counts_a.sum(0)[3]*100\n",
    "print(f\"{p_raw:.2f}% raw dots matched to dw\")\n",
    "print(f\"{p__dw:.2f}% dw dots matched to raw\")"
   ]
  },
  {
   "cell_type": "markdown",
   "metadata": {},
   "source": [
    "### Remove dots with distance >= 3 px and export"
   ]
  },
  {
   "cell_type": "code",
   "execution_count": 6,
   "metadata": {},
   "outputs": [],
   "source": [
    "matched_dots = pd.concat(match_output)\n",
    "matched_dots.drop(matched_dots.loc[matched_dots[\"eudist\"] >= 3,:].index, inplace=True)"
   ]
  },
  {
   "cell_type": "code",
   "execution_count": 7,
   "metadata": {},
   "outputs": [],
   "source": [
    "matched_dots.to_csv(\"../../data/60x_reference/matched_dots.tsv\", sep=\"\\t\", index=False)"
   ]
  }
 ],
 "metadata": {
  "kernelspec": {
   "display_name": "Python 3",
   "language": "python",
   "name": "python3"
  },
  "language_info": {
   "codemirror_mode": {
    "name": "ipython",
    "version": 3
   },
   "file_extension": ".py",
   "mimetype": "text/x-python",
   "name": "python",
   "nbconvert_exporter": "python",
   "pygments_lexer": "ipython3",
   "version": "3.7.4"
  }
 },
 "nbformat": 4,
 "nbformat_minor": 4
}
