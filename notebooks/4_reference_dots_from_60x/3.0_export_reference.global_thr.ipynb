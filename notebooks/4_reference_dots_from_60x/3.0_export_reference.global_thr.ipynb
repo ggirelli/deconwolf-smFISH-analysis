{
 "cells": [
  {
   "cell_type": "code",
   "execution_count": 1,
   "metadata": {},
   "outputs": [],
   "source": [
    "import pandas as pd\n",
    "import numpy as np\n",
    "from matplotlib import pyplot as plt\n",
    "import skimage as sk\n",
    "from skimage import measure\n",
    "import os\n",
    "import tifffile\n",
    "from tqdm import tqdm\n",
    "from typing import List"
   ]
  },
  {
   "cell_type": "code",
   "execution_count": 2,
   "metadata": {},
   "outputs": [],
   "source": [
    "dots_data = pd.read_csv(\"/mnt/data/Imaging/202105-Deconwolf/data_210726/dots_data.clean.tsv.gz\", sep=\"\\t\")"
   ]
  },
  {
   "cell_type": "code",
   "execution_count": 3,
   "metadata": {},
   "outputs": [],
   "source": [
    "dots_data2 = dots_data.loc[\"60x\" == dots_data[\"magnification\"], :]"
   ]
  },
  {
   "cell_type": "code",
   "execution_count": 4,
   "metadata": {},
   "outputs": [],
   "source": [
    "matched_dots = pd.read_csv(\"../../data/60x_reference/matched_dots.global_thr.tsv\", sep=\"\\t\")"
   ]
  },
  {
   "cell_type": "code",
   "execution_count": 5,
   "metadata": {},
   "outputs": [],
   "source": [
    "ref_raw = dots_data2.loc[\"raw\" == dots_data2[\"image_type\"], :].reset_index(drop=True)\n",
    "ref__dw = dots_data2.loc[\"dw\" == dots_data2[\"image_type\"], :].reset_index(drop=True)\n",
    "field_list = np.unique(dots_data2[\"sid\"].values).tolist()\n",
    "raw_thr = 0.15\n",
    "dw__thr = 5.3"
   ]
  },
  {
   "cell_type": "code",
   "execution_count": 6,
   "metadata": {},
   "outputs": [
    {
     "name": "stdout",
     "output_type": "stream",
     "text": [
      "Field #1\n",
      "Field #2\n",
      "Field #3\n",
      "Field #4\n",
      "Field #5\n",
      "Field #6\n",
      "Field #7\n"
     ]
    }
   ],
   "source": [
    "all_raw_dots: List[pd.DataFrame] = []\n",
    "all_dw__dots: List[pd.DataFrame] = []\n",
    "selected_raw_dots: List[pd.DataFrame] = []\n",
    "selected_dw__dots: List[pd.DataFrame] = []\n",
    "for current_field_id in field_list:\n",
    "    print(f\"Field #{current_field_id}\")\n",
    "    field_raw_dots = ref_raw.loc[ref_raw[\"sid\"] == current_field_id, :].sort_values(\"Value2\", ascending=False)\n",
    "    field_dw__dots = ref__dw.loc[ref__dw[\"sid\"] == current_field_id, :].sort_values(\"Value2\", ascending=False)\n",
    "    \n",
    "    matched_raw_dots = matched_dots.loc[matched_dots[\"series\"] == current_field_id, \"raw_id\"].values\n",
    "    matched_dw__dots = matched_dots.loc[matched_dots[\"series\"] == current_field_id, \"dw__id\"].values\n",
    "    \n",
    "    all_raw_dots.append(field_raw_dots.loc[field_raw_dots[\"Value2\"] >= raw_thr, :].reset_index(drop=True))\n",
    "    all_dw__dots.append(field_dw__dots.loc[field_dw__dots[\"Value2\"] >= dw__thr, :].reset_index(drop=True))\n",
    "    selected_raw_dots.append(field_raw_dots.loc[field_raw_dots[\"Value2\"] >= raw_thr, :].reset_index(\n",
    "        drop=True).iloc[matched_raw_dots, :])\n",
    "    selected_dw__dots.append(field_dw__dots.loc[field_dw__dots[\"Value2\"] >= dw__thr, :].reset_index(\n",
    "        drop=True).iloc[matched_dw__dots, :])"
   ]
  },
  {
   "cell_type": "code",
   "execution_count": 7,
   "metadata": {},
   "outputs": [],
   "source": [
    "pd.concat(all_raw_dots).reset_index(drop=True).to_csv(\"../../data/60x_reference/raw.global_thr.tsv\", sep=\"\\t\", index=False)\n",
    "pd.concat(selected_raw_dots).reset_index(drop=True).to_csv(\"../../data/60x_reference/ref_raw.global_thr.tsv\", sep=\"\\t\", index=False)"
   ]
  },
  {
   "cell_type": "code",
   "execution_count": 8,
   "metadata": {},
   "outputs": [],
   "source": [
    "pd.concat(all_dw__dots).reset_index(drop=True).to_csv(\"../../data/60x_reference/dw.global_thr.tsv\", sep=\"\\t\", index=False)\n",
    "pd.concat(selected_dw__dots).reset_index(drop=True).to_csv(\"../../data/60x_reference/ref__dw.global_thr.tsv\", sep=\"\\t\", index=False)"
   ]
  }
 ],
 "metadata": {
  "kernelspec": {
   "display_name": "Python 3",
   "language": "python",
   "name": "python3"
  },
  "language_info": {
   "codemirror_mode": {
    "name": "ipython",
    "version": 3
   },
   "file_extension": ".py",
   "mimetype": "text/x-python",
   "name": "python",
   "nbconvert_exporter": "python",
   "pygments_lexer": "ipython3",
   "version": "3.7.4"
  }
 },
 "nbformat": 4,
 "nbformat_minor": 4
}
