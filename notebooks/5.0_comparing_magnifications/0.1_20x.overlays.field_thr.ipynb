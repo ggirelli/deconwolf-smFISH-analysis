{
 "cells": [
  {
   "cell_type": "code",
   "execution_count": 1,
   "metadata": {},
   "outputs": [],
   "source": [
    "import pandas as pd\n",
    "import numpy as np\n",
    "from matplotlib import pyplot as plt\n",
    "import skimage as sk\n",
    "from skimage import measure\n",
    "import os\n",
    "import tifffile\n",
    "from tqdm import tqdm"
   ]
  },
  {
   "cell_type": "code",
   "execution_count": 2,
   "metadata": {},
   "outputs": [],
   "source": [
    "dots_data = pd.read_csv(\"/mnt/data/Imaging/202105-Deconwolf/data_210726/dots_data.clean.tsv.gz\", sep=\"\\t\")"
   ]
  },
  {
   "cell_type": "code",
   "execution_count": 3,
   "metadata": {},
   "outputs": [],
   "source": [
    "dots_data2 = dots_data.loc[\"20x\" == dots_data[\"magnification\"], :]"
   ]
  },
  {
   "cell_type": "code",
   "execution_count": 4,
   "metadata": {},
   "outputs": [],
   "source": [
    "thresholds_table = pd.read_csv(\"../../data/magnifications_matching/intensity_thresholds.by_field.tsv\", sep=\"\\t\")"
   ]
  },
  {
   "cell_type": "code",
   "execution_count": 5,
   "metadata": {},
   "outputs": [],
   "source": [
    "ref_raw = dots_data2.loc[\"raw\" == dots_data2[\"image_type\"], :].reset_index(drop=True)\n",
    "ref__dw = dots_data2.loc[\"dw\" == dots_data2[\"image_type\"], :].reset_index(drop=True)\n",
    "raw_image_folder_path = \"/mnt/data/Imaging/202105-Deconwolf/data_210726/20x_raw\"\n",
    "dw__image_folder_path = \"/mnt/data/Imaging/202105-Deconwolf/data_210726/20x_dw\"\n",
    "mask_folder_path = \"../../data/20x_mask/dilated_labels_watershed_from60x\"\n",
    "field_list = np.unique(dots_data2[\"sid\"].values).tolist()"
   ]
  },
  {
   "cell_type": "code",
   "execution_count": 6,
   "metadata": {},
   "outputs": [
    {
     "name": "stdout",
     "output_type": "stream",
     "text": [
      "Field #1\n"
     ]
    },
    {
     "name": "stderr",
     "output_type": "stream",
     "text": [
      "nucleus:   4%|▍         | 7/180 [00:00<00:02, 58.12it/s]"
     ]
    },
    {
     "name": "stdout",
     "output_type": "stream",
     "text": [
      " > Plotting raw\n",
      " > Plotting dw\n",
      " > Plotting contours\n"
     ]
    },
    {
     "name": "stderr",
     "output_type": "stream",
     "text": [
      "nucleus: 100%|██████████| 180/180 [00:03<00:00, 51.52it/s]\n"
     ]
    },
    {
     "name": "stdout",
     "output_type": "stream",
     "text": [
      " ! DONE\n",
      "Field #2\n"
     ]
    },
    {
     "name": "stderr",
     "output_type": "stream",
     "text": [
      "nucleus:   4%|▍         | 8/208 [00:00<00:02, 68.09it/s]"
     ]
    },
    {
     "name": "stdout",
     "output_type": "stream",
     "text": [
      " > Plotting raw\n",
      " > Plotting dw\n",
      " > Plotting contours\n"
     ]
    },
    {
     "name": "stderr",
     "output_type": "stream",
     "text": [
      "nucleus: 100%|██████████| 208/208 [00:05<00:00, 36.00it/s]\n"
     ]
    },
    {
     "name": "stdout",
     "output_type": "stream",
     "text": [
      " ! DONE\n",
      "Field #3\n"
     ]
    },
    {
     "name": "stderr",
     "output_type": "stream",
     "text": [
      "nucleus:   5%|▌         | 8/156 [00:00<00:02, 71.19it/s]"
     ]
    },
    {
     "name": "stdout",
     "output_type": "stream",
     "text": [
      " > Plotting raw\n",
      " > Plotting dw\n",
      " > Plotting contours\n"
     ]
    },
    {
     "name": "stderr",
     "output_type": "stream",
     "text": [
      "nucleus: 100%|██████████| 156/156 [00:02<00:00, 54.56it/s]\n"
     ]
    },
    {
     "name": "stdout",
     "output_type": "stream",
     "text": [
      " ! DONE\n",
      "Field #4\n"
     ]
    },
    {
     "name": "stderr",
     "output_type": "stream",
     "text": [
      "nucleus:   3%|▎         | 6/172 [00:00<00:02, 57.39it/s]"
     ]
    },
    {
     "name": "stdout",
     "output_type": "stream",
     "text": [
      " > Plotting raw\n",
      " > Plotting dw\n",
      " > Plotting contours\n"
     ]
    },
    {
     "name": "stderr",
     "output_type": "stream",
     "text": [
      "nucleus: 100%|██████████| 172/172 [00:03<00:00, 51.99it/s]\n"
     ]
    },
    {
     "name": "stdout",
     "output_type": "stream",
     "text": [
      " ! DONE\n",
      "Field #5\n"
     ]
    },
    {
     "name": "stderr",
     "output_type": "stream",
     "text": [
      "nucleus:   2%|▏         | 7/342 [00:00<00:04, 67.98it/s]"
     ]
    },
    {
     "name": "stdout",
     "output_type": "stream",
     "text": [
      " > Plotting raw\n",
      " > Plotting dw\n",
      " > Plotting contours\n"
     ]
    },
    {
     "name": "stderr",
     "output_type": "stream",
     "text": [
      "nucleus: 100%|██████████| 342/342 [00:05<00:00, 60.43it/s] \n"
     ]
    },
    {
     "name": "stdout",
     "output_type": "stream",
     "text": [
      " ! DONE\n",
      "Field #6\n"
     ]
    },
    {
     "name": "stderr",
     "output_type": "stream",
     "text": [
      "nucleus:   3%|▎         | 6/210 [00:00<00:03, 53.75it/s]"
     ]
    },
    {
     "name": "stdout",
     "output_type": "stream",
     "text": [
      " > Plotting raw\n",
      " > Plotting dw\n",
      " > Plotting contours\n"
     ]
    },
    {
     "name": "stderr",
     "output_type": "stream",
     "text": [
      "nucleus: 100%|██████████| 210/210 [00:04<00:00, 46.71it/s]\n"
     ]
    },
    {
     "name": "stdout",
     "output_type": "stream",
     "text": [
      " ! DONE\n",
      "Field #7\n"
     ]
    },
    {
     "name": "stderr",
     "output_type": "stream",
     "text": [
      "nucleus:   4%|▎         | 8/221 [00:00<00:02, 73.72it/s]"
     ]
    },
    {
     "name": "stdout",
     "output_type": "stream",
     "text": [
      " > Plotting raw\n",
      " > Plotting dw\n",
      " > Plotting contours\n"
     ]
    },
    {
     "name": "stderr",
     "output_type": "stream",
     "text": [
      "nucleus: 100%|██████████| 221/221 [00:04<00:00, 44.40it/s]\n"
     ]
    },
    {
     "name": "stdout",
     "output_type": "stream",
     "text": [
      " ! DONE\n"
     ]
    }
   ],
   "source": [
    "for current_field_id in field_list:\n",
    "    print(f\"Field #{current_field_id}\")\n",
    "    thresholds = thresholds_table.loc[current_field_id == thresholds_table[\"sid\"], :]\n",
    "    raw_thr = thresholds.loc[\"raw\" == thresholds[\"image_type\"], \"thr\"].values[0]\n",
    "    dw__thr = thresholds.loc[\"dw\" == thresholds[\"image_type\"], \"thr\"].values[0]\n",
    "\n",
    "    raw_max_z_proj = tifffile.imread(os.path.join(raw_image_folder_path, f\"a647_{current_field_id:03d}.tif\")).max(0)\n",
    "    dw__max_z_proj = tifffile.imread(os.path.join(dw__image_folder_path, f\"a647_{current_field_id:03d}.tif\")).max(0)\n",
    "    \n",
    "    labels = tifffile.imread(os.path.join(mask_folder_path, f\"a647_{current_field_id:03d}.dilated_labels.from_60x.tiff\")).reshape(raw_max_z_proj.shape)\n",
    "\n",
    "    field_raw_dots = ref_raw.loc[ref_raw[\"sid\"] == current_field_id, :].sort_values(\"Value2\", ascending=False)\n",
    "    field_dw__dots = ref__dw.loc[ref__dw[\"sid\"] == current_field_id, :].sort_values(\"Value2\", ascending=False)\n",
    "    \n",
    "    selected_raw_dots = field_raw_dots.loc[field_raw_dots[\"Value2\"] >= raw_thr, :].reset_index(drop=True)\n",
    "    selected_dw__dots = field_dw__dots.loc[field_dw__dots[\"Value2\"] >= dw__thr, :].reset_index(drop=True)\n",
    "\n",
    "    fig3, ax = plt.subplots(figsize=(20, 10), ncols=2, constrained_layout=True)\n",
    "    fig3.suptitle(f\"Field #{current_field_id}\")\n",
    "    print(\" > Plotting raw\")\n",
    "    ax[0].set_title(f\"20x_raw (n.dots={selected_raw_dots.shape[0]})\")\n",
    "    ax[0].imshow(\n",
    "        raw_max_z_proj, cmap=plt.get_cmap(\"gray\"), interpolation=\"none\",\n",
    "        vmin=raw_max_z_proj.min(), vmax=raw_max_z_proj.max(),\n",
    "        resample=False, filternorm=False)\n",
    "    ax[0].scatter(\n",
    "        x=selected_raw_dots[\"y\"].values,\n",
    "        y=selected_raw_dots[\"x\"].values,\n",
    "        s=30, facecolors='none', edgecolors='r', linewidth=.5)\n",
    "    print(\" > Plotting dw\")\n",
    "    ax[1].set_title(f\"20x_dw (n.dots={selected_dw__dots.shape[0]})\")\n",
    "    ax[1].imshow(\n",
    "        dw__max_z_proj, cmap=plt.get_cmap(\"gray\"), interpolation=\"none\",\n",
    "        vmin=dw__max_z_proj.min()*1.5, vmax=dw__max_z_proj.max()*.5,\n",
    "        resample=False, filternorm=False)\n",
    "    ax[1].scatter(\n",
    "        x=selected_dw__dots[\"y\"].values,\n",
    "        y=selected_dw__dots[\"x\"].values,\n",
    "        s=30, facecolors='none', edgecolors='r', linewidth=.5)\n",
    "    print(\" > Plotting contours\")\n",
    "    for lid in tqdm(range(1, labels.max()), desc=\"nucleus\"):\n",
    "        contours = measure.find_contours(labels == lid, 0.8)\n",
    "        for contour in contours:\n",
    "            ax[0].scatter(x=contour[:,1], y=contour[:,0], c=\"yellow\", s=.005)\n",
    "            ax[1].scatter(x=contour[:,1], y=contour[:,0], c=\"yellow\", s=.005)\n",
    "    plt.close(fig3)\n",
    "    #print(\" > Exporting\")\n",
    "    fig3.savefig(f\"../../data/magnifications_matching/overlays.field_thr/overlay_{current_field_id:03d}.png\", bbox_inches='tight')\n",
    "    print(\" ! DONE\")"
   ]
  }
 ],
 "metadata": {
  "kernelspec": {
   "display_name": "Python 3",
   "language": "python",
   "name": "python3"
  },
  "language_info": {
   "codemirror_mode": {
    "name": "ipython",
    "version": 3
   },
   "file_extension": ".py",
   "mimetype": "text/x-python",
   "name": "python",
   "nbconvert_exporter": "python",
   "pygments_lexer": "ipython3",
   "version": "3.7.4"
  }
 },
 "nbformat": 4,
 "nbformat_minor": 4
}
