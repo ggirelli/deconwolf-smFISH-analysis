{
 "cells": [
  {
   "cell_type": "code",
   "execution_count": 1,
   "metadata": {},
   "outputs": [],
   "source": [
    "import numpy as np\n",
    "import pandas as pd\n",
    "import scipy as sp\n",
    "from scipy.spatial.distance import cdist\n",
    "from skimage import measure\n",
    "from matplotlib import pyplot as plt\n",
    "import os\n",
    "import tifffile\n",
    "from tqdm import tqdm\n",
    "from typing import List, Tuple"
   ]
  },
  {
   "cell_type": "code",
   "execution_count": 2,
   "metadata": {},
   "outputs": [],
   "source": [
    "selected_magnification = \"20x\"\n",
    "selected_image_type = \"dw\"\n",
    "dw__thr = 13\n",
    "max_dist = 9\n",
    "aspect = np.array((1/3, 1/3))    # XY: 20x / aspect => 60x"
   ]
  },
  {
   "cell_type": "markdown",
   "metadata": {},
   "source": [
    "### Read shift data"
   ]
  },
  {
   "cell_type": "code",
   "execution_count": 3,
   "metadata": {},
   "outputs": [],
   "source": [
    "shifts = pd.read_csv(f\"shift_correction/{selected_magnification}_{selected_image_type}.shifts.csv\")\n",
    "shifts.index = shifts[\"sid\"].values\n",
    "shifts.drop(\"sid\", 1, inplace=True)"
   ]
  },
  {
   "cell_type": "markdown",
   "metadata": {},
   "source": [
    "# Matching 20x_dw and reference dots"
   ]
  },
  {
   "cell_type": "code",
   "execution_count": 4,
   "metadata": {},
   "outputs": [],
   "source": [
    "dots_data = pd.read_csv(\"/mnt/data/Imaging/202105-Deconwolf/data_210726/dots_data.clean.tsv.gz\", sep=\"\\t\")\n",
    "dots_data = dots_data[selected_magnification == dots_data[\"magnification\"]]\n",
    "dots_data = dots_data[selected_image_type == dots_data[\"image_type\"]]"
   ]
  },
  {
   "cell_type": "code",
   "execution_count": 5,
   "metadata": {},
   "outputs": [],
   "source": [
    "reference = pd.read_csv(\"../../data/60x_reference/ref__dw.global_thr.tsv\", sep=\"\\t\")"
   ]
  },
  {
   "cell_type": "code",
   "execution_count": 6,
   "metadata": {},
   "outputs": [],
   "source": [
    "def get_unassigned_count(pdist: np.ndarray) -> int:\n",
    "    return np.sum(np.nansum(np.isnan(pdist), 1) != pdist.shape[1])\n",
    "\n",
    "def match_dots(dotsA: np.ndarray, dotsB: np.ndarray) -> List[Tuple[int, int, float]]:\n",
    "    pdist = cdist(dotsA, dotsB)\n",
    "    \n",
    "    matched: List[Tuple[int, int, float]] = []\n",
    "    unassigned_rows = pdist.shape[0] + 1\n",
    "    iteration_counter = 0\n",
    "    print(\"Iteration #\", end=\"\")\n",
    "    while unassigned_rows > get_unassigned_count(pdist) and 0 < get_unassigned_count(pdist):\n",
    "        iteration_counter += 1\n",
    "        print(f\"...{iteration_counter}\", end=\"\")\n",
    "\n",
    "        unassigned_rows = get_unassigned_count(pdist)\n",
    "        A_id = 0\n",
    "        while A_id < pdist.shape[0]:\n",
    "            if pdist.shape[1] == np.sum(np.isnan(pdist[A_id, :])):\n",
    "                A_id += 1\n",
    "                continue\n",
    "            B_id = np.nanargmin(pdist[A_id, :])\n",
    "            if np.nanargmin(pdist[:, B_id]) == A_id:\n",
    "                matched.append((A_id, B_id, pdist[A_id, B_id]))\n",
    "                pdist[A_id, :] = np.nan\n",
    "                pdist[:, B_id] = np.nan\n",
    "            A_id += 1\n",
    "    print(\"\")\n",
    "    return matched"
   ]
  },
  {
   "cell_type": "code",
   "execution_count": 7,
   "metadata": {},
   "outputs": [
    {
     "name": "stderr",
     "output_type": "stream",
     "text": [
      "  0%|          | 0/7 [00:00<?, ?it/s]"
     ]
    },
    {
     "name": "stdout",
     "output_type": "stream",
     "text": [
      "Iteration #...1...2...3...4"
     ]
    },
    {
     "name": "stderr",
     "output_type": "stream",
     "text": [
      " 14%|█▍        | 1/7 [00:00<00:02,  2.40it/s]"
     ]
    },
    {
     "name": "stdout",
     "output_type": "stream",
     "text": [
      "...5...6...7...8\n",
      "Iteration #...1...2...3...4...5...6...7...8...9...10"
     ]
    },
    {
     "name": "stderr",
     "output_type": "stream",
     "text": [
      " 29%|██▊       | 2/7 [00:01<00:02,  1.88it/s]"
     ]
    },
    {
     "name": "stdout",
     "output_type": "stream",
     "text": [
      "\n",
      "Iteration #...1...2...3...4"
     ]
    },
    {
     "name": "stderr",
     "output_type": "stream",
     "text": [
      " 43%|████▎     | 3/7 [00:01<00:01,  2.24it/s]"
     ]
    },
    {
     "name": "stdout",
     "output_type": "stream",
     "text": [
      "...5...6\n",
      "Iteration #...1...2...3...4...5...6...7...8"
     ]
    },
    {
     "name": "stderr",
     "output_type": "stream",
     "text": [
      " 57%|█████▋    | 4/7 [00:01<00:01,  2.14it/s]"
     ]
    },
    {
     "name": "stdout",
     "output_type": "stream",
     "text": [
      "...9\n",
      "Iteration #...1...2...3...4...5...6...7...8"
     ]
    },
    {
     "name": "stderr",
     "output_type": "stream",
     "text": [
      " 71%|███████▏  | 5/7 [00:03<00:01,  1.53it/s]"
     ]
    },
    {
     "name": "stdout",
     "output_type": "stream",
     "text": [
      "...9...10\n",
      "Iteration #...1...2...3...4...5...6...7...8...9...10...11...12...13...14...15...16...17\n"
     ]
    },
    {
     "name": "stderr",
     "output_type": "stream",
     "text": [
      "100%|██████████| 7/7 [00:03<00:00,  1.92it/s]"
     ]
    },
    {
     "name": "stdout",
     "output_type": "stream",
     "text": [
      "Iteration #...1...2...3...4...5...6...7...8...9...10...11...12...13...14...15...16...17...18...19...20\n"
     ]
    },
    {
     "name": "stderr",
     "output_type": "stream",
     "text": [
      "\n"
     ]
    }
   ],
   "source": [
    "match_output: List[pd.DataFrame] = []\n",
    "match_output_full: List[pd.DataFrame] = []\n",
    "match_counts: List[Tuple[int, int, int, int]] = []\n",
    "for current_field_id in tqdm(np.unique(dots_data[\"sid\"])):    \n",
    "    dots = dots_data.loc[current_field_id == dots_data[\"sid\"], :].copy(\n",
    "        ).sort_values(\"Value2\", ascending=False).reset_index(drop=True)\n",
    "    \n",
    "    dot_coords = dots.loc[dw__thr <= dots[\"Value2\"], (\"x\", \"y\")].copy().reset_index(drop=True)\n",
    "    dot_coords2 = dot_coords.copy() / aspect\n",
    "    dot_coords2[\"x\"] += (shifts.loc[current_field_id, \"x\"] * 9)\n",
    "    dot_coords2[\"y\"] += (shifts.loc[current_field_id, \"y\"] * 9)\n",
    "    ref_coords = reference.loc[reference[\"sid\"] == current_field_id, (\"x\", \"y\")].copy().reset_index(drop=True)\n",
    "    \n",
    "    matched: List[Tuple[int, int, float]] = match_dots(dot_coords2, ref_coords)\n",
    "    \n",
    "    matched_a = np.array(matched)\n",
    "    matched_field = pd.DataFrame(dict(\n",
    "        series=current_field_id,\n",
    "        id_20x=matched_a[:, 0].astype(\"i\"),\n",
    "        id_60x=matched_a[:, 1].astype(\"i\"),\n",
    "        eudist=matched_a[:, 2]\n",
    "    ))\n",
    "    matched_field_within_dist = matched_field[matched_field[\"eudist\"] <= max_dist]\n",
    "    match_output.append(matched_field_within_dist)\n",
    "    match_output_full.append(matched_field)\n",
    "    match_counts.append((current_field_id,\n",
    "                         matched_field_within_dist.shape[0],\n",
    "                         matched_field.shape[0]-matched_field_within_dist.shape[0],\n",
    "                         dot_coords2.shape[0],\n",
    "                         ref_coords.shape[0]))"
   ]
  },
  {
   "cell_type": "code",
   "execution_count": 8,
   "metadata": {},
   "outputs": [
    {
     "name": "stdout",
     "output_type": "stream",
     "text": [
      "6595/7948 (82.98%) 20x dots matched to 60x\n",
      "6595/9440 (69.86%) 60x dots matched to 20x\n",
      "1353 (17.02% 20x, 14.33% 60x) dots matched with distance > 9\n"
     ]
    }
   ],
   "source": [
    "match_counts_a = np.array(match_counts)\n",
    "n_total_matched = np.sum(match_counts_a[:, 1])\n",
    "n_total_over_dist = np.sum(match_counts_a[:, 2])\n",
    "n_total_20x = np.sum(match_counts_a[:, 3])\n",
    "n_total_60x = np.sum(match_counts_a[:, 4])\n",
    "print(f\"{n_total_matched}/{n_total_20x} ({n_total_matched/n_total_20x*100:.2f}%) 20x dots matched to 60x\")\n",
    "print(f\"{n_total_matched}/{n_total_60x} ({n_total_matched/n_total_60x*100:.2f}%) 60x dots matched to 20x\")\n",
    "print(f\"{n_total_over_dist} ({n_total_over_dist/n_total_20x*100:.2f}% 20x, {n_total_over_dist/n_total_60x*100:.2f}% 60x) dots matched with distance > {max_dist}\")"
   ]
  },
  {
   "cell_type": "code",
   "execution_count": 9,
   "metadata": {},
   "outputs": [
    {
     "name": "stdout",
     "output_type": "stream",
     "text": [
      "Field #1\n",
      "    994/1191 (83.46%) 20x dots matched to 60x\n",
      "    994/1308 (75.99%) 60x dots matched to 20x\n",
      "    197 (16.54% 20x, 15.06% 60x) dots matched with distance > 9\n",
      "    \n",
      "Field #2\n",
      "    1423/1696 (83.90%) 20x dots matched to 60x\n",
      "    1423/1921 (74.08%) 60x dots matched to 20x\n",
      "    273 (16.10% 20x, 14.21% 60x) dots matched with distance > 9\n",
      "    \n",
      "Field #3\n",
      "    745/879 (84.76%) 20x dots matched to 60x\n",
      "    745/1045 (71.29%) 60x dots matched to 20x\n",
      "    134 (15.24% 20x, 12.82% 60x) dots matched with distance > 9\n",
      "    \n",
      "Field #4\n",
      "    1176/1364 (86.22%) 20x dots matched to 60x\n",
      "    1176/1548 (75.97%) 60x dots matched to 20x\n",
      "    188 (13.78% 20x, 12.14% 60x) dots matched with distance > 9\n",
      "    \n",
      "Field #5\n",
      "    1691/2003 (84.42%) 20x dots matched to 60x\n",
      "    1691/2404 (70.34%) 60x dots matched to 20x\n",
      "    312 (15.58% 20x, 12.98% 60x) dots matched with distance > 9\n",
      "    \n",
      "Field #6\n",
      "    415/557 (74.51%) 20x dots matched to 60x\n",
      "    415/691 (60.06%) 60x dots matched to 20x\n",
      "    142 (25.49% 20x, 20.55% 60x) dots matched with distance > 9\n",
      "    \n",
      "Field #7\n",
      "    151/258 (58.53%) 20x dots matched to 60x\n",
      "    151/523 (28.87%) 60x dots matched to 20x\n",
      "    107 (41.47% 20x, 20.46% 60x) dots matched with distance > 9\n",
      "    \n"
     ]
    }
   ],
   "source": [
    "for series_id in range(match_counts_a.shape[0]):\n",
    "    n_matched = match_counts_a[series_id, 1]\n",
    "    n_over_dist = match_counts_a[series_id, 2]\n",
    "    n_20x = match_counts_a[series_id, 3]\n",
    "    n_60x = match_counts_a[series_id, 4]\n",
    "    print(f\"\"\"Field #{series_id+1}\n",
    "    {n_matched}/{n_20x} ({n_matched/n_20x*100:.2f}%) 20x dots matched to 60x\n",
    "    {n_matched}/{n_60x} ({n_matched/n_60x*100:.2f}%) 60x dots matched to 20x\n",
    "    {n_over_dist} ({n_over_dist/n_20x*100:.2f}% 20x, {n_over_dist/n_60x*100:.2f}% 60x) dots matched with distance > {max_dist}\n",
    "    \"\"\")"
   ]
  },
  {
   "cell_type": "markdown",
   "metadata": {},
   "source": [
    "#### General statistics, excluding field #7"
   ]
  },
  {
   "cell_type": "code",
   "execution_count": 10,
   "metadata": {},
   "outputs": [
    {
     "name": "stdout",
     "output_type": "stream",
     "text": [
      "6444/7690 (83.80%) 20x dots matched to 60x\n",
      "6444/8917 (72.27%) 60x dots matched to 20x\n",
      "1246 (16.20% 20x, 13.97% 60x) dots matched with distance > 9\n"
     ]
    }
   ],
   "source": [
    "match_counts_a = np.array(match_counts)\n",
    "n_total_matched = np.sum(match_counts_a[:6, 1])\n",
    "n_total_over_dist = np.sum(match_counts_a[:6, 2])\n",
    "n_total_20x = np.sum(match_counts_a[:6, 3])\n",
    "n_total_60x = np.sum(match_counts_a[:6, 4])\n",
    "print(f\"{n_total_matched}/{n_total_20x} ({n_total_matched/n_total_20x*100:.2f}%) 20x dots matched to 60x\")\n",
    "print(f\"{n_total_matched}/{n_total_60x} ({n_total_matched/n_total_60x*100:.2f}%) 60x dots matched to 20x\")\n",
    "print(f\"{n_total_over_dist} ({n_total_over_dist/n_total_20x*100:.2f}% 20x, {n_total_over_dist/n_total_60x*100:.2f}% 60x) dots matched with distance > {max_dist}\")"
   ]
  },
  {
   "cell_type": "markdown",
   "metadata": {},
   "source": [
    "#### General statistics, excluding fields #6-7"
   ]
  },
  {
   "cell_type": "code",
   "execution_count": 11,
   "metadata": {},
   "outputs": [
    {
     "name": "stdout",
     "output_type": "stream",
     "text": [
      "6029/7133 (84.52%) 20x dots matched to 60x\n",
      "6029/8226 (73.29%) 60x dots matched to 20x\n",
      "1104 (15.48% 20x, 13.42% 60x) dots matched with distance > 9\n"
     ]
    }
   ],
   "source": [
    "match_counts_a = np.array(match_counts)\n",
    "n_total_matched = np.sum(match_counts_a[:5, 1])\n",
    "n_total_over_dist = np.sum(match_counts_a[:5, 2])\n",
    "n_total_20x = np.sum(match_counts_a[:5, 3])\n",
    "n_total_60x = np.sum(match_counts_a[:5, 4])\n",
    "print(f\"{n_total_matched}/{n_total_20x} ({n_total_matched/n_total_20x*100:.2f}%) 20x dots matched to 60x\")\n",
    "print(f\"{n_total_matched}/{n_total_60x} ({n_total_matched/n_total_60x*100:.2f}%) 60x dots matched to 20x\")\n",
    "print(f\"{n_total_over_dist} ({n_total_over_dist/n_total_20x*100:.2f}% 20x, {n_total_over_dist/n_total_60x*100:.2f}% 60x) dots matched with distance > {max_dist}\")"
   ]
  },
  {
   "cell_type": "markdown",
   "metadata": {},
   "source": [
    "### Export"
   ]
  },
  {
   "cell_type": "code",
   "execution_count": 12,
   "metadata": {},
   "outputs": [],
   "source": [
    "matched_dots = pd.concat(match_output)"
   ]
  },
  {
   "cell_type": "code",
   "execution_count": 13,
   "metadata": {},
   "outputs": [],
   "source": [
    "matched_dots.to_csv(os.path.join(\"../../data/magnifications_matching\",\n",
    "                                 f\"{selected_magnification}_{selected_image_type}.matched_dots.global_thr.tsv\"\n",
    "                                ), sep=\"\\t\", index=False)"
   ]
  },
  {
   "cell_type": "code",
   "execution_count": 14,
   "metadata": {},
   "outputs": [],
   "source": [
    "pd.DataFrame(match_counts_a, columns=[\"series_id\", \"matched\", \"matched_over_dist\", \"raw_total\", \"dw_total\"]\n",
    "            ).to_csv(os.path.join(\"../../data/magnifications_matching\",\n",
    "                                  f\"{selected_magnification}_{selected_image_type}.matched_dots.global_thr.counts.tsv\"\n",
    "                                 ), sep=\"\\t\", index=False)"
   ]
  }
 ],
 "metadata": {
  "kernelspec": {
   "display_name": "Python 3",
   "language": "python",
   "name": "python3"
  },
  "language_info": {
   "codemirror_mode": {
    "name": "ipython",
    "version": 3
   },
   "file_extension": ".py",
   "mimetype": "text/x-python",
   "name": "python",
   "nbconvert_exporter": "python",
   "pygments_lexer": "ipython3",
   "version": "3.7.4"
  }
 },
 "nbformat": 4,
 "nbformat_minor": 4
}
