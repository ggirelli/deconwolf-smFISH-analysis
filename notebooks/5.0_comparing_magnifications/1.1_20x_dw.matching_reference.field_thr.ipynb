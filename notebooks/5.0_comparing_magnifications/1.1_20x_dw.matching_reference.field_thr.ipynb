{
 "cells": [
  {
   "cell_type": "code",
   "execution_count": 1,
   "metadata": {},
   "outputs": [],
   "source": [
    "import numpy as np\n",
    "import pandas as pd\n",
    "import scipy as sp\n",
    "from scipy.spatial.distance import cdist\n",
    "from skimage import measure\n",
    "from matplotlib import pyplot as plt\n",
    "import os\n",
    "import tifffile\n",
    "from tqdm import tqdm\n",
    "from typing import List, Tuple"
   ]
  },
  {
   "cell_type": "code",
   "execution_count": 2,
   "metadata": {},
   "outputs": [],
   "source": [
    "selected_magnification = \"20x\"\n",
    "selected_image_type = \"dw\"\n",
    "max_dist = 9\n",
    "aspect = np.array((1/3, 1/3))    # XY: 20x / aspect => 60x"
   ]
  },
  {
   "cell_type": "markdown",
   "metadata": {},
   "source": [
    "### Read shift data"
   ]
  },
  {
   "cell_type": "code",
   "execution_count": 3,
   "metadata": {},
   "outputs": [],
   "source": [
    "shifts = pd.read_csv(f\"shift_correction/{selected_magnification}_{selected_image_type}.shifts.csv\")\n",
    "shifts.index = shifts[\"sid\"].values\n",
    "shifts.drop(\"sid\", 1, inplace=True)"
   ]
  },
  {
   "cell_type": "markdown",
   "metadata": {},
   "source": [
    "# Matching 20x_dw and reference dots"
   ]
  },
  {
   "cell_type": "code",
   "execution_count": 4,
   "metadata": {},
   "outputs": [],
   "source": [
    "dots_data = pd.read_csv(\"/mnt/data/Imaging/202105-Deconwolf/data_210726/dots_data.clean.tsv.gz\", sep=\"\\t\")\n",
    "dots_data = dots_data[selected_magnification == dots_data[\"magnification\"]]\n",
    "dots_data = dots_data[selected_image_type == dots_data[\"image_type\"]]"
   ]
  },
  {
   "cell_type": "code",
   "execution_count": 5,
   "metadata": {},
   "outputs": [],
   "source": [
    "thresholds_table = pd.read_csv(\"../../data/magnifications_matching/intensity_thresholds.by_field.tsv\", sep=\"\\t\")"
   ]
  },
  {
   "cell_type": "code",
   "execution_count": 6,
   "metadata": {},
   "outputs": [],
   "source": [
    "reference = pd.read_csv(\"../../data/60x_reference/ref__dw.field_thr.tsv\", sep=\"\\t\")"
   ]
  },
  {
   "cell_type": "code",
   "execution_count": 7,
   "metadata": {},
   "outputs": [],
   "source": [
    "def get_unassigned_count(pdist: np.ndarray) -> int:\n",
    "    return np.sum(np.nansum(np.isnan(pdist), 1) != pdist.shape[1])\n",
    "\n",
    "def match_dots(dotsA: np.ndarray, dotsB: np.ndarray) -> List[Tuple[int, int, float]]:\n",
    "    pdist = cdist(dotsA, dotsB)\n",
    "    \n",
    "    matched: List[Tuple[int, int, float]] = []\n",
    "    unassigned_rows = pdist.shape[0] + 1\n",
    "    iteration_counter = 0\n",
    "    print(\"Iteration #\", end=\"\")\n",
    "    while unassigned_rows > get_unassigned_count(pdist) and 0 < get_unassigned_count(pdist):\n",
    "        iteration_counter += 1\n",
    "        print(f\"...{iteration_counter}\", end=\"\")\n",
    "\n",
    "        unassigned_rows = get_unassigned_count(pdist)\n",
    "        A_id = 0\n",
    "        while A_id < pdist.shape[0]:\n",
    "            if pdist.shape[1] == np.sum(np.isnan(pdist[A_id, :])):\n",
    "                A_id += 1\n",
    "                continue\n",
    "            B_id = np.nanargmin(pdist[A_id, :])\n",
    "            if np.nanargmin(pdist[:, B_id]) == A_id:\n",
    "                matched.append((A_id, B_id, pdist[A_id, B_id]))\n",
    "                pdist[A_id, :] = np.nan\n",
    "                pdist[:, B_id] = np.nan\n",
    "            A_id += 1\n",
    "    print(\"\")\n",
    "    return matched"
   ]
  },
  {
   "cell_type": "code",
   "execution_count": 8,
   "metadata": {},
   "outputs": [
    {
     "name": "stderr",
     "output_type": "stream",
     "text": [
      "  0%|          | 0/7 [00:00<?, ?it/s]"
     ]
    },
    {
     "name": "stdout",
     "output_type": "stream",
     "text": [
      "Iteration #...1...2...3...4...5...6...7...8...9...10...11...12...13"
     ]
    },
    {
     "name": "stderr",
     "output_type": "stream",
     "text": [
      " 14%|█▍        | 1/7 [00:00<00:03,  1.85it/s]"
     ]
    },
    {
     "name": "stdout",
     "output_type": "stream",
     "text": [
      "...14\n",
      "Iteration #...1...2...3...4...5...6...7...8...9...10...11"
     ]
    },
    {
     "name": "stderr",
     "output_type": "stream",
     "text": [
      " 29%|██▊       | 2/7 [00:01<00:03,  1.61it/s]"
     ]
    },
    {
     "name": "stdout",
     "output_type": "stream",
     "text": [
      "...12\n",
      "Iteration #...1...2"
     ]
    },
    {
     "name": "stderr",
     "output_type": "stream",
     "text": [
      " 43%|████▎     | 3/7 [00:01<00:02,  1.92it/s]"
     ]
    },
    {
     "name": "stdout",
     "output_type": "stream",
     "text": [
      "...3...4...5...6...7...8...9...10\n",
      "Iteration #...1...2...3...4...5...6...7...8...9...10...11...12...13...14...15...16...17"
     ]
    },
    {
     "name": "stderr",
     "output_type": "stream",
     "text": [
      " 57%|█████▋    | 4/7 [00:02<00:01,  1.65it/s]"
     ]
    },
    {
     "name": "stdout",
     "output_type": "stream",
     "text": [
      "...18...19\n",
      "Iteration #...1...2...3...4...5...6...7...8...9...10...11...12...13...14...15"
     ]
    },
    {
     "name": "stderr",
     "output_type": "stream",
     "text": [
      " 71%|███████▏  | 5/7 [00:03<00:01,  1.15it/s]"
     ]
    },
    {
     "name": "stdout",
     "output_type": "stream",
     "text": [
      "\n",
      "Iteration #...1...2...3...4...5...6...7"
     ]
    },
    {
     "name": "stderr",
     "output_type": "stream",
     "text": [
      "100%|██████████| 7/7 [00:04<00:00,  1.91it/s]"
     ]
    },
    {
     "name": "stdout",
     "output_type": "stream",
     "text": [
      "...8...9...10...11\n",
      "Iteration #...1...2...3...4...5...6...7...8...9...10...11...12\n"
     ]
    },
    {
     "name": "stderr",
     "output_type": "stream",
     "text": [
      "100%|██████████| 7/7 [00:04<00:00,  1.62it/s]\n"
     ]
    }
   ],
   "source": [
    "match_output: List[pd.DataFrame] = []\n",
    "match_output_full: List[pd.DataFrame] = []\n",
    "match_counts: List[Tuple[int, int, int, int]] = []\n",
    "for current_field_id in tqdm(np.unique(dots_data[\"sid\"])):\n",
    "    thresholds = thresholds_table.loc[current_field_id == thresholds_table[\"sid\"], :]\n",
    "    intensity_thr = thresholds.loc[selected_image_type == thresholds[\"image_type\"], \"thr\"].values[0]\n",
    "\n",
    "    dots = dots_data.loc[current_field_id == dots_data[\"sid\"], :].copy(\n",
    "        ).sort_values(\"Value2\", ascending=False).reset_index(drop=True)\n",
    "    \n",
    "    dot_coords = dots.loc[intensity_thr <= dots[\"Value2\"], (\"x\", \"y\")].copy().reset_index(drop=True)\n",
    "    dot_coords2 = dot_coords.copy() / aspect\n",
    "    dot_coords2[\"x\"] += (shifts.loc[current_field_id, \"x\"] * 9)\n",
    "    dot_coords2[\"y\"] += (shifts.loc[current_field_id, \"y\"] * 9)\n",
    "    ref_coords = reference.loc[reference[\"sid\"] == current_field_id, (\"x\", \"y\")].copy().reset_index(drop=True)\n",
    "    \n",
    "    matched: List[Tuple[int, int, float]] = match_dots(dot_coords2, ref_coords)\n",
    "    \n",
    "    matched_a = np.array(matched)\n",
    "    matched_field = pd.DataFrame(dict(\n",
    "        series=current_field_id,\n",
    "        id_20x=matched_a[:, 0].astype(\"i\"),\n",
    "        id_60x=matched_a[:, 1].astype(\"i\"),\n",
    "        eudist=matched_a[:, 2]\n",
    "    ))\n",
    "    matched_field_within_dist = matched_field[matched_field[\"eudist\"] <= max_dist]\n",
    "    match_output.append(matched_field_within_dist)\n",
    "    match_output_full.append(matched_field)\n",
    "    match_counts.append((current_field_id,\n",
    "                         matched_field_within_dist.shape[0],\n",
    "                         matched_field.shape[0]-matched_field_within_dist.shape[0],\n",
    "                         dot_coords2.shape[0],\n",
    "                         ref_coords.shape[0]))"
   ]
  },
  {
   "cell_type": "code",
   "execution_count": 9,
   "metadata": {},
   "outputs": [
    {
     "name": "stdout",
     "output_type": "stream",
     "text": [
      "7035/8734 (80.55%) 20x dots matched to 60x\n",
      "7035/9944 (70.75%) 60x dots matched to 20x\n",
      "1670 (19.12% 20x, 16.79% 60x) dots matched with distance > 9\n"
     ]
    }
   ],
   "source": [
    "match_counts_a = np.array(match_counts)\n",
    "n_total_matched = np.sum(match_counts_a[:, 1])\n",
    "n_total_over_dist = np.sum(match_counts_a[:, 2])\n",
    "n_total_20x = np.sum(match_counts_a[:, 3])\n",
    "n_total_60x = np.sum(match_counts_a[:, 4])\n",
    "print(f\"{n_total_matched}/{n_total_20x} ({n_total_matched/n_total_20x*100:.2f}%) 20x dots matched to 60x\")\n",
    "print(f\"{n_total_matched}/{n_total_60x} ({n_total_matched/n_total_60x*100:.2f}%) 60x dots matched to 20x\")\n",
    "print(f\"{n_total_over_dist} ({n_total_over_dist/n_total_20x*100:.2f}% 20x, {n_total_over_dist/n_total_60x*100:.2f}% 60x) dots matched with distance > {max_dist}\")"
   ]
  },
  {
   "cell_type": "code",
   "execution_count": 10,
   "metadata": {},
   "outputs": [
    {
     "name": "stdout",
     "output_type": "stream",
     "text": [
      "Field #1\n",
      "    1023/1301 (78.63%) 20x dots matched to 60x\n",
      "    1023/1272 (80.42%) 60x dots matched to 20x\n",
      "    249 (19.14% 20x, 19.58% 60x) dots matched with distance > 9\n",
      "    \n",
      "Field #2\n",
      "    1425/1731 (82.32%) 20x dots matched to 60x\n",
      "    1425/1865 (76.41%) 60x dots matched to 20x\n",
      "    306 (17.68% 20x, 16.41% 60x) dots matched with distance > 9\n",
      "    \n",
      "Field #3\n",
      "    774/948 (81.65%) 20x dots matched to 60x\n",
      "    774/1032 (75.00%) 60x dots matched to 20x\n",
      "    174 (18.35% 20x, 16.86% 60x) dots matched with distance > 9\n",
      "    \n",
      "Field #4\n",
      "    1253/1523 (82.27%) 20x dots matched to 60x\n",
      "    1253/1534 (81.68%) 60x dots matched to 20x\n",
      "    270 (17.73% 20x, 17.60% 60x) dots matched with distance > 9\n",
      "    \n",
      "Field #5\n",
      "    1838/2261 (81.29%) 20x dots matched to 60x\n",
      "    1838/2471 (74.38%) 60x dots matched to 20x\n",
      "    423 (18.71% 20x, 17.12% 60x) dots matched with distance > 9\n",
      "    \n",
      "Field #6\n",
      "    516/664 (77.71%) 20x dots matched to 60x\n",
      "    516/869 (59.38%) 60x dots matched to 20x\n",
      "    148 (22.29% 20x, 17.03% 60x) dots matched with distance > 9\n",
      "    \n",
      "Field #7\n",
      "    206/306 (67.32%) 20x dots matched to 60x\n",
      "    206/901 (22.86%) 60x dots matched to 20x\n",
      "    100 (32.68% 20x, 11.10% 60x) dots matched with distance > 9\n",
      "    \n"
     ]
    }
   ],
   "source": [
    "for series_id in range(match_counts_a.shape[0]):\n",
    "    n_matched = match_counts_a[series_id, 1]\n",
    "    n_over_dist = match_counts_a[series_id, 2]\n",
    "    n_20x = match_counts_a[series_id, 3]\n",
    "    n_60x = match_counts_a[series_id, 4]\n",
    "    print(f\"\"\"Field #{series_id+1}\n",
    "    {n_matched}/{n_20x} ({n_matched/n_20x*100:.2f}%) 20x dots matched to 60x\n",
    "    {n_matched}/{n_60x} ({n_matched/n_60x*100:.2f}%) 60x dots matched to 20x\n",
    "    {n_over_dist} ({n_over_dist/n_20x*100:.2f}% 20x, {n_over_dist/n_60x*100:.2f}% 60x) dots matched with distance > {max_dist}\n",
    "    \"\"\")"
   ]
  },
  {
   "cell_type": "markdown",
   "metadata": {},
   "source": [
    "#### General statistics, excluding field #7"
   ]
  },
  {
   "cell_type": "code",
   "execution_count": 11,
   "metadata": {},
   "outputs": [
    {
     "name": "stdout",
     "output_type": "stream",
     "text": [
      "6829/8428 (81.03%) 20x dots matched to 60x\n",
      "6829/9043 (75.52%) 60x dots matched to 20x\n",
      "1570 (18.63% 20x, 17.36% 60x) dots matched with distance > 9\n"
     ]
    }
   ],
   "source": [
    "match_counts_a = np.array(match_counts)\n",
    "n_total_matched = np.sum(match_counts_a[:6, 1])\n",
    "n_total_over_dist = np.sum(match_counts_a[:6, 2])\n",
    "n_total_20x = np.sum(match_counts_a[:6, 3])\n",
    "n_total_60x = np.sum(match_counts_a[:6, 4])\n",
    "print(f\"{n_total_matched}/{n_total_20x} ({n_total_matched/n_total_20x*100:.2f}%) 20x dots matched to 60x\")\n",
    "print(f\"{n_total_matched}/{n_total_60x} ({n_total_matched/n_total_60x*100:.2f}%) 60x dots matched to 20x\")\n",
    "print(f\"{n_total_over_dist} ({n_total_over_dist/n_total_20x*100:.2f}% 20x, {n_total_over_dist/n_total_60x*100:.2f}% 60x) dots matched with distance > {max_dist}\")"
   ]
  },
  {
   "cell_type": "markdown",
   "metadata": {},
   "source": [
    "#### General statistics, excluding fields #6-7"
   ]
  },
  {
   "cell_type": "code",
   "execution_count": 12,
   "metadata": {},
   "outputs": [
    {
     "name": "stdout",
     "output_type": "stream",
     "text": [
      "6313/7764 (81.31%) 20x dots matched to 60x\n",
      "6313/8174 (77.23%) 60x dots matched to 20x\n",
      "1422 (18.32% 20x, 17.40% 60x) dots matched with distance > 9\n"
     ]
    }
   ],
   "source": [
    "match_counts_a = np.array(match_counts)\n",
    "n_total_matched = np.sum(match_counts_a[:5, 1])\n",
    "n_total_over_dist = np.sum(match_counts_a[:5, 2])\n",
    "n_total_20x = np.sum(match_counts_a[:5, 3])\n",
    "n_total_60x = np.sum(match_counts_a[:5, 4])\n",
    "print(f\"{n_total_matched}/{n_total_20x} ({n_total_matched/n_total_20x*100:.2f}%) 20x dots matched to 60x\")\n",
    "print(f\"{n_total_matched}/{n_total_60x} ({n_total_matched/n_total_60x*100:.2f}%) 60x dots matched to 20x\")\n",
    "print(f\"{n_total_over_dist} ({n_total_over_dist/n_total_20x*100:.2f}% 20x, {n_total_over_dist/n_total_60x*100:.2f}% 60x) dots matched with distance > {max_dist}\")"
   ]
  },
  {
   "cell_type": "markdown",
   "metadata": {},
   "source": [
    "### Export"
   ]
  },
  {
   "cell_type": "code",
   "execution_count": 13,
   "metadata": {},
   "outputs": [],
   "source": [
    "matched_dots = pd.concat(match_output)"
   ]
  },
  {
   "cell_type": "code",
   "execution_count": 14,
   "metadata": {},
   "outputs": [],
   "source": [
    "matched_dots.to_csv(os.path.join(\"../../data/magnifications_matching\",\n",
    "                                 f\"{selected_magnification}_{selected_image_type}.matched_dots.field_thr.tsv\"\n",
    "                                ), sep=\"\\t\", index=False)"
   ]
  },
  {
   "cell_type": "code",
   "execution_count": 15,
   "metadata": {},
   "outputs": [],
   "source": [
    "pd.DataFrame(match_counts_a, columns=[\"series_id\", \"matched\", \"matched_over_dist\", \"raw_total\", \"dw_total\"]\n",
    "            ).to_csv(os.path.join(\"../../data/magnifications_matching\",\n",
    "                                  f\"{selected_magnification}_{selected_image_type}.matched_dots.field_thr.counts.tsv\"\n",
    "                                 ), sep=\"\\t\", index=False)"
   ]
  }
 ],
 "metadata": {
  "kernelspec": {
   "display_name": "Python 3",
   "language": "python",
   "name": "python3"
  },
  "language_info": {
   "codemirror_mode": {
    "name": "ipython",
    "version": 3
   },
   "file_extension": ".py",
   "mimetype": "text/x-python",
   "name": "python",
   "nbconvert_exporter": "python",
   "pygments_lexer": "ipython3",
   "version": "3.7.4"
  }
 },
 "nbformat": 4,
 "nbformat_minor": 4
}
