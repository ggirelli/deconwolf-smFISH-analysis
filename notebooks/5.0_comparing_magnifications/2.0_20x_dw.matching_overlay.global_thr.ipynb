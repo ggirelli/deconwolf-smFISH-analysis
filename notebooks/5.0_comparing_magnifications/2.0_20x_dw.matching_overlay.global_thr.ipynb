{
 "cells": [
  {
   "cell_type": "code",
   "execution_count": 1,
   "metadata": {},
   "outputs": [],
   "source": [
    "import numpy as np\n",
    "import pandas as pd\n",
    "import scipy as sp\n",
    "from scipy.spatial.distance import cdist\n",
    "from skimage import measure\n",
    "from matplotlib import pyplot as plt\n",
    "import os\n",
    "import tifffile\n",
    "from tqdm import tqdm\n",
    "from typing import List, Tuple"
   ]
  },
  {
   "cell_type": "code",
   "execution_count": 2,
   "metadata": {},
   "outputs": [],
   "source": [
    "selected_magnification = \"20x\"\n",
    "selected_image_type = \"dw\"\n",
    "dw__thr = 13\n",
    "max_dist = 9\n",
    "aspect = np.array((1/3, 1/3))    # XY: 20x / aspect => 60x"
   ]
  },
  {
   "cell_type": "code",
   "execution_count": 3,
   "metadata": {},
   "outputs": [],
   "source": [
    "dot_image_folder_path = f\"/mnt/data/Imaging/202105-Deconwolf/data_210726/{selected_magnification}_{selected_image_type}\"\n",
    "ref_image_folder_path = \"/mnt/data/Imaging/202105-Deconwolf/data_210726/60x_dw\"\n",
    "dot_mask_folder_path = \"../../data/20x_mask/dilated_labels_watershed_from60x\"\n",
    "ref_mask_folder_path = \"../../data/60x_mask/dilated_labels_watershed\""
   ]
  },
  {
   "cell_type": "markdown",
   "metadata": {},
   "source": [
    "### Read shift data"
   ]
  },
  {
   "cell_type": "code",
   "execution_count": 4,
   "metadata": {},
   "outputs": [],
   "source": [
    "shifts = pd.read_csv(f\"shift_correction/{selected_magnification}_{selected_image_type}.shifts.csv\")\n",
    "shifts.index = shifts[\"sid\"].values\n",
    "shifts.drop(\"sid\", 1, inplace=True)"
   ]
  },
  {
   "cell_type": "markdown",
   "metadata": {},
   "source": [
    "# Matching 20x_raw and reference dots"
   ]
  },
  {
   "cell_type": "code",
   "execution_count": 5,
   "metadata": {},
   "outputs": [],
   "source": [
    "dots_data = pd.read_csv(\"/mnt/data/Imaging/202105-Deconwolf/data_210726/dots_data.clean.tsv.gz\", sep=\"\\t\")\n",
    "dots_data = dots_data[selected_magnification == dots_data[\"magnification\"]]\n",
    "dots_data = dots_data[selected_image_type == dots_data[\"image_type\"]]"
   ]
  },
  {
   "cell_type": "code",
   "execution_count": 6,
   "metadata": {},
   "outputs": [],
   "source": [
    "matched_dots = pd.read_csv(\n",
    "    os.path.join(\"../../data/magnifications_matching\",\n",
    "                 f\"{selected_magnification}_{selected_image_type}.matched_dots.global_thr.tsv\"\n",
    "                ), sep=\"\\t\")"
   ]
  },
  {
   "cell_type": "code",
   "execution_count": 7,
   "metadata": {},
   "outputs": [],
   "source": [
    "reference = pd.read_csv(\"../../data/60x_reference/ref__dw.global_thr.tsv\", sep=\"\\t\")"
   ]
  },
  {
   "cell_type": "code",
   "execution_count": 8,
   "metadata": {},
   "outputs": [
    {
     "name": "stderr",
     "output_type": "stream",
     "text": [
      "  0%|          | 0/7 [00:00<?, ?it/s]"
     ]
    },
    {
     "name": "stdout",
     "output_type": "stream",
     "text": [
      " > Plotting dot\n",
      " > Plotting ref\n",
      " > Plotting contours [20x]\n",
      " > Plotting contours [60x]\n",
      " > Plotting overlapped points between raw and dw\n",
      " > Exporting\n"
     ]
    },
    {
     "name": "stderr",
     "output_type": "stream",
     "text": [
      " 14%|█▍        | 1/7 [00:16<01:37, 16.20s/it]"
     ]
    },
    {
     "name": "stdout",
     "output_type": "stream",
     "text": [
      " ! DONE\n",
      " > Plotting dot\n",
      " > Plotting ref\n",
      " > Plotting contours [20x]\n",
      " > Plotting contours [60x]\n",
      " > Plotting overlapped points between raw and dw\n",
      " > Exporting\n"
     ]
    },
    {
     "name": "stderr",
     "output_type": "stream",
     "text": [
      " 29%|██▊       | 2/7 [00:35<01:26, 17.23s/it]"
     ]
    },
    {
     "name": "stdout",
     "output_type": "stream",
     "text": [
      " ! DONE\n",
      " > Plotting dot\n",
      " > Plotting ref\n",
      " > Plotting contours [20x]\n",
      " > Plotting contours [60x]\n",
      " > Plotting overlapped points between raw and dw\n",
      " > Exporting\n"
     ]
    },
    {
     "name": "stderr",
     "output_type": "stream",
     "text": [
      " 43%|████▎     | 3/7 [00:50<01:06, 16.59s/it]"
     ]
    },
    {
     "name": "stdout",
     "output_type": "stream",
     "text": [
      " ! DONE\n",
      " > Plotting dot\n",
      " > Plotting ref\n",
      " > Plotting contours [20x]\n",
      " > Plotting contours [60x]\n",
      " > Plotting overlapped points between raw and dw\n",
      " > Exporting\n"
     ]
    },
    {
     "name": "stderr",
     "output_type": "stream",
     "text": [
      " 57%|█████▋    | 4/7 [01:08<00:50, 16.95s/it]"
     ]
    },
    {
     "name": "stdout",
     "output_type": "stream",
     "text": [
      " ! DONE\n",
      " > Plotting dot\n",
      " > Plotting ref\n",
      " > Plotting contours [20x]\n",
      " > Plotting contours [60x]\n",
      " > Plotting overlapped points between raw and dw\n",
      " > Exporting\n"
     ]
    },
    {
     "name": "stderr",
     "output_type": "stream",
     "text": [
      " 71%|███████▏  | 5/7 [01:37<00:41, 20.62s/it]"
     ]
    },
    {
     "name": "stdout",
     "output_type": "stream",
     "text": [
      " ! DONE\n",
      " > Plotting dot\n",
      " > Plotting ref\n",
      " > Plotting contours [20x]\n",
      " > Plotting contours [60x]\n",
      " > Plotting overlapped points between raw and dw\n",
      " > Exporting\n"
     ]
    },
    {
     "name": "stderr",
     "output_type": "stream",
     "text": [
      " 86%|████████▌ | 6/7 [01:56<00:20, 20.02s/it]"
     ]
    },
    {
     "name": "stdout",
     "output_type": "stream",
     "text": [
      " ! DONE\n",
      " > Plotting dot\n",
      " > Plotting ref\n",
      " > Plotting contours [20x]\n",
      " > Plotting contours [60x]\n",
      " > Plotting overlapped points between raw and dw\n",
      " > Exporting\n"
     ]
    },
    {
     "name": "stderr",
     "output_type": "stream",
     "text": [
      "100%|██████████| 7/7 [02:17<00:00, 19.65s/it]"
     ]
    },
    {
     "name": "stdout",
     "output_type": "stream",
     "text": [
      " ! DONE\n"
     ]
    },
    {
     "name": "stderr",
     "output_type": "stream",
     "text": [
      "\n"
     ]
    }
   ],
   "source": [
    "for current_field_id in tqdm(np.unique(dots_data[\"sid\"])):\n",
    "    dot_max_z_proj = tifffile.imread(os.path.join(dot_image_folder_path, f\"a647_{current_field_id:03d}.tif\")).max(0)\n",
    "    ref_max_z_proj = tifffile.imread(os.path.join(ref_image_folder_path, f\"a647_{current_field_id:03d}.tif\")).max(0)\n",
    "    \n",
    "    dot_labels = tifffile.imread(os.path.join(dot_mask_folder_path, f\"a647_{current_field_id:03d}.dilated_labels.from_60x.tiff\")\n",
    "                                ).reshape(dot_max_z_proj.shape)\n",
    "    ref_labels = tifffile.imread(os.path.join(ref_mask_folder_path, f\"a647_{current_field_id:03d}.dilated_labels.tiff\")\n",
    "                                ).reshape(ref_max_z_proj.shape)\n",
    "    \n",
    "    dots = dots_data.loc[current_field_id == dots_data[\"sid\"], :].copy(\n",
    "        ).sort_values(\"Value2\", ascending=False).reset_index(drop=True)\n",
    "    \n",
    "    dot_coords = dots.loc[dw__thr <= dots[\"Value2\"], (\"x\", \"y\")].copy().reset_index(drop=True)\n",
    "    dot_coords2 = dot_coords.copy() / aspect\n",
    "    dot_coords2[\"x\"] += (shifts.loc[current_field_id, \"x\"] * 9)\n",
    "    dot_coords2[\"y\"] += (shifts.loc[current_field_id, \"y\"] * 9)\n",
    "    ref_coords = reference.loc[reference[\"sid\"] == current_field_id, (\"x\", \"y\")].copy().reset_index(drop=True)\n",
    "    \n",
    "    matched_20x_dots = matched_dots.loc[matched_dots[\"series\"] == current_field_id, \"id_20x\"].values\n",
    "    matched_60x_dots = matched_dots.loc[matched_dots[\"series\"] == current_field_id, \"id_60x\"].values\n",
    "    max_match_dist = matched_dots.loc[matched_dots[\"series\"] == current_field_id, \"eudist\"].max()\n",
    "\n",
    "    selected_20x_dots = dot_coords.loc[matched_20x_dots, :]\n",
    "    selected_20x_dots2 = dot_coords2.loc[matched_20x_dots, :]\n",
    "    selected_60x_dots = ref_coords.loc[matched_60x_dots, :]\n",
    "\n",
    "    fig3, ax = plt.subplots(figsize=(30, 10), ncols=3, constrained_layout=True)\n",
    "    fig3.suptitle(f\"Field #{current_field_id} (n.matched_dots={matched_20x_dots.shape[0]}; max.dist={max_match_dist:.03f})\")\n",
    "    print(\" > Plotting dot\")\n",
    "    ax[0].set_title(f\"{selected_magnification}_{selected_image_type} (n.total={dot_coords2.shape[0]}, only matched are plotted)\")\n",
    "    ax[0].imshow(\n",
    "        dot_max_z_proj, cmap=plt.get_cmap(\"gray\"), interpolation=\"none\",\n",
    "        vmin=dot_max_z_proj.min(), vmax=dot_max_z_proj.max(),\n",
    "        resample=False, filternorm=False)\n",
    "    ax[0].scatter(\n",
    "        x=selected_20x_dots[\"y\"].values,\n",
    "        y=selected_20x_dots[\"x\"].values,\n",
    "        s=30, facecolors='none', edgecolors='r', linewidth=.5)\n",
    "    print(\" > Plotting ref\")\n",
    "    ax[1].set_title(f\"60x_dw (n.total={ref_coords.shape[0]}, only matched are plotted)\")\n",
    "    ax[1].imshow(\n",
    "        ref_max_z_proj, cmap=plt.get_cmap(\"gray\"), interpolation=\"none\",\n",
    "        vmin=ref_max_z_proj.min()*1.5, vmax=ref_max_z_proj.max()*.5,\n",
    "        resample=False, filternorm=False)\n",
    "    ax[1].scatter(\n",
    "        x=selected_60x_dots[\"y\"].values,\n",
    "        y=selected_60x_dots[\"x\"].values,\n",
    "        s=30, facecolors='none', edgecolors='r', linewidth=.5)\n",
    "    print(\" > Plotting contours [20x]\")\n",
    "    for lid in range(1, dot_labels.max()):\n",
    "        contours = measure.find_contours(dot_labels == lid, 0.8)\n",
    "        for contour in contours:\n",
    "            ax[0].scatter(x=contour[:,1], y=contour[:,0], c=\"yellow\", s=.005)\n",
    "    print(\" > Plotting contours [60x]\")\n",
    "    for lid in range(1, ref_labels.max()):\n",
    "        contours = measure.find_contours(ref_labels == lid, 0.8)\n",
    "        for contour in contours:\n",
    "            ax[1].scatter(x=contour[:,1], y=contour[:,0], c=\"yellow\", s=.005)\n",
    "    print(\" > Plotting overlapped points between raw and dw\")\n",
    "    ax[2].set_title(f\"Red: {selected_magnification}_{selected_image_type}. Blue: 60x_dw.\")\n",
    "    ax[2].plot(\n",
    "        selected_20x_dots2[\"y\"].values,\n",
    "        selected_20x_dots2[\"x\"].values,\n",
    "        'r.', marker=\".\", markersize=2)\n",
    "    ax[2].plot(\n",
    "        selected_60x_dots[\"y\"].values,\n",
    "        selected_60x_dots[\"x\"].values,\n",
    "        'b.', marker=\".\", markersize=.8)\n",
    "    plt.close(fig3)\n",
    "    print(\" > Exporting\")\n",
    "    fig3.savefig(os.path.join(\"../../data/magnifications_matching\",\n",
    "                              f\"{selected_magnification}_{selected_image_type}.overlays.global_thr.matched\",\n",
    "                              f\"overlay_{current_field_id:03d}.png\"), bbox_inches='tight')\n",
    "    print(\" ! DONE\")"
   ]
  }
 ],
 "metadata": {
  "kernelspec": {
   "display_name": "Python 3",
   "language": "python",
   "name": "python3"
  },
  "language_info": {
   "codemirror_mode": {
    "name": "ipython",
    "version": 3
   },
   "file_extension": ".py",
   "mimetype": "text/x-python",
   "name": "python",
   "nbconvert_exporter": "python",
   "pygments_lexer": "ipython3",
   "version": "3.7.4"
  }
 },
 "nbformat": 4,
 "nbformat_minor": 4
}
