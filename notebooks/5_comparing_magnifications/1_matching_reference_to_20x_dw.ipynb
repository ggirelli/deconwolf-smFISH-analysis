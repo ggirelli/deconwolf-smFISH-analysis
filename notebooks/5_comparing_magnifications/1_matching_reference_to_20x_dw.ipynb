{
 "cells": [
  {
   "cell_type": "code",
   "execution_count": 1,
   "metadata": {},
   "outputs": [],
   "source": [
    "import numpy as np\n",
    "import pandas as pd\n",
    "import scipy as sp\n",
    "from scipy.spatial.distance import cdist\n",
    "from skimage import measure\n",
    "from matplotlib import pyplot as plt\n",
    "import os\n",
    "import tifffile\n",
    "from tqdm import tqdm\n",
    "from typing import List, Tuple"
   ]
  },
  {
   "cell_type": "code",
   "execution_count": 2,
   "metadata": {},
   "outputs": [],
   "source": [
    "selected_magnification = \"20x\"\n",
    "selected_image_type = \"dw\"\n",
    "dw__thr = 13\n",
    "aspect = np.array((1/3, 1/3))    # XY: 20x / aspect => 60x"
   ]
  },
  {
   "cell_type": "code",
   "execution_count": 3,
   "metadata": {},
   "outputs": [],
   "source": [
    "dot_image_folder_path = f\"/mnt/data/Imaging/202105-Deconwolf/data_210726/{selected_magnification}_{selected_image_type}\"\n",
    "ref_image_folder_path = \"/mnt/data/Imaging/202105-Deconwolf/data_210726/60x_dw\"\n",
    "dot_mask_folder_path = \"../../data/20x_mask/dilated_labels_watershed_from60x\"\n",
    "ref_mask_folder_path = \"../../data/60x_mask/dilated_labels_watershed\""
   ]
  },
  {
   "cell_type": "markdown",
   "metadata": {},
   "source": [
    "### Read shift data"
   ]
  },
  {
   "cell_type": "code",
   "execution_count": 4,
   "metadata": {},
   "outputs": [],
   "source": [
    "shifts = pd.read_csv(f\"shift_correction/{selected_magnification}_{selected_image_type}.shifts.csv\")\n",
    "shifts.index = shifts[\"sid\"].values\n",
    "shifts.drop(\"sid\", 1, inplace=True)"
   ]
  },
  {
   "cell_type": "markdown",
   "metadata": {},
   "source": [
    "# Matching 20x_dw and reference dots"
   ]
  },
  {
   "cell_type": "code",
   "execution_count": 5,
   "metadata": {},
   "outputs": [],
   "source": [
    "dots_data = pd.read_csv(\"/mnt/data/Imaging/202105-Deconwolf/data_210726/dots_data.clean.tsv.gz\", sep=\"\\t\")\n",
    "dots_data = dots_data[selected_magnification == dots_data[\"magnification\"]]\n",
    "dots_data = dots_data[selected_image_type == dots_data[\"image_type\"]]"
   ]
  },
  {
   "cell_type": "code",
   "execution_count": 6,
   "metadata": {},
   "outputs": [],
   "source": [
    "reference = pd.read_csv(\"../../data/60x_reference/ref__dw.tsv\", sep=\"\\t\")"
   ]
  },
  {
   "cell_type": "code",
   "execution_count": 7,
   "metadata": {},
   "outputs": [
    {
     "name": "stderr",
     "output_type": "stream",
     "text": [
      "  0%|          | 0/7 [00:00<?, ?it/s]"
     ]
    },
    {
     "name": "stdout",
     "output_type": "stream",
     "text": [
      " > Plotting dot\n",
      " > Plotting ref\n",
      " > Plotting contours [ref]\n",
      " > Plotting contours [dot]\n",
      " > Plotting overlapped points between raw and dw\n",
      " > Exporting\n"
     ]
    },
    {
     "name": "stderr",
     "output_type": "stream",
     "text": [
      " 14%|█▍        | 1/7 [00:16<01:38, 16.41s/it]"
     ]
    },
    {
     "name": "stdout",
     "output_type": "stream",
     "text": [
      " ! DONE\n",
      " > Plotting dot\n",
      " > Plotting ref\n",
      " > Plotting contours [ref]\n",
      " > Plotting contours [dot]\n",
      " > Plotting overlapped points between raw and dw\n",
      " > Exporting\n"
     ]
    },
    {
     "name": "stderr",
     "output_type": "stream",
     "text": [
      " 29%|██▊       | 2/7 [00:36<01:27, 17.48s/it]"
     ]
    },
    {
     "name": "stdout",
     "output_type": "stream",
     "text": [
      " ! DONE\n",
      " > Plotting dot\n",
      " > Plotting ref\n",
      " > Plotting contours [ref]\n",
      " > Plotting contours [dot]\n",
      " > Plotting overlapped points between raw and dw\n",
      " > Exporting\n"
     ]
    },
    {
     "name": "stderr",
     "output_type": "stream",
     "text": [
      " 43%|████▎     | 3/7 [00:50<01:05, 16.49s/it]"
     ]
    },
    {
     "name": "stdout",
     "output_type": "stream",
     "text": [
      " ! DONE\n",
      " > Plotting dot\n",
      " > Plotting ref\n",
      " > Plotting contours [ref]\n",
      " > Plotting contours [dot]\n",
      " > Plotting overlapped points between raw and dw\n",
      " > Exporting\n"
     ]
    },
    {
     "name": "stderr",
     "output_type": "stream",
     "text": [
      " 57%|█████▋    | 4/7 [01:06<00:48, 16.19s/it]"
     ]
    },
    {
     "name": "stdout",
     "output_type": "stream",
     "text": [
      " ! DONE\n",
      " > Plotting dot\n",
      " > Plotting ref\n",
      " > Plotting contours [ref]\n",
      " > Plotting contours [dot]\n",
      " > Plotting overlapped points between raw and dw\n",
      " > Exporting\n"
     ]
    },
    {
     "name": "stderr",
     "output_type": "stream",
     "text": [
      " 71%|███████▏  | 5/7 [01:33<00:38, 19.49s/it]"
     ]
    },
    {
     "name": "stdout",
     "output_type": "stream",
     "text": [
      " ! DONE\n",
      " > Plotting dot\n",
      " > Plotting ref\n",
      " > Plotting contours [ref]\n",
      " > Plotting contours [dot]\n",
      " > Plotting overlapped points between raw and dw\n",
      " > Exporting\n"
     ]
    },
    {
     "name": "stderr",
     "output_type": "stream",
     "text": [
      " 86%|████████▌ | 6/7 [01:51<00:19, 19.24s/it]"
     ]
    },
    {
     "name": "stdout",
     "output_type": "stream",
     "text": [
      " ! DONE\n",
      " > Plotting dot\n",
      " > Plotting ref\n",
      " > Plotting contours [ref]\n",
      " > Plotting contours [dot]\n",
      " > Plotting overlapped points between raw and dw\n",
      " > Exporting\n"
     ]
    },
    {
     "name": "stderr",
     "output_type": "stream",
     "text": [
      "100%|██████████| 7/7 [02:12<00:00, 18.91s/it]"
     ]
    },
    {
     "name": "stdout",
     "output_type": "stream",
     "text": [
      " ! DONE\n"
     ]
    },
    {
     "name": "stderr",
     "output_type": "stream",
     "text": [
      "\n"
     ]
    }
   ],
   "source": [
    "match_output: List[np.ndarray] = []\n",
    "match_counts: List[Tuple[int, int, int, int]] = []\n",
    "for current_field_id in tqdm(np.unique(dots_data[\"sid\"])):\n",
    "    dot_max_z_proj = tifffile.imread(os.path.join(dot_image_folder_path, f\"a647_{current_field_id:03d}.tif\")).max(0)\n",
    "    ref_max_z_proj = tifffile.imread(os.path.join(ref_image_folder_path, f\"a647_{current_field_id:03d}.tif\")).max(0)\n",
    "    \n",
    "    dot_labels = tifffile.imread(os.path.join(dot_mask_folder_path, f\"a647_{current_field_id:03d}.dilated_labels.from_60x.tiff\")).reshape(dot_max_z_proj.shape)\n",
    "    ref_labels = tifffile.imread(os.path.join(ref_mask_folder_path, f\"a647_{current_field_id:03d}.dilated_labels.tiff\")).reshape(ref_max_z_proj.shape)\n",
    "    \n",
    "    dots = dots_data.loc[current_field_id == dots_data[\"sid\"], :].copy(\n",
    "        ).sort_values(\"Value2\", ascending=False).reset_index(drop=True)\n",
    "    \n",
    "    dot_coords = dots.loc[dw__thr <= dots[\"Value2\"], (\"x\", \"y\")].copy().reset_index(drop=True)\n",
    "    dot_coords2 = dot_coords.copy()/ aspect\n",
    "    dot_coords2[\"x\"] += (shifts.loc[current_field_id, \"x\"] * 9)\n",
    "    dot_coords2[\"y\"] += (shifts.loc[current_field_id, \"y\"] * 9)\n",
    "    ref_coords = reference.loc[reference[\"sid\"] == current_field_id, (\"x\", \"y\")].copy().reset_index(drop=True)\n",
    "    pdist = cdist(dot_coords2, ref_coords)\n",
    "    \n",
    "    matched: List[Tuple[int, int, float]] = []\n",
    "    dot_id = 0\n",
    "    while dot_id < pdist.shape[0]:\n",
    "        ref_id = np.nanargmin(pdist[dot_id, :])\n",
    "        if np.nanargmin(pdist[:, ref_id]) == dot_id:\n",
    "            matched.append((dot_id, ref_id, pdist[dot_id, ref_id]))\n",
    "            pdist[dot_id, :] = np.nan\n",
    "            pdist[:, ref_id] = np.nan\n",
    "        dot_id += 1\n",
    "\n",
    "    matched_a = np.array(matched)\n",
    "    match_output.append(pd.DataFrame(dict(\n",
    "        series=current_field_id,\n",
    "        dot_id=matched_a[:, 0].astype(\"i\"),\n",
    "        ref_id=matched_a[:, 1].astype(\"i\"),\n",
    "        eudist=matched_a[:, 2]\n",
    "    )))\n",
    "    match_counts.append((current_field_id, matched_a.shape[0], dot_coords.shape[0], ref_coords.shape[0]))\n",
    "    \n",
    "    fig3, ax = plt.subplots(figsize=(30, 10), ncols=3, constrained_layout=True)\n",
    "    fig3.suptitle(f\"Field #{current_field_id}\")\n",
    "    print(\" > Plotting dot\")\n",
    "    ax[0].set_title(f\"{selected_magnification}_{selected_image_type}\")\n",
    "    ax[0].imshow(\n",
    "        dot_max_z_proj, cmap=plt.get_cmap(\"gray\"), interpolation=\"none\",\n",
    "        vmin=dot_max_z_proj.min(), vmax=dot_max_z_proj.max(),\n",
    "        resample=False, filternorm=False)\n",
    "    ax[0].scatter(\n",
    "        x=dot_coords[\"y\"].values,\n",
    "        y=dot_coords[\"x\"].values,\n",
    "        s=30, facecolors='none', edgecolors='r', linewidth=.5)\n",
    "    print(\" > Plotting ref\")\n",
    "    ax[1].set_title(\"60x_dw\")\n",
    "    ax[1].imshow(\n",
    "        ref_max_z_proj, cmap=plt.get_cmap(\"gray\"), interpolation=\"none\",\n",
    "        vmin=ref_max_z_proj.min()*1.5, vmax=ref_max_z_proj.max()*.5,\n",
    "        resample=False, filternorm=False)\n",
    "    ax[1].scatter(\n",
    "        x=ref_coords[\"y\"].values,\n",
    "        y=ref_coords[\"x\"].values,\n",
    "        s=30, facecolors='none', edgecolors='r', linewidth=.5)\n",
    "    print(\" > Plotting contours [ref]\")\n",
    "    for lid in range(1, dot_labels.max()):\n",
    "        contours = measure.find_contours(dot_labels == lid, 0.8)\n",
    "        for contour in contours:\n",
    "            ax[0].scatter(x=contour[:,1], y=contour[:,0], c=\"yellow\", s=.005)\n",
    "    print(\" > Plotting contours [dot]\")\n",
    "    for lid in range(1, ref_labels.max()):\n",
    "        contours = measure.find_contours(ref_labels == lid, 0.8)\n",
    "        for contour in contours:\n",
    "            ax[1].scatter(x=contour[:,1], y=contour[:,0], c=\"yellow\", s=.005)\n",
    "    print(\" > Plotting overlapped points between raw and dw\")\n",
    "    ax[2].set_title(f\"Red: {selected_magnification}_{selected_image_type}. Blue: 60x_dw.\")\n",
    "    ax[2].plot(\n",
    "        dot_coords[\"y\"].values,\n",
    "        dot_coords[\"x\"].values,\n",
    "        'r.', marker=\".\", markersize=2)\n",
    "    ax[2].plot(\n",
    "        ref_coords[\"y\"].values,\n",
    "        ref_coords[\"x\"].values,\n",
    "        'b.', marker=\".\", markersize=.8)\n",
    "    plt.close(fig3)\n",
    "    print(\" > Exporting\")\n",
    "    fig3.savefig(os.path.join(\"../../data/magnifications_matching\",\n",
    "                              f\"{selected_magnification}_{selected_image_type}_overlays_tentative_thr\",\n",
    "                              f\"overlay_{current_field_id:03d}.png\"), bbox_inches='tight')\n",
    "    print(\" ! DONE\")"
   ]
  },
  {
   "cell_type": "code",
   "execution_count": 8,
   "metadata": {},
   "outputs": [
    {
     "name": "stdout",
     "output_type": "stream",
     "text": [
      "80.62% 20x dots matched to 60x\n",
      "70.06% 60x dots matched to 20x\n"
     ]
    }
   ],
   "source": [
    "match_counts_a = np.array(match_counts)\n",
    "p_raw = match_counts_a.sum(0)[1]/match_counts_a.sum(0)[2]*100\n",
    "p__dw = match_counts_a.sum(0)[1]/match_counts_a.sum(0)[3]*100\n",
    "print(f\"{p_raw:.2f}% 20x dots matched to 60x\")\n",
    "print(f\"{p__dw:.2f}% 60x dots matched to 20x\")"
   ]
  },
  {
   "cell_type": "code",
   "execution_count": 9,
   "metadata": {},
   "outputs": [
    {
     "name": "stdout",
     "output_type": "stream",
     "text": [
      "[Field #1] 78.51% 20x dots matched to 60x\n",
      "[Field #1] 73.91% 60x dots matched to 20x\n",
      "---\n",
      "[Field #2] 81.19% 20x dots matched to 60x\n",
      "[Field #2] 74.11% 60x dots matched to 20x\n",
      "---\n",
      "[Field #3] 80.89% 20x dots matched to 60x\n",
      "[Field #3] 70.40% 60x dots matched to 20x\n",
      "---\n",
      "[Field #4] 83.72% 20x dots matched to 60x\n",
      "[Field #4] 76.18% 60x dots matched to 20x\n",
      "---\n",
      "[Field #5] 81.78% 20x dots matched to 60x\n",
      "[Field #5] 70.33% 60x dots matched to 20x\n",
      "---\n",
      "[Field #6] 76.48% 20x dots matched to 60x\n",
      "[Field #6] 63.68% 60x dots matched to 20x\n",
      "---\n",
      "[Field #7] 69.38% 20x dots matched to 60x\n",
      "[Field #7] 34.62% 60x dots matched to 20x\n",
      "---\n"
     ]
    }
   ],
   "source": [
    "for i in range(match_counts_a.shape[0]):\n",
    "    p_raw = match_counts_a[i, 1]/match_counts_a[i, 2]*100\n",
    "    p__dw = match_counts_a[i, 1]/match_counts_a[i, 3]*100\n",
    "    print(f\"[Field #{i+1}] {p_raw:.2f}% 20x dots matched to 60x\")\n",
    "    print(f\"[Field #{i+1}] {p__dw:.2f}% 60x dots matched to 20x\")\n",
    "    print(\"---\")"
   ]
  }
 ],
 "metadata": {
  "kernelspec": {
   "display_name": "Python 3",
   "language": "python",
   "name": "python3"
  },
  "language_info": {
   "codemirror_mode": {
    "name": "ipython",
    "version": 3
   },
   "file_extension": ".py",
   "mimetype": "text/x-python",
   "name": "python",
   "nbconvert_exporter": "python",
   "pygments_lexer": "ipython3",
   "version": "3.7.4"
  }
 },
 "nbformat": 4,
 "nbformat_minor": 4
}
