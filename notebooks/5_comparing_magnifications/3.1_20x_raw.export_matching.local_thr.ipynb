{
 "cells": [
  {
   "cell_type": "code",
   "execution_count": 1,
   "metadata": {},
   "outputs": [],
   "source": [
    "import numpy as np\n",
    "import pandas as pd\n",
    "import scipy as sp\n",
    "from scipy.spatial.distance import cdist\n",
    "from skimage import measure\n",
    "from matplotlib import pyplot as plt\n",
    "import os\n",
    "import tifffile\n",
    "from tqdm import tqdm\n",
    "from typing import List, Tuple"
   ]
  },
  {
   "cell_type": "code",
   "execution_count": 2,
   "metadata": {},
   "outputs": [],
   "source": [
    "selected_magnification = \"20x\"\n",
    "selected_image_type = \"raw\"\n",
    "max_dist = 9\n",
    "aspect = np.array((1/3, 1/3))    # XY: 20x / aspect => 60x"
   ]
  },
  {
   "cell_type": "code",
   "execution_count": 3,
   "metadata": {},
   "outputs": [],
   "source": [
    "dot_image_folder_path = f\"/mnt/data/Imaging/202105-Deconwolf/data_210726/{selected_magnification}_{selected_image_type}\"\n",
    "ref_image_folder_path = \"/mnt/data/Imaging/202105-Deconwolf/data_210726/60x_dw\"\n",
    "dot_mask_folder_path = \"../../data/20x_mask/dilated_labels_watershed_from60x\"\n",
    "ref_mask_folder_path = \"../../data/60x_mask/dilated_labels_watershed\""
   ]
  },
  {
   "cell_type": "markdown",
   "metadata": {},
   "source": [
    "### Read shift data"
   ]
  },
  {
   "cell_type": "code",
   "execution_count": 4,
   "metadata": {},
   "outputs": [],
   "source": [
    "shifts = pd.read_csv(f\"shift_correction/{selected_magnification}_{selected_image_type}.shifts.csv\")\n",
    "shifts.index = shifts[\"sid\"].values\n",
    "shifts.drop(\"sid\", 1, inplace=True)"
   ]
  },
  {
   "cell_type": "markdown",
   "metadata": {},
   "source": [
    "# Matching 20x_raw and reference dots"
   ]
  },
  {
   "cell_type": "code",
   "execution_count": 5,
   "metadata": {},
   "outputs": [],
   "source": [
    "dots_data = pd.read_csv(\"/mnt/data/Imaging/202105-Deconwolf/data_210726/dots_data.clean.tsv.gz\", sep=\"\\t\")\n",
    "dots_data = dots_data[selected_magnification == dots_data[\"magnification\"]]\n",
    "dots_data = dots_data[selected_image_type == dots_data[\"image_type\"]]"
   ]
  },
  {
   "cell_type": "code",
   "execution_count": 6,
   "metadata": {},
   "outputs": [],
   "source": [
    "thresholds_table = pd.read_csv(\"../../data/magnifications_matching/intensity_thresholds.by_field.tsv\", sep=\"\\t\")"
   ]
  },
  {
   "cell_type": "code",
   "execution_count": 7,
   "metadata": {},
   "outputs": [],
   "source": [
    "matched_dots = pd.read_csv(\n",
    "    os.path.join(\"../../data/magnifications_matching\",\n",
    "                 f\"{selected_magnification}_{selected_image_type}.matched_dots.field_thr.tsv\"\n",
    "                ), sep=\"\\t\")"
   ]
  },
  {
   "cell_type": "code",
   "execution_count": 8,
   "metadata": {},
   "outputs": [],
   "source": [
    "reference = pd.read_csv(\"../../data/60x_reference/ref__dw.field_thr.tsv\", sep=\"\\t\")"
   ]
  },
  {
   "cell_type": "code",
   "execution_count": 9,
   "metadata": {},
   "outputs": [
    {
     "name": "stderr",
     "output_type": "stream",
     "text": [
      "100%|██████████| 7/7 [00:04<00:00,  1.67it/s]\n"
     ]
    }
   ],
   "source": [
    "selected_20x_dots: List[pd.DataFrame] = []\n",
    "selected_20x_dots_shifted: List[pd.DataFrame] = []\n",
    "for current_field_id in tqdm(np.unique(dots_data[\"sid\"])):\n",
    "    thresholds = thresholds_table.loc[current_field_id == thresholds_table[\"sid\"], :]\n",
    "    intensity_thr = thresholds.loc[selected_image_type == thresholds[\"image_type\"], \"thr\"].values[0]\n",
    "    \n",
    "    dot_max_z_proj = tifffile.imread(os.path.join(dot_image_folder_path, f\"a647_{current_field_id:03d}.tif\")).max(0)\n",
    "    ref_max_z_proj = tifffile.imread(os.path.join(ref_image_folder_path, f\"a647_{current_field_id:03d}.tif\")).max(0)\n",
    "    \n",
    "    dot_labels = tifffile.imread(os.path.join(dot_mask_folder_path, f\"a647_{current_field_id:03d}.dilated_labels.from_60x.tiff\")\n",
    "                                ).reshape(dot_max_z_proj.shape)\n",
    "    ref_labels = tifffile.imread(os.path.join(ref_mask_folder_path, f\"a647_{current_field_id:03d}.dilated_labels.tiff\")\n",
    "                                ).reshape(ref_max_z_proj.shape)\n",
    "    \n",
    "    dots = dots_data.loc[current_field_id == dots_data[\"sid\"], :].copy(\n",
    "        ).sort_values(\"Value2\", ascending=False).reset_index(drop=True)\n",
    "    \n",
    "    dot_coords = dots.loc[intensity_thr <= dots[\"Value2\"], (\"x\", \"y\")].copy().reset_index(drop=True)\n",
    "    dot_coords2 = dot_coords.copy() / aspect\n",
    "    dot_coords2[\"x\"] += (shifts.loc[current_field_id, \"x\"] * 9)\n",
    "    dot_coords2[\"y\"] += (shifts.loc[current_field_id, \"y\"] * 9)\n",
    "    ref_coords = reference.loc[reference[\"sid\"] == current_field_id, (\"x\", \"y\")].copy().reset_index(drop=True)\n",
    "    \n",
    "    matched_20x_dots = matched_dots.loc[matched_dots[\"series\"] == current_field_id, \"id_20x\"].values\n",
    "    matched_60x_dots = matched_dots.loc[matched_dots[\"series\"] == current_field_id, \"id_60x\"].values\n",
    "    max_match_dist = matched_dots.loc[matched_dots[\"series\"] == current_field_id, \"eudist\"].max()\n",
    "\n",
    "    selected_20x_dots.append(dot_coords.loc[matched_20x_dots, :])\n",
    "    selected_20x_dots_shifted.append(dot_coords2.loc[matched_20x_dots, :])"
   ]
  },
  {
   "cell_type": "code",
   "execution_count": 10,
   "metadata": {},
   "outputs": [],
   "source": [
    "pd.concat(selected_20x_dots).reset_index(\n",
    "    drop=True).to_csv(os.path.join(\"../../data/magnifications_matching\",\n",
    "                                   f\"{selected_magnification}_{selected_image_type}.field_thr.tsv\"),\n",
    "                      sep=\"\\t\", index=False)"
   ]
  },
  {
   "cell_type": "code",
   "execution_count": 11,
   "metadata": {},
   "outputs": [],
   "source": [
    "pd.concat(selected_20x_dots_shifted).reset_index(\n",
    "    drop=True).to_csv(os.path.join(\"../../data/magnifications_matching\",\n",
    "                                   f\"{selected_magnification}_{selected_image_type}.field_thr.shifted.tsv\"),\n",
    "                      sep=\"\\t\", index=False)"
   ]
  }
 ],
 "metadata": {
  "kernelspec": {
   "display_name": "Python 3",
   "language": "python",
   "name": "python3"
  },
  "language_info": {
   "codemirror_mode": {
    "name": "ipython",
    "version": 3
   },
   "file_extension": ".py",
   "mimetype": "text/x-python",
   "name": "python",
   "nbconvert_exporter": "python",
   "pygments_lexer": "ipython3",
   "version": "3.7.4"
  }
 },
 "nbformat": 4,
 "nbformat_minor": 4
}
