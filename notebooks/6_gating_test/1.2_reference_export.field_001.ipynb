{
 "cells": [
  {
   "cell_type": "code",
   "execution_count": 1,
   "metadata": {},
   "outputs": [],
   "source": [
    "import pandas as pd\n",
    "import numpy as np\n",
    "from matplotlib import pyplot as plt\n",
    "import skimage as sk\n",
    "from skimage import measure\n",
    "import os\n",
    "import tifffile\n",
    "from tqdm import tqdm\n",
    "from typing import List"
   ]
  },
  {
   "cell_type": "code",
   "execution_count": 2,
   "metadata": {},
   "outputs": [],
   "source": [
    "dots_data = pd.read_csv(\"field_001.gated_dots.tsv\", sep=\"\\t\")"
   ]
  },
  {
   "cell_type": "code",
   "execution_count": 3,
   "metadata": {},
   "outputs": [],
   "source": [
    "dots_data2 = dots_data.loc[\"60x\" == dots_data[\"magnification\"], :]"
   ]
  },
  {
   "cell_type": "code",
   "execution_count": 4,
   "metadata": {},
   "outputs": [],
   "source": [
    "matched_dots = pd.read_csv(\"field_001.gated_matched_dots.ref.tsv\", sep=\"\\t\")"
   ]
  },
  {
   "cell_type": "code",
   "execution_count": 5,
   "metadata": {},
   "outputs": [],
   "source": [
    "ref_raw = dots_data2.loc[\"raw\" == dots_data2[\"image_type\"], :].reset_index(drop=True)\n",
    "ref__dw = dots_data2.loc[\"dw\" == dots_data2[\"image_type\"], :].reset_index(drop=True)"
   ]
  },
  {
   "cell_type": "code",
   "execution_count": 6,
   "metadata": {},
   "outputs": [
    {
     "name": "stdout",
     "output_type": "stream",
     "text": [
      "Field #1\n"
     ]
    }
   ],
   "source": [
    "selected_raw_dots: List[pd.DataFrame] = []\n",
    "selected_dw__dots: List[pd.DataFrame] = []\n",
    "current_field_id = 1\n",
    "print(f\"Field #{current_field_id}\")\n",
    "\n",
    "field_raw_dots = ref_raw.loc[ref_raw[\"series_id\"] == current_field_id, :].sort_values(\"Value2\", ascending=False)\n",
    "field_dw__dots = ref__dw.loc[ref__dw[\"series_id\"] == current_field_id, :].sort_values(\"Value2\", ascending=False)\n",
    "\n",
    "matched_raw_dots = matched_dots.loc[matched_dots[\"series\"] == current_field_id, \"raw_id\"].values\n",
    "matched_dw__dots = matched_dots.loc[matched_dots[\"series\"] == current_field_id, \"dw__id\"].values\n",
    "\n",
    "selected_raw_dots.append(field_raw_dots.reset_index(drop=True).iloc[matched_raw_dots, :])\n",
    "selected_dw__dots.append(field_dw__dots.reset_index(drop=True).iloc[matched_dw__dots, :])"
   ]
  },
  {
   "cell_type": "code",
   "execution_count": 7,
   "metadata": {},
   "outputs": [],
   "source": [
    "pd.concat(selected_raw_dots).reset_index(drop=True).to_csv(\"field_001.ref_raw.gated.tsv\", sep=\"\\t\", index=False)"
   ]
  },
  {
   "cell_type": "code",
   "execution_count": 8,
   "metadata": {},
   "outputs": [],
   "source": [
    "pd.concat(selected_dw__dots).reset_index(drop=True).to_csv(\"field_001.ref__dw.gated.tsv\", sep=\"\\t\", index=False)"
   ]
  }
 ],
 "metadata": {
  "kernelspec": {
   "display_name": "Python 3",
   "language": "python",
   "name": "python3"
  },
  "language_info": {
   "codemirror_mode": {
    "name": "ipython",
    "version": 3
   },
   "file_extension": ".py",
   "mimetype": "text/x-python",
   "name": "python",
   "nbconvert_exporter": "python",
   "pygments_lexer": "ipython3",
   "version": "3.7.4"
  }
 },
 "nbformat": 4,
 "nbformat_minor": 4
}
